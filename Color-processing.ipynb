{
 "cells": [
  {
   "cell_type": "code",
   "execution_count": 1,
   "metadata": {},
   "outputs": [],
   "source": [
    "import pandas as pd\n",
    "import numpy as np\n",
    "import matplotlib.pyplot as plt\n",
    "import os\n",
    "from skimage import io\n",
    "from skimage.transform import resize, rotate\n",
    "from sklearn.cluster import KMeans\n",
    "from sklearn.feature_extraction.text import TfidfVectorizer\n",
    "from sklearn.model_selection import train_test_split,  KFold\n",
    "import warnings\n",
    "warnings.filterwarnings('ignore')"
   ]
  },
  {
   "cell_type": "code",
   "execution_count": 2,
   "metadata": {},
   "outputs": [],
   "source": [
    "acnh_im_list=os.listdir('acnh_color')\n",
    "doom_im_list=os.listdir('doom_color')"
   ]
  },
  {
   "cell_type": "code",
   "execution_count": 3,
   "metadata": {},
   "outputs": [],
   "source": [
    "doom=pd.read_csv('archive/doom_crossing_dataset.csv')\n",
    "acnh=pd.read_csv('archive/animal_crossing_dataset.csv')"
   ]
  },
  {
   "cell_type": "code",
   "execution_count": 4,
   "metadata": {},
   "outputs": [],
   "source": [
    "for idx, name in enumerate(doom['filename']):\n",
    "    doom['filename'][idx]=name.replace('jpg', 'png')"
   ]
  },
  {
   "cell_type": "code",
   "execution_count": 6,
   "metadata": {},
   "outputs": [],
   "source": [
    "for idx, name in enumerate(acnh['filename']):\n",
    "    acnh['filename'][idx]=name.replace('jpg', 'png')"
   ]
  },
  {
   "cell_type": "code",
   "execution_count": 7,
   "metadata": {},
   "outputs": [],
   "source": [
    "index_a=pd.Index(acnh['filename'])\n",
    "acnh_sub=pd.DataFrame(acnh['subreddit']).set_index(index_a)\n",
    "index_d=pd.Index(doom['filename'])\n",
    "doom_sub=pd.DataFrame(doom['subreddit']).set_index(index_d)\n",
    "y=pd.concat([doom_sub ,acnh_sub])"
   ]
  },
  {
   "cell_type": "code",
   "execution_count": 8,
   "metadata": {},
   "outputs": [],
   "source": [
    "acnh_file_map=pd.DataFrame({'filename':acnh['filename'], 'subreddit': acnh['subreddit']}).set_index(pd.Index(acnh['id']))\n",
    "doom_file_map=pd.DataFrame({'filename':doom['filename'], 'subreddit': doom['subreddit']}).set_index(pd.Index(doom['id']))\n",
    "file_map=pd.concat([doom_file_map, acnh_file_map])"
   ]
  },
  {
   "cell_type": "code",
   "execution_count": null,
   "metadata": {},
   "outputs": [],
   "source": [
    "col_names=[]\n",
    "for name in range(1, 33):\n",
    "    col_1=str(name)+'r'\n",
    "    col_names.append(col_1)\n",
    "    col_2=str(name)+'b'\n",
    "    col_names.append(col_2)\n",
    "    col_3=str(name)+'g'\n",
    "    col_names.append(col_3)\n",
    "    col_4=str(name)+'count'\n",
    "    col_names.append(col_4)"
   ]
  },
  {
   "cell_type": "code",
   "execution_count": null,
   "metadata": {},
   "outputs": [],
   "source": [
    "d={}\n",
    "for name in col_names:\n",
    "    d[name]=\n"
   ]
  },
  {
   "cell_type": "code",
   "execution_count": 76,
   "metadata": {},
   "outputs": [],
   "source": [
    "im=io.imread('doom_color/'+doom_im_list[69]).reshape(-1, 3)\n",
    "document=[]#corpus.append()\n",
    "for row in im:\n",
    "    r=(str(5*round(row[0]/5)))\n",
    "    b=(str(5*round(row[1]/5)))\n",
    "    g=(str(5*round(row[2]/5)))\n",
    "    document.append(r +', ' + b +', ' + g)"
   ]
  },
  {
   "cell_type": "code",
   "execution_count": 77,
   "metadata": {},
   "outputs": [],
   "source": [
    "d={}\n",
    "for colors in document:\n",
    "    if colors in d.keys():\n",
    "        d[colors]+=1\n",
    "    else:\n",
    "        d[colors]=1"
   ]
  },
  {
   "cell_type": "code",
   "execution_count": null,
   "metadata": {},
   "outputs": [],
   "source": [
    "type(list(d.values()))"
   ]
  },
  {
   "cell_type": "code",
   "execution_count": 97,
   "metadata": {},
   "outputs": [
    {
     "name": "stdout",
     "output_type": "stream",
     "text": [
      "430\n",
      "612\n",
      "798\n",
      "1053\n",
      "1110\n",
      "1209\n",
      "1278\n",
      "1377\n",
      "1526\n",
      "2028\n",
      "2207\n",
      "3120\n",
      "3141\n",
      "3395\n",
      "3666\n",
      "3876\n",
      "3902\n",
      "3989\n",
      "4592\n",
      "46691\n"
     ]
    }
   ],
   "source": [
    "d_cols={}\n",
    "vals=sorted(list(d.values()))\n",
    "for idx, val in enumerate(vals):\n",
    "    for k,v in d.items():\n",
    "        if v==val:\n",
    "            lst=k.split(', ')\n",
    "            int_lst=[int(float((num))) for num in lst]\n",
    "            d_cols[str(idx)+'count']=val\n",
    "            d_cols[str(idx)+'r']=int_lst[0]\n",
    "            d_cols[str(idx)+'b']=int_lst[1]\n",
    "            d_cols[str(idx)+'g']=int_lst[2]"
   ]
  },
  {
   "cell_type": "code",
   "execution_count": 98,
   "metadata": {},
   "outputs": [
    {
     "data": {
      "text/plain": [
       "{'0count': 430,\n",
       " '0r': 110,\n",
       " '0b': 25,\n",
       " '0g': 210,\n",
       " '1count': 612,\n",
       " '1r': 160,\n",
       " '1b': 50,\n",
       " '1g': 215,\n",
       " '2count': 798,\n",
       " '2r': 60,\n",
       " '2b': 15,\n",
       " '2g': 215,\n",
       " '3count': 1053,\n",
       " '3r': 205,\n",
       " '3b': 205,\n",
       " '3g': 245,\n",
       " '4count': 1110,\n",
       " '4r': 240,\n",
       " '4b': 150,\n",
       " '4g': 230,\n",
       " '5count': 1209,\n",
       " '5r': 235,\n",
       " '5b': 110,\n",
       " '5g': 220,\n",
       " '6count': 1278,\n",
       " '6r': 235,\n",
       " '6b': 230,\n",
       " '6g': 250,\n",
       " '7count': 1377,\n",
       " '7r': 225,\n",
       " '7b': 60,\n",
       " '7g': 210,\n",
       " '8count': 1526,\n",
       " '8r': 180,\n",
       " '8b': 180,\n",
       " '8g': 240,\n",
       " '9count': 2028,\n",
       " '9r': 160,\n",
       " '9b': 155,\n",
       " '9g': 235,\n",
       " '10count': 2207,\n",
       " '10r': 5,\n",
       " '10b': 0,\n",
       " '10g': 210,\n",
       " '11count': 3120,\n",
       " '11r': 95,\n",
       " '11b': 85,\n",
       " '11g': 225,\n",
       " '12count': 3141,\n",
       " '12r': 115,\n",
       " '12b': 110,\n",
       " '12g': 230,\n",
       " '13count': 3395,\n",
       " '13r': 75,\n",
       " '13b': 70,\n",
       " '13g': 225,\n",
       " '14count': 3666,\n",
       " '14r': 55,\n",
       " '14b': 55,\n",
       " '14g': 220,\n",
       " '15count': 3876,\n",
       " '15r': 135,\n",
       " '15b': 135,\n",
       " '15g': 235,\n",
       " '16count': 3902,\n",
       " '16r': 15,\n",
       " '16b': 15,\n",
       " '16g': 215,\n",
       " '17count': 3989,\n",
       " '17r': 40,\n",
       " '17b': 40,\n",
       " '17g': 220,\n",
       " '18count': 4592,\n",
       " '18r': 30,\n",
       " '18b': 25,\n",
       " '18g': 215,\n",
       " '19count': 46691,\n",
       " '19r': 255,\n",
       " '19b': 255,\n",
       " '19g': 255}"
      ]
     },
     "execution_count": 98,
     "metadata": {},
     "output_type": "execute_result"
    }
   ],
   "source": [
    "d_cols"
   ]
  },
  {
   "cell_type": "code",
   "execution_count": 9,
   "metadata": {},
   "outputs": [],
   "source": [
    "colors_doom=pd.DataFrame()\n",
    "color_words_doom=pd.DataFrame()\n",
    "for im in doom_im_list:\n",
    "    im=io.imread('doom_color/' + im).reshape(-1, 3)\n",
    "    document=[]#corpus.append()\n",
    "    for row in im:\n",
    "        r=(str(5*round(row[0]/5)))\n",
    "        b=(str(5*round(row[1]/5)))\n",
    "        g=(str(5*round(row[2]/5)))\n",
    "        document.append(r +', ' + b +', ' + g)\n",
    "        \n",
    "    d={}\n",
    "    for colors in document:\n",
    "        if colors in d.keys():\n",
    "            d[colors]+=1\n",
    "        else:\n",
    "            d[colors]=1\n",
    "            \n",
    "    color_words_doom=color_words_doom.append(d, ignore_index=True)\n",
    "    \n",
    "    d_cols={}\n",
    "    vals=sorted(list(d.values()))\n",
    "    for idx, val in enumerate(vals):\n",
    "        for k,v in d.items():\n",
    "            if v==val:\n",
    "                lst=k.split(', ')\n",
    "                int_lst=[int(float((num))) for num in lst]\n",
    "                d_cols[str(idx)+'count']=val\n",
    "                d_cols[str(idx)+'r']=int_lst[0]\n",
    "                d_cols[str(idx)+'b']=int_lst[1]\n",
    "                d_cols[str(idx)+'g']=int_lst[2]\n",
    "                \n",
    "    colors_doom=colors_doom.append(d_cols, ignore_index=True)"
   ]
  },
  {
   "cell_type": "code",
   "execution_count": 15,
   "metadata": {},
   "outputs": [],
   "source": [
    "cwd=color_words_doom.copy()\n",
    "cd=colors_doom.copy()"
   ]
  },
  {
   "cell_type": "code",
   "execution_count": 18,
   "metadata": {},
   "outputs": [],
   "source": [
    "cwd.set_index(index_d, inplace=True)\n",
    "cd.set_index(index_d, inplace=True)\n",
    "cwd.fillna(0, inplace=True)\n",
    "cd.fillna(0, inplace=True)"
   ]
  },
  {
   "cell_type": "code",
   "execution_count": 26,
   "metadata": {},
   "outputs": [
    {
     "data": {
      "text/plain": [
       "'/Users/johnwilliams/Heather/Galvanize/capstones/acnh_v_doom'"
      ]
     },
     "execution_count": 26,
     "metadata": {},
     "output_type": "execute_result"
    }
   ],
   "source": [
    "pwd"
   ]
  },
  {
   "cell_type": "code",
   "execution_count": 43,
   "metadata": {},
   "outputs": [],
   "source": [
    "cwd.to_csv('doom_colors_words.csv')\n",
    "cd.to_csv('doom_colors.csv')"
   ]
  },
  {
   "cell_type": "code",
   "execution_count": 33,
   "metadata": {},
   "outputs": [],
   "source": [
    "colors_acnh=pd.DataFrame()\n",
    "color_words_acnh=pd.DataFrame()\n",
    "rejects=[]\n",
    "for im in acnh_im_list:\n",
    "    try:\n",
    "        im=io.imread('acnh_color/' + im).reshape(-1, 3)\n",
    "        document=[]#corpus.append()\n",
    "        for row in im:\n",
    "            r=(str(5*round(row[0]/5)))\n",
    "            b=(str(5*round(row[1]/5)))\n",
    "            g=(str(5*round(row[2]/5)))\n",
    "            document.append(r +', ' + b +', ' + g)\n",
    "\n",
    "        d={}\n",
    "        for colors in document:\n",
    "            if colors in d.keys():\n",
    "                d[colors]+=1\n",
    "            else:\n",
    "                d[colors]=1\n",
    "\n",
    "        color_words_acnh=color_words_acnh.append(d, ignore_index=True)\n",
    "\n",
    "        d_cols={}\n",
    "        vals=sorted(list(d.values()))\n",
    "        for idx, val in enumerate(vals):\n",
    "            for k,v in d.items():\n",
    "                if v==val:\n",
    "                    lst=k.split(', ')\n",
    "                    int_lst=[int(float((num))) for num in lst]\n",
    "                    d_cols[str(idx)+'count']=val\n",
    "                    d_cols[str(idx)+'r']=int_lst[0]\n",
    "                    d_cols[str(idx)+'b']=int_lst[1]\n",
    "                    d_cols[str(idx)+'g']=int_lst[2]\n",
    "\n",
    "        colors_acnh=colors_acnh.append(d_cols, ignore_index=True)\n",
    "    except:\n",
    "        rejects.append(im)"
   ]
  },
  {
   "cell_type": "code",
   "execution_count": 44,
   "metadata": {},
   "outputs": [],
   "source": [
    "cwa=color_words_acnh.copy()\n",
    "ca=colors_acnh.copy()"
   ]
  },
  {
   "cell_type": "code",
   "execution_count": 45,
   "metadata": {},
   "outputs": [],
   "source": [
    "cwa.set_index(index_a, inplace=True)\n",
    "ca.set_index(index_a, inplace=True)\n",
    "cwa.fillna(0, inplace=True)\n",
    "ca.fillna(0, inplace=True)"
   ]
  },
  {
   "cell_type": "code",
   "execution_count": 47,
   "metadata": {},
   "outputs": [],
   "source": [
    "cwa.to_csv('acnh_colors_words.csv')\n",
    "ca.to_csv('acnh_colors.csv')"
   ]
  },
  {
   "cell_type": "code",
   "execution_count": 30,
   "metadata": {},
   "outputs": [],
   "source": [
    "pd.Index(acnh['filename'])"
   ]
  },
  {
   "cell_type": "code",
   "execution_count": 31,
   "metadata": {},
   "outputs": [
    {
     "ename": "TypeError",
     "evalue": "Image data of dtype <U17 cannot be converted to float",
     "output_type": "error",
     "traceback": [
      "\u001b[0;31m---------------------------------------------------------------------------\u001b[0m",
      "\u001b[0;31mTypeError\u001b[0m                                 Traceback (most recent call last)",
      "\u001b[0;32m<ipython-input-31-8b7b02a82a80>\u001b[0m in \u001b[0;36m<module>\u001b[0;34m\u001b[0m\n\u001b[1;32m      1\u001b[0m \u001b[0mfig\u001b[0m\u001b[0;34m,\u001b[0m \u001b[0max\u001b[0m\u001b[0;34m=\u001b[0m\u001b[0mplt\u001b[0m\u001b[0;34m.\u001b[0m\u001b[0msubplots\u001b[0m\u001b[0;34m(\u001b[0m\u001b[0mfigsize\u001b[0m\u001b[0;34m=\u001b[0m\u001b[0;34m(\u001b[0m\u001b[0;36m10\u001b[0m\u001b[0;34m,\u001b[0m\u001b[0;36m10\u001b[0m\u001b[0;34m)\u001b[0m\u001b[0;34m)\u001b[0m\u001b[0;34m\u001b[0m\u001b[0;34m\u001b[0m\u001b[0m\n\u001b[0;32m----> 2\u001b[0;31m \u001b[0max\u001b[0m\u001b[0;34m.\u001b[0m\u001b[0mimshow\u001b[0m\u001b[0;34m(\u001b[0m\u001b[0mpic\u001b[0m\u001b[0;34m)\u001b[0m\u001b[0;34m\u001b[0m\u001b[0;34m\u001b[0m\u001b[0m\n\u001b[0m",
      "\u001b[0;32m~/opt/anaconda3/lib/python3.8/site-packages/matplotlib/__init__.py\u001b[0m in \u001b[0;36minner\u001b[0;34m(ax, data, *args, **kwargs)\u001b[0m\n\u001b[1;32m   1563\u001b[0m     \u001b[0;32mdef\u001b[0m \u001b[0minner\u001b[0m\u001b[0;34m(\u001b[0m\u001b[0max\u001b[0m\u001b[0;34m,\u001b[0m \u001b[0;34m*\u001b[0m\u001b[0margs\u001b[0m\u001b[0;34m,\u001b[0m \u001b[0mdata\u001b[0m\u001b[0;34m=\u001b[0m\u001b[0;32mNone\u001b[0m\u001b[0;34m,\u001b[0m \u001b[0;34m**\u001b[0m\u001b[0mkwargs\u001b[0m\u001b[0;34m)\u001b[0m\u001b[0;34m:\u001b[0m\u001b[0;34m\u001b[0m\u001b[0;34m\u001b[0m\u001b[0m\n\u001b[1;32m   1564\u001b[0m         \u001b[0;32mif\u001b[0m \u001b[0mdata\u001b[0m \u001b[0;32mis\u001b[0m \u001b[0;32mNone\u001b[0m\u001b[0;34m:\u001b[0m\u001b[0;34m\u001b[0m\u001b[0;34m\u001b[0m\u001b[0m\n\u001b[0;32m-> 1565\u001b[0;31m             \u001b[0;32mreturn\u001b[0m \u001b[0mfunc\u001b[0m\u001b[0;34m(\u001b[0m\u001b[0max\u001b[0m\u001b[0;34m,\u001b[0m \u001b[0;34m*\u001b[0m\u001b[0mmap\u001b[0m\u001b[0;34m(\u001b[0m\u001b[0msanitize_sequence\u001b[0m\u001b[0;34m,\u001b[0m \u001b[0margs\u001b[0m\u001b[0;34m)\u001b[0m\u001b[0;34m,\u001b[0m \u001b[0;34m**\u001b[0m\u001b[0mkwargs\u001b[0m\u001b[0;34m)\u001b[0m\u001b[0;34m\u001b[0m\u001b[0;34m\u001b[0m\u001b[0m\n\u001b[0m\u001b[1;32m   1566\u001b[0m \u001b[0;34m\u001b[0m\u001b[0m\n\u001b[1;32m   1567\u001b[0m         \u001b[0mbound\u001b[0m \u001b[0;34m=\u001b[0m \u001b[0mnew_sig\u001b[0m\u001b[0;34m.\u001b[0m\u001b[0mbind\u001b[0m\u001b[0;34m(\u001b[0m\u001b[0max\u001b[0m\u001b[0;34m,\u001b[0m \u001b[0;34m*\u001b[0m\u001b[0margs\u001b[0m\u001b[0;34m,\u001b[0m \u001b[0;34m**\u001b[0m\u001b[0mkwargs\u001b[0m\u001b[0;34m)\u001b[0m\u001b[0;34m\u001b[0m\u001b[0;34m\u001b[0m\u001b[0m\n",
      "\u001b[0;32m~/opt/anaconda3/lib/python3.8/site-packages/matplotlib/cbook/deprecation.py\u001b[0m in \u001b[0;36mwrapper\u001b[0;34m(*args, **kwargs)\u001b[0m\n\u001b[1;32m    356\u001b[0m                 \u001b[0;34mf\"%(removal)s.  If any parameter follows {name!r}, they \"\u001b[0m\u001b[0;34m\u001b[0m\u001b[0;34m\u001b[0m\u001b[0m\n\u001b[1;32m    357\u001b[0m                 f\"should be pass as keyword, not positionally.\")\n\u001b[0;32m--> 358\u001b[0;31m         \u001b[0;32mreturn\u001b[0m \u001b[0mfunc\u001b[0m\u001b[0;34m(\u001b[0m\u001b[0;34m*\u001b[0m\u001b[0margs\u001b[0m\u001b[0;34m,\u001b[0m \u001b[0;34m**\u001b[0m\u001b[0mkwargs\u001b[0m\u001b[0;34m)\u001b[0m\u001b[0;34m\u001b[0m\u001b[0;34m\u001b[0m\u001b[0m\n\u001b[0m\u001b[1;32m    359\u001b[0m \u001b[0;34m\u001b[0m\u001b[0m\n\u001b[1;32m    360\u001b[0m     \u001b[0;32mreturn\u001b[0m \u001b[0mwrapper\u001b[0m\u001b[0;34m\u001b[0m\u001b[0;34m\u001b[0m\u001b[0m\n",
      "\u001b[0;32m~/opt/anaconda3/lib/python3.8/site-packages/matplotlib/cbook/deprecation.py\u001b[0m in \u001b[0;36mwrapper\u001b[0;34m(*args, **kwargs)\u001b[0m\n\u001b[1;32m    356\u001b[0m                 \u001b[0;34mf\"%(removal)s.  If any parameter follows {name!r}, they \"\u001b[0m\u001b[0;34m\u001b[0m\u001b[0;34m\u001b[0m\u001b[0m\n\u001b[1;32m    357\u001b[0m                 f\"should be pass as keyword, not positionally.\")\n\u001b[0;32m--> 358\u001b[0;31m         \u001b[0;32mreturn\u001b[0m \u001b[0mfunc\u001b[0m\u001b[0;34m(\u001b[0m\u001b[0;34m*\u001b[0m\u001b[0margs\u001b[0m\u001b[0;34m,\u001b[0m \u001b[0;34m**\u001b[0m\u001b[0mkwargs\u001b[0m\u001b[0;34m)\u001b[0m\u001b[0;34m\u001b[0m\u001b[0;34m\u001b[0m\u001b[0m\n\u001b[0m\u001b[1;32m    359\u001b[0m \u001b[0;34m\u001b[0m\u001b[0m\n\u001b[1;32m    360\u001b[0m     \u001b[0;32mreturn\u001b[0m \u001b[0mwrapper\u001b[0m\u001b[0;34m\u001b[0m\u001b[0;34m\u001b[0m\u001b[0m\n",
      "\u001b[0;32m~/opt/anaconda3/lib/python3.8/site-packages/matplotlib/axes/_axes.py\u001b[0m in \u001b[0;36mimshow\u001b[0;34m(self, X, cmap, norm, aspect, interpolation, alpha, vmin, vmax, origin, extent, shape, filternorm, filterrad, imlim, resample, url, **kwargs)\u001b[0m\n\u001b[1;32m   5624\u001b[0m                               resample=resample, **kwargs)\n\u001b[1;32m   5625\u001b[0m \u001b[0;34m\u001b[0m\u001b[0m\n\u001b[0;32m-> 5626\u001b[0;31m         \u001b[0mim\u001b[0m\u001b[0;34m.\u001b[0m\u001b[0mset_data\u001b[0m\u001b[0;34m(\u001b[0m\u001b[0mX\u001b[0m\u001b[0;34m)\u001b[0m\u001b[0;34m\u001b[0m\u001b[0;34m\u001b[0m\u001b[0m\n\u001b[0m\u001b[1;32m   5627\u001b[0m         \u001b[0mim\u001b[0m\u001b[0;34m.\u001b[0m\u001b[0mset_alpha\u001b[0m\u001b[0;34m(\u001b[0m\u001b[0malpha\u001b[0m\u001b[0;34m)\u001b[0m\u001b[0;34m\u001b[0m\u001b[0;34m\u001b[0m\u001b[0m\n\u001b[1;32m   5628\u001b[0m         \u001b[0;32mif\u001b[0m \u001b[0mim\u001b[0m\u001b[0;34m.\u001b[0m\u001b[0mget_clip_path\u001b[0m\u001b[0;34m(\u001b[0m\u001b[0;34m)\u001b[0m \u001b[0;32mis\u001b[0m \u001b[0;32mNone\u001b[0m\u001b[0;34m:\u001b[0m\u001b[0;34m\u001b[0m\u001b[0;34m\u001b[0m\u001b[0m\n",
      "\u001b[0;32m~/opt/anaconda3/lib/python3.8/site-packages/matplotlib/image.py\u001b[0m in \u001b[0;36mset_data\u001b[0;34m(self, A)\u001b[0m\n\u001b[1;32m    691\u001b[0m         if (self._A.dtype != np.uint8 and\n\u001b[1;32m    692\u001b[0m                 not np.can_cast(self._A.dtype, float, \"same_kind\")):\n\u001b[0;32m--> 693\u001b[0;31m             raise TypeError(\"Image data of dtype {} cannot be converted to \"\n\u001b[0m\u001b[1;32m    694\u001b[0m                             \"float\".format(self._A.dtype))\n\u001b[1;32m    695\u001b[0m \u001b[0;34m\u001b[0m\u001b[0m\n",
      "\u001b[0;31mTypeError\u001b[0m: Image data of dtype <U17 cannot be converted to float"
     ]
    },
    {
     "data": {
      "image/png": "[encoded data removed]",
      "text/plain": [
       "<Figure size 720x720 with 1 Axes>"
      ]
     },
     "metadata": {
      "needs_background": "light"
     },
     "output_type": "display_data"
    }
   ],
   "source": []
  },
  {
   "cell_type": "code",
   "execution_count": null,
   "metadata": {},
   "outputs": [],
   "source": []
  }
 ],
 "metadata": {
  "kernelspec": {
   "display_name": "Python 3",
   "language": "python",
   "name": "python3"
  },
  "language_info": {
   "codemirror_mode": {
    "name": "ipython",
    "version": 3
   },
   "file_extension": ".py",
   "mimetype": "text/x-python",
   "name": "python",
   "nbconvert_exporter": "python",
   "pygments_lexer": "ipython3",
   "version": "3.8.3"
  }
 },
 "nbformat": 4,
 "nbformat_minor": 4
}
