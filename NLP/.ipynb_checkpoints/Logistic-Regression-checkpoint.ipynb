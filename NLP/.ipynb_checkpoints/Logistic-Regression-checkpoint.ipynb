{
 "cells": [
  {
   "cell_type": "code",
   "execution_count": 317,
   "metadata": {},
   "outputs": [],
   "source": [
    "import pandas as pd\n",
    "import numpy as np\n",
    "import unicodedata\n",
    "from nltk.tokenize import sent_tokenize #tokenizes sentences\n",
    "from nltk.tokenize import word_tokenize #tokenizes words\n",
    "from nltk.corpus import stopwords\n",
    "import string\n",
    "from nltk.util import ngrams\n",
    "from nltk.stem.porter import PorterStemmer\n",
    "from nltk.stem.snowball import SnowballStemmer\n",
    "from nltk import pos_tag #tags the parts of speech.  VB=Verbs\n",
    "from nltk import RegexpParser\n",
    "from collections import Counter\n",
    "from sklearn.feature_extraction.text import CountVectorizer\n",
    "from sklearn.feature_extraction.text import TfidfTransformer\n",
    "from sklearn.naive_bayes import MultinomialNB\n",
    "from sklearn.model_selection import train_test_split,  KFold\n",
    "punctuation_ = set(string.punctuation)\n",
    "stopwords_ = set(stopwords.words('english'))\n",
    "import matplotlib.pyplot as plt\n",
    "import scipy.stats as scs\n",
    "from sklearn.linear_model import LogisticRegression\n",
    "from sklearn.metrics import log_loss\n",
    "from sklearn.metrics import recall_score\n",
    "from sklearn.metrics import accuracy_score\n",
    "from sklearn.feature_extraction.text import TfidfVectorizer\n",
    "from sklearn.metrics import confusion_matrix\n",
    "from sklearn.linear_model import LassoCV"
   ]
  },
  {
   "cell_type": "code",
   "execution_count": 13,
   "metadata": {},
   "outputs": [
    {
     "data": {
      "text/plain": [
       "Index(['subreddit', 'id', 'title', 'ups', 'downs', 'upvote_ratio',\n",
       "       'total_awards_received', 'num_comments', 'created_utc', 'url',\n",
       "       'filename'],\n",
       "      dtype='object')"
      ]
     },
     "execution_count": 13,
     "metadata": {},
     "output_type": "execute_result"
    }
   ],
   "source": [
    "acnh=pd.read_csv('../archive/animal_crossing_dataset.csv')\n",
    "acnh.columns"
   ]
  },
  {
   "cell_type": "code",
   "execution_count": 14,
   "metadata": {},
   "outputs": [
    {
     "data": {
      "text/plain": [
       "Index(['subreddit', 'id', 'title', 'ups', 'downs', 'upvote_ratio',\n",
       "       'total_awards_received', 'num_comments', 'created_utc', 'url',\n",
       "       'filename'],\n",
       "      dtype='object')"
      ]
     },
     "execution_count": 14,
     "metadata": {},
     "output_type": "execute_result"
    }
   ],
   "source": [
    "doom=pd.read_csv('../archive/doom_crossing_dataset.csv')\n",
    "doom.columns"
   ]
  },
  {
   "cell_type": "code",
   "execution_count": 15,
   "metadata": {},
   "outputs": [],
   "source": [
    "index_a=pd.Index(acnh['id'])\n",
    "acnh_sub=pd.DataFrame(acnh['subreddit']).set_index(index_a)\n",
    "index_d=pd.Index(doom['id'])\n",
    "doom_sub=pd.DataFrame(doom['subreddit']).set_index(index_d)"
   ]
  },
  {
   "cell_type": "code",
   "execution_count": 16,
   "metadata": {},
   "outputs": [],
   "source": [
    "Xa=pd.DataFrame(acnh['title']).set_index(index_a)\n",
    "Xd=pd.DataFrame(doom['title']).set_index(index_d)\n",
    "X_titles=pd.concat([Xd, Xa])\n",
    "y=pd.concat([doom_sub ,acnh_sub])\n",
    "for title in X_titles.iloc[:,0]:\n",
    "    title.replace('villagers', 'villager')"
   ]
  },
  {
   "cell_type": "code",
   "execution_count": 44,
   "metadata": {},
   "outputs": [],
   "source": [
    "y=pd.get_dummies(y)\n",
    "y=y.iloc[:,0]"
   ]
  },
  {
   "cell_type": "code",
   "execution_count": 45,
   "metadata": {},
   "outputs": [
    {
     "data": {
      "text/plain": [
       "id\n",
       "gtli3b    0\n",
       "fnj4e5    0\n",
       "gemj1h    0\n",
       "fzhpqt    0\n",
       "g4v23f    0\n",
       "         ..\n",
       "g9674v    1\n",
       "fnl57y    1\n",
       "g7mis1    1\n",
       "gtz9fa    1\n",
       "fmjv7l    1\n",
       "Name: AnimalCrossing, Length: 1597, dtype: uint8"
      ]
     },
     "execution_count": 45,
     "metadata": {},
     "output_type": "execute_result"
    }
   ],
   "source": [
    "y"
   ]
  },
  {
   "cell_type": "code",
   "execution_count": 76,
   "metadata": {},
   "outputs": [],
   "source": [
    "tfidf = TfidfVectorizer(stop_words='english', smooth_idf=True)  # Checkout out the options!\n",
    "\n",
    "document_tfidf_matrix = tfidf.fit_transform(X_titles.iloc[:,0])\n",
    "\n",
    "X_tf_idf = pd.DataFrame(document_tfidf_matrix.todense(), columns = tfidf.vocabulary_)\n",
    "X_tf_idf.set_index(X_titles.index, inplace=True)"
   ]
  },
  {
   "cell_type": "code",
   "execution_count": 77,
   "metadata": {},
   "outputs": [],
   "source": [
    "X_train, X_test, y_train, y_test = train_test_split(X_tf_idf, y, test_size=0.2)"
   ]
  },
  {
   "cell_type": "code",
   "execution_count": 78,
   "metadata": {},
   "outputs": [
    {
     "data": {
      "text/html": [
       "<div>\n",
       "<style scoped>\n",
       "    .dataframe tbody tr th:only-of-type {\n",
       "        vertical-align: middle;\n",
       "    }\n",
       "\n",
       "    .dataframe tbody tr th {\n",
       "        vertical-align: top;\n",
       "    }\n",
       "\n",
       "    .dataframe thead th {\n",
       "        text-align: right;\n",
       "    }\n",
       "</style>\n",
       "<table border=\"1\" class=\"dataframe\">\n",
       "  <thead>\n",
       "    <tr style=\"text-align: right;\">\n",
       "      <th></th>\n",
       "      <th>remember</th>\n",
       "      <th>fun</th>\n",
       "      <th>send</th>\n",
       "      <th>appreciacion</th>\n",
       "      <th>lead</th>\n",
       "      <th>sound</th>\n",
       "      <th>designer</th>\n",
       "      <th>id</th>\n",
       "      <th>chad</th>\n",
       "      <th>mossholder</th>\n",
       "      <th>...</th>\n",
       "      <th>aware</th>\n",
       "      <th>checked</th>\n",
       "      <th>spa</th>\n",
       "      <th>witchy</th>\n",
       "      <th>sleepy</th>\n",
       "      <th>holding</th>\n",
       "      <th>genuinely</th>\n",
       "      <th>38</th>\n",
       "      <th>friendship</th>\n",
       "      <th>screening</th>\n",
       "    </tr>\n",
       "    <tr>\n",
       "      <th>id</th>\n",
       "      <th></th>\n",
       "      <th></th>\n",
       "      <th></th>\n",
       "      <th></th>\n",
       "      <th></th>\n",
       "      <th></th>\n",
       "      <th></th>\n",
       "      <th></th>\n",
       "      <th></th>\n",
       "      <th></th>\n",
       "      <th></th>\n",
       "      <th></th>\n",
       "      <th></th>\n",
       "      <th></th>\n",
       "      <th></th>\n",
       "      <th></th>\n",
       "      <th></th>\n",
       "      <th></th>\n",
       "      <th></th>\n",
       "      <th></th>\n",
       "      <th></th>\n",
       "    </tr>\n",
       "  </thead>\n",
       "  <tbody>\n",
       "    <tr>\n",
       "      <th>f3t56m</th>\n",
       "      <td>0.0</td>\n",
       "      <td>0.0</td>\n",
       "      <td>0.0</td>\n",
       "      <td>0.0</td>\n",
       "      <td>0.0</td>\n",
       "      <td>0.0</td>\n",
       "      <td>0.0</td>\n",
       "      <td>0.0</td>\n",
       "      <td>0.0</td>\n",
       "      <td>0.0</td>\n",
       "      <td>...</td>\n",
       "      <td>0.0</td>\n",
       "      <td>0.0</td>\n",
       "      <td>0.0</td>\n",
       "      <td>0.0</td>\n",
       "      <td>0.0</td>\n",
       "      <td>0.0</td>\n",
       "      <td>0.0</td>\n",
       "      <td>0.0</td>\n",
       "      <td>0.0</td>\n",
       "      <td>0.0</td>\n",
       "    </tr>\n",
       "    <tr>\n",
       "      <th>ggeswq</th>\n",
       "      <td>0.0</td>\n",
       "      <td>0.0</td>\n",
       "      <td>0.0</td>\n",
       "      <td>0.0</td>\n",
       "      <td>0.0</td>\n",
       "      <td>0.0</td>\n",
       "      <td>0.0</td>\n",
       "      <td>0.0</td>\n",
       "      <td>0.0</td>\n",
       "      <td>0.0</td>\n",
       "      <td>...</td>\n",
       "      <td>0.0</td>\n",
       "      <td>0.0</td>\n",
       "      <td>0.0</td>\n",
       "      <td>0.0</td>\n",
       "      <td>0.0</td>\n",
       "      <td>0.0</td>\n",
       "      <td>0.0</td>\n",
       "      <td>0.0</td>\n",
       "      <td>0.0</td>\n",
       "      <td>0.0</td>\n",
       "    </tr>\n",
       "    <tr>\n",
       "      <th>fn2tf0</th>\n",
       "      <td>0.0</td>\n",
       "      <td>0.0</td>\n",
       "      <td>0.0</td>\n",
       "      <td>0.0</td>\n",
       "      <td>0.0</td>\n",
       "      <td>0.0</td>\n",
       "      <td>0.0</td>\n",
       "      <td>0.0</td>\n",
       "      <td>0.0</td>\n",
       "      <td>0.0</td>\n",
       "      <td>...</td>\n",
       "      <td>0.0</td>\n",
       "      <td>0.0</td>\n",
       "      <td>0.0</td>\n",
       "      <td>0.0</td>\n",
       "      <td>0.0</td>\n",
       "      <td>0.0</td>\n",
       "      <td>0.0</td>\n",
       "      <td>0.0</td>\n",
       "      <td>0.0</td>\n",
       "      <td>0.0</td>\n",
       "    </tr>\n",
       "    <tr>\n",
       "      <th>gsfnn9</th>\n",
       "      <td>0.0</td>\n",
       "      <td>0.0</td>\n",
       "      <td>0.0</td>\n",
       "      <td>0.0</td>\n",
       "      <td>0.0</td>\n",
       "      <td>0.0</td>\n",
       "      <td>0.0</td>\n",
       "      <td>0.0</td>\n",
       "      <td>0.0</td>\n",
       "      <td>0.0</td>\n",
       "      <td>...</td>\n",
       "      <td>0.0</td>\n",
       "      <td>0.0</td>\n",
       "      <td>0.0</td>\n",
       "      <td>0.0</td>\n",
       "      <td>0.0</td>\n",
       "      <td>0.0</td>\n",
       "      <td>0.0</td>\n",
       "      <td>0.0</td>\n",
       "      <td>0.0</td>\n",
       "      <td>0.0</td>\n",
       "    </tr>\n",
       "    <tr>\n",
       "      <th>gtcua3</th>\n",
       "      <td>0.0</td>\n",
       "      <td>0.0</td>\n",
       "      <td>0.0</td>\n",
       "      <td>0.0</td>\n",
       "      <td>0.0</td>\n",
       "      <td>0.0</td>\n",
       "      <td>0.0</td>\n",
       "      <td>0.0</td>\n",
       "      <td>0.0</td>\n",
       "      <td>0.0</td>\n",
       "      <td>...</td>\n",
       "      <td>0.0</td>\n",
       "      <td>0.0</td>\n",
       "      <td>0.0</td>\n",
       "      <td>0.0</td>\n",
       "      <td>0.0</td>\n",
       "      <td>0.0</td>\n",
       "      <td>0.0</td>\n",
       "      <td>0.0</td>\n",
       "      <td>0.0</td>\n",
       "      <td>0.0</td>\n",
       "    </tr>\n",
       "    <tr>\n",
       "      <th>...</th>\n",
       "      <td>...</td>\n",
       "      <td>...</td>\n",
       "      <td>...</td>\n",
       "      <td>...</td>\n",
       "      <td>...</td>\n",
       "      <td>...</td>\n",
       "      <td>...</td>\n",
       "      <td>...</td>\n",
       "      <td>...</td>\n",
       "      <td>...</td>\n",
       "      <td>...</td>\n",
       "      <td>...</td>\n",
       "      <td>...</td>\n",
       "      <td>...</td>\n",
       "      <td>...</td>\n",
       "      <td>...</td>\n",
       "      <td>...</td>\n",
       "      <td>...</td>\n",
       "      <td>...</td>\n",
       "      <td>...</td>\n",
       "      <td>...</td>\n",
       "    </tr>\n",
       "    <tr>\n",
       "      <th>gkxbg0</th>\n",
       "      <td>0.0</td>\n",
       "      <td>0.0</td>\n",
       "      <td>0.0</td>\n",
       "      <td>0.0</td>\n",
       "      <td>0.0</td>\n",
       "      <td>0.0</td>\n",
       "      <td>0.0</td>\n",
       "      <td>0.0</td>\n",
       "      <td>0.0</td>\n",
       "      <td>0.0</td>\n",
       "      <td>...</td>\n",
       "      <td>0.0</td>\n",
       "      <td>0.0</td>\n",
       "      <td>0.0</td>\n",
       "      <td>0.0</td>\n",
       "      <td>0.0</td>\n",
       "      <td>0.0</td>\n",
       "      <td>0.0</td>\n",
       "      <td>0.0</td>\n",
       "      <td>0.0</td>\n",
       "      <td>0.0</td>\n",
       "    </tr>\n",
       "    <tr>\n",
       "      <th>ezxfcs</th>\n",
       "      <td>0.0</td>\n",
       "      <td>0.0</td>\n",
       "      <td>0.0</td>\n",
       "      <td>0.0</td>\n",
       "      <td>0.0</td>\n",
       "      <td>0.0</td>\n",
       "      <td>0.0</td>\n",
       "      <td>0.0</td>\n",
       "      <td>0.0</td>\n",
       "      <td>0.0</td>\n",
       "      <td>...</td>\n",
       "      <td>0.0</td>\n",
       "      <td>0.0</td>\n",
       "      <td>0.0</td>\n",
       "      <td>0.0</td>\n",
       "      <td>0.0</td>\n",
       "      <td>0.0</td>\n",
       "      <td>0.0</td>\n",
       "      <td>0.0</td>\n",
       "      <td>0.0</td>\n",
       "      <td>0.0</td>\n",
       "    </tr>\n",
       "    <tr>\n",
       "      <th>fsud2a</th>\n",
       "      <td>0.0</td>\n",
       "      <td>0.0</td>\n",
       "      <td>0.0</td>\n",
       "      <td>0.0</td>\n",
       "      <td>0.0</td>\n",
       "      <td>0.0</td>\n",
       "      <td>0.0</td>\n",
       "      <td>0.0</td>\n",
       "      <td>0.0</td>\n",
       "      <td>0.0</td>\n",
       "      <td>...</td>\n",
       "      <td>0.0</td>\n",
       "      <td>0.0</td>\n",
       "      <td>0.0</td>\n",
       "      <td>0.0</td>\n",
       "      <td>0.0</td>\n",
       "      <td>0.0</td>\n",
       "      <td>0.0</td>\n",
       "      <td>0.0</td>\n",
       "      <td>0.0</td>\n",
       "      <td>0.0</td>\n",
       "    </tr>\n",
       "    <tr>\n",
       "      <th>fmh5xs</th>\n",
       "      <td>0.0</td>\n",
       "      <td>0.0</td>\n",
       "      <td>0.0</td>\n",
       "      <td>0.0</td>\n",
       "      <td>0.0</td>\n",
       "      <td>0.0</td>\n",
       "      <td>0.0</td>\n",
       "      <td>0.0</td>\n",
       "      <td>0.0</td>\n",
       "      <td>0.0</td>\n",
       "      <td>...</td>\n",
       "      <td>0.0</td>\n",
       "      <td>0.0</td>\n",
       "      <td>0.0</td>\n",
       "      <td>0.0</td>\n",
       "      <td>0.0</td>\n",
       "      <td>0.0</td>\n",
       "      <td>0.0</td>\n",
       "      <td>0.0</td>\n",
       "      <td>0.0</td>\n",
       "      <td>0.0</td>\n",
       "    </tr>\n",
       "    <tr>\n",
       "      <th>g2wev6</th>\n",
       "      <td>0.0</td>\n",
       "      <td>0.0</td>\n",
       "      <td>0.0</td>\n",
       "      <td>0.0</td>\n",
       "      <td>0.0</td>\n",
       "      <td>0.0</td>\n",
       "      <td>0.0</td>\n",
       "      <td>0.0</td>\n",
       "      <td>0.0</td>\n",
       "      <td>0.0</td>\n",
       "      <td>...</td>\n",
       "      <td>0.0</td>\n",
       "      <td>0.0</td>\n",
       "      <td>0.0</td>\n",
       "      <td>0.0</td>\n",
       "      <td>0.0</td>\n",
       "      <td>0.0</td>\n",
       "      <td>0.0</td>\n",
       "      <td>0.0</td>\n",
       "      <td>0.0</td>\n",
       "      <td>0.0</td>\n",
       "    </tr>\n",
       "  </tbody>\n",
       "</table>\n",
       "<p>1277 rows × 2875 columns</p>\n",
       "</div>"
      ],
      "text/plain": [
       "        remember  fun  send  appreciacion  lead  sound  designer   id  chad  \\\n",
       "id                                                                            \n",
       "f3t56m       0.0  0.0   0.0           0.0   0.0    0.0       0.0  0.0   0.0   \n",
       "ggeswq       0.0  0.0   0.0           0.0   0.0    0.0       0.0  0.0   0.0   \n",
       "fn2tf0       0.0  0.0   0.0           0.0   0.0    0.0       0.0  0.0   0.0   \n",
       "gsfnn9       0.0  0.0   0.0           0.0   0.0    0.0       0.0  0.0   0.0   \n",
       "gtcua3       0.0  0.0   0.0           0.0   0.0    0.0       0.0  0.0   0.0   \n",
       "...          ...  ...   ...           ...   ...    ...       ...  ...   ...   \n",
       "gkxbg0       0.0  0.0   0.0           0.0   0.0    0.0       0.0  0.0   0.0   \n",
       "ezxfcs       0.0  0.0   0.0           0.0   0.0    0.0       0.0  0.0   0.0   \n",
       "fsud2a       0.0  0.0   0.0           0.0   0.0    0.0       0.0  0.0   0.0   \n",
       "fmh5xs       0.0  0.0   0.0           0.0   0.0    0.0       0.0  0.0   0.0   \n",
       "g2wev6       0.0  0.0   0.0           0.0   0.0    0.0       0.0  0.0   0.0   \n",
       "\n",
       "        mossholder  ...  aware  checked  spa  witchy  sleepy  holding  \\\n",
       "id                  ...                                                 \n",
       "f3t56m         0.0  ...    0.0      0.0  0.0     0.0     0.0      0.0   \n",
       "ggeswq         0.0  ...    0.0      0.0  0.0     0.0     0.0      0.0   \n",
       "fn2tf0         0.0  ...    0.0      0.0  0.0     0.0     0.0      0.0   \n",
       "gsfnn9         0.0  ...    0.0      0.0  0.0     0.0     0.0      0.0   \n",
       "gtcua3         0.0  ...    0.0      0.0  0.0     0.0     0.0      0.0   \n",
       "...            ...  ...    ...      ...  ...     ...     ...      ...   \n",
       "gkxbg0         0.0  ...    0.0      0.0  0.0     0.0     0.0      0.0   \n",
       "ezxfcs         0.0  ...    0.0      0.0  0.0     0.0     0.0      0.0   \n",
       "fsud2a         0.0  ...    0.0      0.0  0.0     0.0     0.0      0.0   \n",
       "fmh5xs         0.0  ...    0.0      0.0  0.0     0.0     0.0      0.0   \n",
       "g2wev6         0.0  ...    0.0      0.0  0.0     0.0     0.0      0.0   \n",
       "\n",
       "        genuinely   38  friendship  screening  \n",
       "id                                             \n",
       "f3t56m        0.0  0.0         0.0        0.0  \n",
       "ggeswq        0.0  0.0         0.0        0.0  \n",
       "fn2tf0        0.0  0.0         0.0        0.0  \n",
       "gsfnn9        0.0  0.0         0.0        0.0  \n",
       "gtcua3        0.0  0.0         0.0        0.0  \n",
       "...           ...  ...         ...        ...  \n",
       "gkxbg0        0.0  0.0         0.0        0.0  \n",
       "ezxfcs        0.0  0.0         0.0        0.0  \n",
       "fsud2a        0.0  0.0         0.0        0.0  \n",
       "fmh5xs        0.0  0.0         0.0        0.0  \n",
       "g2wev6        0.0  0.0         0.0        0.0  \n",
       "\n",
       "[1277 rows x 2875 columns]"
      ]
     },
     "execution_count": 78,
     "metadata": {},
     "output_type": "execute_result"
    }
   ],
   "source": [
    "X_train"
   ]
  },
  {
   "cell_type": "code",
   "execution_count": 79,
   "metadata": {},
   "outputs": [
    {
     "name": "stderr",
     "output_type": "stream",
     "text": [
      "/Users/johnwilliams/opt/anaconda3/lib/python3.8/site-packages/sklearn/linear_model/_logistic.py:762: ConvergenceWarning: lbfgs failed to converge (status=1):\n",
      "STOP: TOTAL NO. of ITERATIONS REACHED LIMIT.\n",
      "\n",
      "Increase the number of iterations (max_iter) or scale the data as shown in:\n",
      "    https://scikit-learn.org/stable/modules/preprocessing.html\n",
      "Please also refer to the documentation for alternative solver options:\n",
      "    https://scikit-learn.org/stable/modules/linear_model.html#logistic-regression\n",
      "  n_iter_i = _check_optimize_result(\n"
     ]
    },
    {
     "data": {
      "text/plain": [
       "LogisticRegression(C=1000)"
      ]
     },
     "execution_count": 79,
     "metadata": {},
     "output_type": "execute_result"
    }
   ],
   "source": [
    "model_L2 = LogisticRegression(C=1000)#solver lbfgs, L2 cost function\n",
    "model_L2.fit(X_train, y_train)"
   ]
  },
  {
   "cell_type": "code",
   "execution_count": 80,
   "metadata": {},
   "outputs": [],
   "source": [
    "yhat=model_L2.predict(X_test)"
   ]
  },
  {
   "cell_type": "code",
   "execution_count": 81,
   "metadata": {},
   "outputs": [
    {
     "data": {
      "text/plain": [
       "44.61302021199755"
      ]
     },
     "execution_count": 81,
     "metadata": {},
     "output_type": "execute_result"
    }
   ],
   "source": [
    "train_pred_probs = model_L2.predict_proba(X_train)\n",
    "log_loss(y_train, train_pred_probs, normalize=False)#total log loss for the "
   ]
  },
  {
   "cell_type": "code",
   "execution_count": 82,
   "metadata": {},
   "outputs": [],
   "source": [
    "train_pred_probs\n",
    "df = pd.DataFrame({'prob': train_pred_probs[:,1], 'y': y_train})\n",
    "df.sort_values('prob', inplace=True)\n",
    "\n",
    "actual_p = df.y.sum()\n",
    "actual_n = df.shape[0] - df.y.sum()"
   ]
  },
  {
   "cell_type": "code",
   "execution_count": 83,
   "metadata": {},
   "outputs": [],
   "source": [
    "tn, fp, fn, tp=confusion_matrix(y_test, yhat).ravel()"
   ]
  },
  {
   "cell_type": "code",
   "execution_count": 84,
   "metadata": {},
   "outputs": [
    {
     "data": {
      "text/plain": [
       "[[106, 45], [43, 126]]"
      ]
     },
     "execution_count": 84,
     "metadata": {},
     "output_type": "execute_result"
    }
   ],
   "source": [
    "conf_mat=[[tp, fn],[fp, tn]]\n",
    "conf_mat"
   ]
  },
  {
   "cell_type": "code",
   "execution_count": 294,
   "metadata": {},
   "outputs": [],
   "source": [
    "def calculate_threshold_values(prob, y):\n",
    "    '''\n",
    "    Build dataframe of the various confusion-matrix ratios by threshold\n",
    "    from a list of predicted probabilities and actual y values\n",
    "    '''\n",
    "    df = pd.DataFrame({'prob': prob, 'y': y})\n",
    "    df.sort_values('prob', inplace=True)\n",
    "    \n",
    "    actual_p = df.y.sum()\n",
    "    actual_n = df.shape[0] - df.y.sum()\n",
    "\n",
    "    df['tn'] = (df.y == 0).cumsum()\n",
    "    df['fn'] = df.y.cumsum()\n",
    "    df['fp'] = actual_n - df.tn\n",
    "    df['tp'] = actual_p - df.fn\n",
    "\n",
    "    df['fpr'] = df.fp/(df.fp + df.tn)\n",
    "    df['tpr'] = df.tp/(df.tp + df.fn)\n",
    "    df['precision'] = df.tp/(df.tp + df.fp)\n",
    "    df['F1'] = 2*((df.tp/(df.tp + df.fp)) * (df.tp/(df.tp + df.fn)))/((df.tp/(df.tp + df.fp)) + (df.tp/(df.tp + df.fn)))\n",
    "    df = df.reset_index(drop=True)\n",
    "    return df\n",
    "    \n",
    "def plot_roc(ax, df, val):\n",
    "    ax.plot([1]+list(df.fpr), [1]+list(df.tpr), label=\"ROC\"+f'{1/val} Regularization Constant')\n",
    "    #ax.plot([0,1],[0,1], 'k', label=\"random\")\n",
    "    ax.set_xlabel('fpr', fontsize=14)\n",
    "    ax.set_ylabel('tpr', fontsize=14)\n",
    "    #ax.set_title('ROC Curve')\n",
    "    ax.legend()\n",
    "    \n",
    "def plot_precision_recall(ax, df):\n",
    "    ax.plot(df.tpr,df.precision, label='precision/recall')\n",
    "    #ax.plot([0,1],[0,1], 'k')\n",
    "    ax.set_xlabel('recall')\n",
    "    ax.set_ylabel('precision')\n",
    "    ax.set_title('Precision/Recall Curve')\n",
    "    ax.plot([0,1],[df.precision[0],df.precision[0]], 'k', label='random')\n",
    "    ax.set_xlim(xmin=0,xmax=1)\n",
    "    ax.set_ylim(ymin=0,ymax=1)\n",
    "    ax.legend()"
   ]
  },
  {
   "cell_type": "code",
   "execution_count": 90,
   "metadata": {},
   "outputs": [
    {
     "data": {
      "text/plain": [
       "remember        0.000000\n",
       "fun             0.000000\n",
       "send            0.001766\n",
       "appreciacion    0.000000\n",
       "lead            0.003540\n",
       "                  ...   \n",
       "holding         0.000000\n",
       "genuinely       0.000000\n",
       "38              0.000000\n",
       "friendship      0.000000\n",
       "screening       0.000000\n",
       "Length: 2875, dtype: float64"
      ]
     },
     "execution_count": 90,
     "metadata": {},
     "output_type": "execute_result"
    }
   ],
   "source": [
    "X_test[y_test==0].mean(axis=0)"
   ]
  },
  {
   "cell_type": "code",
   "execution_count": 96,
   "metadata": {},
   "outputs": [],
   "source": [
    "model_L2 = LogisticRegression(C=1000)#solver lbfgs, L2 cost function\n",
    "model_L2.fit(X_train, y_train)"
   ]
  },
  {
   "cell_type": "code",
   "execution_count": 122,
   "metadata": {},
   "outputs": [],
   "source": [
    "mkdir log_regres bagging grad_boost"
   ]
  },
  {
   "cell_type": "code",
   "execution_count": 98,
   "metadata": {},
   "outputs": [
    {
     "data": {
      "image/png": "[encoded data removed]",
      "text/plain": [
       "<Figure size 1296x432 with 2 Axes>"
      ]
     },
     "metadata": {
      "needs_background": "light"
     },
     "output_type": "display_data"
    }
   ],
   "source": [
    "fig, (ax0, ax1) = plt.subplots(1,2, figsize=(18,6))\n",
    "df = calculate_threshold_values(model_L2.predict_proba(X_test)[:,1], y_test)\n",
    "plot_roc(ax0, df)\n",
    "plot_precision_recall(ax1, df)"
   ]
  },
  {
   "cell_type": "code",
   "execution_count": 316,
   "metadata": {},
   "outputs": [
    {
     "data": {
      "image/png": "[encoded data removed]",
      "text/plain": [
       "<Figure size 648x648 with 1 Axes>"
      ]
     },
     "metadata": {},
     "output_type": "display_data"
    }
   ],
   "source": [
    "fig, (ax0) = plt.subplots(figsize=(9,9))\n",
    "plt.style.use('bmh')\n",
    "C_val=[0.1, 0.5, 1, 500, 1000]\n",
    "for val in C_val:\n",
    "    model_C = LogisticRegression(C=val, max_iter=300)#solver lbfgs, L2 cost function\n",
    "    model_C.fit(X_train, y_train)\n",
    "    df = calculate_threshold_values(model_C.predict_proba(X_test)[:,1], y_test)\n",
    "    plot_roc(ax0, df, val)\n",
    "ax0.set_xlim(-0.05, 1)\n",
    "ax0.set_ylim(0, 1.05)\n",
    "ax0.plot([0,1],[0,1], 'k', label=\"random\")\n",
    "ax0.legend(fontsize=14)\n",
    "ax0.set_title('ROC Curve of Title Prediction as a Function of Regularization-Logistic Regression', fontsize=14);\n",
    "plt.savefig('log_regres/Title_ROC_reg', bbox_inches='tight')"
   ]
  },
  {
   "cell_type": "code",
   "execution_count": 129,
   "metadata": {},
   "outputs": [],
   "source": [
    "from sklearn.linear_model import LogisticRegressionCV"
   ]
  },
  {
   "cell_type": "code",
   "execution_count": 133,
   "metadata": {},
   "outputs": [
    {
     "data": {
      "text/plain": [
       "dict_keys(['explained_variance', 'r2', 'max_error', 'neg_median_absolute_error', 'neg_mean_absolute_error', 'neg_mean_squared_error', 'neg_mean_squared_log_error', 'neg_root_mean_squared_error', 'neg_mean_poisson_deviance', 'neg_mean_gamma_deviance', 'accuracy', 'roc_auc', 'roc_auc_ovr', 'roc_auc_ovo', 'roc_auc_ovr_weighted', 'roc_auc_ovo_weighted', 'balanced_accuracy', 'average_precision', 'neg_log_loss', 'neg_brier_score', 'adjusted_rand_score', 'homogeneity_score', 'completeness_score', 'v_measure_score', 'mutual_info_score', 'adjusted_mutual_info_score', 'normalized_mutual_info_score', 'fowlkes_mallows_score', 'precision', 'precision_macro', 'precision_micro', 'precision_samples', 'precision_weighted', 'recall', 'recall_macro', 'recall_micro', 'recall_samples', 'recall_weighted', 'f1', 'f1_macro', 'f1_micro', 'f1_samples', 'f1_weighted', 'jaccard', 'jaccard_macro', 'jaccard_micro', 'jaccard_samples', 'jaccard_weighted'])"
      ]
     },
     "execution_count": 133,
     "metadata": {},
     "output_type": "execute_result"
    }
   ],
   "source": [
    "metrics.SCORERS.keys()"
   ]
  },
  {
   "cell_type": "code",
   "execution_count": 137,
   "metadata": {},
   "outputs": [
    {
     "name": "stderr",
     "output_type": "stream",
     "text": [
      "/Users/johnwilliams/opt/anaconda3/lib/python3.8/site-packages/sklearn/utils/validation.py:68: FutureWarning: Pass Cs=3 as keyword args. From version 0.25 passing these as positional arguments will result in an error\n",
      "  warnings.warn(\"Pass {} as keyword args. From version 0.25 \"\n"
     ]
    },
    {
     "data": {
      "text/plain": [
       "LogisticRegressionCV(Cs=3, cv=10, max_iter=1000, scoring='recall')"
      ]
     },
     "execution_count": 137,
     "metadata": {},
     "output_type": "execute_result"
    }
   ],
   "source": [
    "model_cv=LogisticRegressionCV(3, cv=10, scoring='recall', max_iter=1000)\n",
    "model_cv.fit(X_train, y_train)"
   ]
  },
  {
   "cell_type": "code",
   "execution_count": 198,
   "metadata": {},
   "outputs": [],
   "source": [
    "import warnings\n",
    "warnings.simplefilter(\"ignore\")\n",
    "from sklearn.preprocessing import StandardScaler"
   ]
  },
  {
   "cell_type": "code",
   "execution_count": 328,
   "metadata": {},
   "outputs": [],
   "source": [
    "C_val=np.linspace(0.001, 5, 200)"
   ]
  },
  {
   "cell_type": "code",
   "execution_count": 329,
   "metadata": {},
   "outputs": [],
   "source": [
    "def train_at_various_alphas(X, y, model, alphas, n_folds=10, **kwargs):\n",
    "    \"\"\"Train a regularized regression model using cross validation at various\n",
    "    values of alpha.\n",
    "    \n",
    "    Parameters\n",
    "    ----------\n",
    "    \n",
    "    X: np.array\n",
    "      Matrix of predictors.\n",
    "      \n",
    "    y: np.array\n",
    "      Target array.\n",
    "      \n",
    "    model: sklearn model class\n",
    "      A class in sklearn that can be used to create a regularized regression\n",
    "      object.  Options are `Ridge` and `Lasso`.\n",
    "      \n",
    "    alphas: numpy array\n",
    "      An array of regularization parameters.\n",
    "      \n",
    "    n_folds: int\n",
    "      Number of cross validation folds.\n",
    "      \n",
    "    Returns\n",
    "    -------\n",
    "    \n",
    "    cv_errors_train, cv_errors_test: tuple of DataFrame\n",
    "      DataFrames containing the training and testing errors for each value of\n",
    "      alpha and each cross validation fold.  Each row represents a CV fold, and\n",
    "      each column a value of alpha.\n",
    "    \"\"\"\n",
    "    cv_errors_train = pd.DataFrame(np.empty(shape=(n_folds, len(alphas))),\n",
    "                                     columns=alphas)\n",
    "    cv_errors_test = pd.DataFrame(np.empty(shape=(n_folds, len(alphas))),\n",
    "                                        columns=alphas)\n",
    "    for alpha in alphas:\n",
    "        kf = KFold(n_splits=n_folds)\n",
    "        \n",
    "        for idx, (train, test) in enumerate(kf.split(X)):\n",
    "    \n",
    "            X_cv_train, y_cv_train = X.iloc[train], y.iloc[train]\n",
    "            X_cv_test, y_cv_test = X.iloc[test], y.iloc[test]\n",
    "      \n",
    "            standardizer = StandardScaler()\n",
    "            standardizer.fit(X_cv_train)\n",
    "            X_cv_train_std= standardizer.transform(X_cv_train)\n",
    "            X_cv_test_std= standardizer.transform(X_cv_test)\n",
    "            \n",
    "            m = model(C = alpha, max_iter=1000)\n",
    "            m.fit(X_cv_train_std, y_cv_train)\n",
    "        \n",
    "            y_hat_train = m.predict(X_cv_train_std)\n",
    "            y_hat_test = m.predict(X_cv_test_std)\n",
    "        \n",
    "            cv_errors_train[alpha][idx] = accuracy_score(y_cv_train, y_hat_train)\n",
    "            cv_errors_test[alpha][idx] = accuracy_score(y_cv_test, y_hat_test)\n",
    "\n",
    "    return cv_errors_train, cv_errors_test"
   ]
  },
  {
   "cell_type": "code",
   "execution_count": 330,
   "metadata": {},
   "outputs": [],
   "source": [
    "cv_errors_train, cv_errors_test = train_at_various_alphas(\n",
    "    X_train, y_train, LogisticRegression, C_val)  #these are dataframes cols are alpha, index are the folds, mean sq error as vals"
   ]
  },
  {
   "cell_type": "code",
   "execution_count": 355,
   "metadata": {},
   "outputs": [
    {
     "data": {
      "text/html": [
       "<div>\n",
       "<style scoped>\n",
       "    .dataframe tbody tr th:only-of-type {\n",
       "        vertical-align: middle;\n",
       "    }\n",
       "\n",
       "    .dataframe tbody tr th {\n",
       "        vertical-align: top;\n",
       "    }\n",
       "\n",
       "    .dataframe thead th {\n",
       "        text-align: right;\n",
       "    }\n",
       "</style>\n",
       "<table border=\"1\" class=\"dataframe\">\n",
       "  <thead>\n",
       "    <tr style=\"text-align: right;\">\n",
       "      <th></th>\n",
       "      <th>0.001000</th>\n",
       "      <th>0.026121</th>\n",
       "      <th>0.051241</th>\n",
       "      <th>0.076362</th>\n",
       "      <th>0.101482</th>\n",
       "      <th>0.126603</th>\n",
       "      <th>0.151724</th>\n",
       "      <th>0.176844</th>\n",
       "      <th>0.201965</th>\n",
       "      <th>0.227085</th>\n",
       "      <th>...</th>\n",
       "      <th>4.773915</th>\n",
       "      <th>4.799035</th>\n",
       "      <th>4.824156</th>\n",
       "      <th>4.849276</th>\n",
       "      <th>4.874397</th>\n",
       "      <th>4.899518</th>\n",
       "      <th>4.924638</th>\n",
       "      <th>4.949759</th>\n",
       "      <th>4.974879</th>\n",
       "      <th>5.000000</th>\n",
       "    </tr>\n",
       "  </thead>\n",
       "  <tbody>\n",
       "    <tr>\n",
       "      <th>0</th>\n",
       "      <td>0.972150</td>\n",
       "      <td>0.982594</td>\n",
       "      <td>0.981723</td>\n",
       "      <td>0.981723</td>\n",
       "      <td>0.981723</td>\n",
       "      <td>0.981723</td>\n",
       "      <td>0.982594</td>\n",
       "      <td>0.982594</td>\n",
       "      <td>0.982594</td>\n",
       "      <td>0.982594</td>\n",
       "      <td>...</td>\n",
       "      <td>0.982594</td>\n",
       "      <td>0.982594</td>\n",
       "      <td>0.982594</td>\n",
       "      <td>0.982594</td>\n",
       "      <td>0.982594</td>\n",
       "      <td>0.982594</td>\n",
       "      <td>0.982594</td>\n",
       "      <td>0.982594</td>\n",
       "      <td>0.982594</td>\n",
       "      <td>0.982594</td>\n",
       "    </tr>\n",
       "    <tr>\n",
       "      <th>1</th>\n",
       "      <td>0.976501</td>\n",
       "      <td>0.984334</td>\n",
       "      <td>0.984334</td>\n",
       "      <td>0.984334</td>\n",
       "      <td>0.984334</td>\n",
       "      <td>0.984334</td>\n",
       "      <td>0.984334</td>\n",
       "      <td>0.984334</td>\n",
       "      <td>0.984334</td>\n",
       "      <td>0.984334</td>\n",
       "      <td>...</td>\n",
       "      <td>0.984334</td>\n",
       "      <td>0.984334</td>\n",
       "      <td>0.984334</td>\n",
       "      <td>0.984334</td>\n",
       "      <td>0.984334</td>\n",
       "      <td>0.984334</td>\n",
       "      <td>0.984334</td>\n",
       "      <td>0.984334</td>\n",
       "      <td>0.984334</td>\n",
       "      <td>0.984334</td>\n",
       "    </tr>\n",
       "    <tr>\n",
       "      <th>2</th>\n",
       "      <td>0.968668</td>\n",
       "      <td>0.980853</td>\n",
       "      <td>0.980853</td>\n",
       "      <td>0.981723</td>\n",
       "      <td>0.980853</td>\n",
       "      <td>0.980853</td>\n",
       "      <td>0.980853</td>\n",
       "      <td>0.980853</td>\n",
       "      <td>0.980853</td>\n",
       "      <td>0.980853</td>\n",
       "      <td>...</td>\n",
       "      <td>0.980853</td>\n",
       "      <td>0.980853</td>\n",
       "      <td>0.980853</td>\n",
       "      <td>0.980853</td>\n",
       "      <td>0.980853</td>\n",
       "      <td>0.980853</td>\n",
       "      <td>0.980853</td>\n",
       "      <td>0.980853</td>\n",
       "      <td>0.980853</td>\n",
       "      <td>0.980853</td>\n",
       "    </tr>\n",
       "    <tr>\n",
       "      <th>3</th>\n",
       "      <td>0.979112</td>\n",
       "      <td>0.986075</td>\n",
       "      <td>0.986075</td>\n",
       "      <td>0.986075</td>\n",
       "      <td>0.986075</td>\n",
       "      <td>0.986075</td>\n",
       "      <td>0.986075</td>\n",
       "      <td>0.986075</td>\n",
       "      <td>0.986075</td>\n",
       "      <td>0.986075</td>\n",
       "      <td>...</td>\n",
       "      <td>0.986075</td>\n",
       "      <td>0.986075</td>\n",
       "      <td>0.986075</td>\n",
       "      <td>0.986075</td>\n",
       "      <td>0.986075</td>\n",
       "      <td>0.986075</td>\n",
       "      <td>0.986075</td>\n",
       "      <td>0.986075</td>\n",
       "      <td>0.986075</td>\n",
       "      <td>0.986075</td>\n",
       "    </tr>\n",
       "    <tr>\n",
       "      <th>4</th>\n",
       "      <td>0.968668</td>\n",
       "      <td>0.984334</td>\n",
       "      <td>0.984334</td>\n",
       "      <td>0.984334</td>\n",
       "      <td>0.984334</td>\n",
       "      <td>0.984334</td>\n",
       "      <td>0.984334</td>\n",
       "      <td>0.984334</td>\n",
       "      <td>0.984334</td>\n",
       "      <td>0.984334</td>\n",
       "      <td>...</td>\n",
       "      <td>0.984334</td>\n",
       "      <td>0.984334</td>\n",
       "      <td>0.984334</td>\n",
       "      <td>0.984334</td>\n",
       "      <td>0.984334</td>\n",
       "      <td>0.984334</td>\n",
       "      <td>0.984334</td>\n",
       "      <td>0.984334</td>\n",
       "      <td>0.984334</td>\n",
       "      <td>0.984334</td>\n",
       "    </tr>\n",
       "    <tr>\n",
       "      <th>5</th>\n",
       "      <td>0.976501</td>\n",
       "      <td>0.980853</td>\n",
       "      <td>0.979983</td>\n",
       "      <td>0.979983</td>\n",
       "      <td>0.980853</td>\n",
       "      <td>0.981723</td>\n",
       "      <td>0.981723</td>\n",
       "      <td>0.981723</td>\n",
       "      <td>0.981723</td>\n",
       "      <td>0.981723</td>\n",
       "      <td>...</td>\n",
       "      <td>0.981723</td>\n",
       "      <td>0.981723</td>\n",
       "      <td>0.981723</td>\n",
       "      <td>0.981723</td>\n",
       "      <td>0.981723</td>\n",
       "      <td>0.981723</td>\n",
       "      <td>0.981723</td>\n",
       "      <td>0.981723</td>\n",
       "      <td>0.981723</td>\n",
       "      <td>0.981723</td>\n",
       "    </tr>\n",
       "    <tr>\n",
       "      <th>6</th>\n",
       "      <td>0.972150</td>\n",
       "      <td>0.976501</td>\n",
       "      <td>0.976501</td>\n",
       "      <td>0.976501</td>\n",
       "      <td>0.976501</td>\n",
       "      <td>0.976501</td>\n",
       "      <td>0.977372</td>\n",
       "      <td>0.977372</td>\n",
       "      <td>0.977372</td>\n",
       "      <td>0.977372</td>\n",
       "      <td>...</td>\n",
       "      <td>0.978242</td>\n",
       "      <td>0.978242</td>\n",
       "      <td>0.978242</td>\n",
       "      <td>0.978242</td>\n",
       "      <td>0.978242</td>\n",
       "      <td>0.978242</td>\n",
       "      <td>0.978242</td>\n",
       "      <td>0.978242</td>\n",
       "      <td>0.978242</td>\n",
       "      <td>0.978242</td>\n",
       "    </tr>\n",
       "    <tr>\n",
       "      <th>7</th>\n",
       "      <td>0.972174</td>\n",
       "      <td>0.978261</td>\n",
       "      <td>0.977391</td>\n",
       "      <td>0.977391</td>\n",
       "      <td>0.978261</td>\n",
       "      <td>0.979130</td>\n",
       "      <td>0.979130</td>\n",
       "      <td>0.979130</td>\n",
       "      <td>0.979130</td>\n",
       "      <td>0.979130</td>\n",
       "      <td>...</td>\n",
       "      <td>0.979130</td>\n",
       "      <td>0.979130</td>\n",
       "      <td>0.979130</td>\n",
       "      <td>0.979130</td>\n",
       "      <td>0.979130</td>\n",
       "      <td>0.979130</td>\n",
       "      <td>0.979130</td>\n",
       "      <td>0.979130</td>\n",
       "      <td>0.979130</td>\n",
       "      <td>0.979130</td>\n",
       "    </tr>\n",
       "    <tr>\n",
       "      <th>8</th>\n",
       "      <td>0.965217</td>\n",
       "      <td>0.982609</td>\n",
       "      <td>0.982609</td>\n",
       "      <td>0.982609</td>\n",
       "      <td>0.982609</td>\n",
       "      <td>0.982609</td>\n",
       "      <td>0.982609</td>\n",
       "      <td>0.982609</td>\n",
       "      <td>0.982609</td>\n",
       "      <td>0.982609</td>\n",
       "      <td>...</td>\n",
       "      <td>0.982609</td>\n",
       "      <td>0.982609</td>\n",
       "      <td>0.982609</td>\n",
       "      <td>0.982609</td>\n",
       "      <td>0.982609</td>\n",
       "      <td>0.982609</td>\n",
       "      <td>0.982609</td>\n",
       "      <td>0.982609</td>\n",
       "      <td>0.982609</td>\n",
       "      <td>0.982609</td>\n",
       "    </tr>\n",
       "    <tr>\n",
       "      <th>9</th>\n",
       "      <td>0.972174</td>\n",
       "      <td>0.979130</td>\n",
       "      <td>0.980000</td>\n",
       "      <td>0.980870</td>\n",
       "      <td>0.980870</td>\n",
       "      <td>0.980870</td>\n",
       "      <td>0.980870</td>\n",
       "      <td>0.980870</td>\n",
       "      <td>0.980870</td>\n",
       "      <td>0.980870</td>\n",
       "      <td>...</td>\n",
       "      <td>0.980870</td>\n",
       "      <td>0.980870</td>\n",
       "      <td>0.980870</td>\n",
       "      <td>0.980870</td>\n",
       "      <td>0.980870</td>\n",
       "      <td>0.980870</td>\n",
       "      <td>0.980870</td>\n",
       "      <td>0.980870</td>\n",
       "      <td>0.980870</td>\n",
       "      <td>0.980870</td>\n",
       "    </tr>\n",
       "  </tbody>\n",
       "</table>\n",
       "<p>10 rows × 200 columns</p>\n",
       "</div>"
      ],
      "text/plain": [
       "   0.001000  0.026121  0.051241  0.076362  0.101482  0.126603  0.151724  \\\n",
       "0  0.972150  0.982594  0.981723  0.981723  0.981723  0.981723  0.982594   \n",
       "1  0.976501  0.984334  0.984334  0.984334  0.984334  0.984334  0.984334   \n",
       "2  0.968668  0.980853  0.980853  0.981723  0.980853  0.980853  0.980853   \n",
       "3  0.979112  0.986075  0.986075  0.986075  0.986075  0.986075  0.986075   \n",
       "4  0.968668  0.984334  0.984334  0.984334  0.984334  0.984334  0.984334   \n",
       "5  0.976501  0.980853  0.979983  0.979983  0.980853  0.981723  0.981723   \n",
       "6  0.972150  0.976501  0.976501  0.976501  0.976501  0.976501  0.977372   \n",
       "7  0.972174  0.978261  0.977391  0.977391  0.978261  0.979130  0.979130   \n",
       "8  0.965217  0.982609  0.982609  0.982609  0.982609  0.982609  0.982609   \n",
       "9  0.972174  0.979130  0.980000  0.980870  0.980870  0.980870  0.980870   \n",
       "\n",
       "   0.176844  0.201965  0.227085  ...  4.773915  4.799035  4.824156  4.849276  \\\n",
       "0  0.982594  0.982594  0.982594  ...  0.982594  0.982594  0.982594  0.982594   \n",
       "1  0.984334  0.984334  0.984334  ...  0.984334  0.984334  0.984334  0.984334   \n",
       "2  0.980853  0.980853  0.980853  ...  0.980853  0.980853  0.980853  0.980853   \n",
       "3  0.986075  0.986075  0.986075  ...  0.986075  0.986075  0.986075  0.986075   \n",
       "4  0.984334  0.984334  0.984334  ...  0.984334  0.984334  0.984334  0.984334   \n",
       "5  0.981723  0.981723  0.981723  ...  0.981723  0.981723  0.981723  0.981723   \n",
       "6  0.977372  0.977372  0.977372  ...  0.978242  0.978242  0.978242  0.978242   \n",
       "7  0.979130  0.979130  0.979130  ...  0.979130  0.979130  0.979130  0.979130   \n",
       "8  0.982609  0.982609  0.982609  ...  0.982609  0.982609  0.982609  0.982609   \n",
       "9  0.980870  0.980870  0.980870  ...  0.980870  0.980870  0.980870  0.980870   \n",
       "\n",
       "   4.874397  4.899518  4.924638  4.949759  4.974879  5.000000  \n",
       "0  0.982594  0.982594  0.982594  0.982594  0.982594  0.982594  \n",
       "1  0.984334  0.984334  0.984334  0.984334  0.984334  0.984334  \n",
       "2  0.980853  0.980853  0.980853  0.980853  0.980853  0.980853  \n",
       "3  0.986075  0.986075  0.986075  0.986075  0.986075  0.986075  \n",
       "4  0.984334  0.984334  0.984334  0.984334  0.984334  0.984334  \n",
       "5  0.981723  0.981723  0.981723  0.981723  0.981723  0.981723  \n",
       "6  0.978242  0.978242  0.978242  0.978242  0.978242  0.978242  \n",
       "7  0.979130  0.979130  0.979130  0.979130  0.979130  0.979130  \n",
       "8  0.982609  0.982609  0.982609  0.982609  0.982609  0.982609  \n",
       "9  0.980870  0.980870  0.980870  0.980870  0.980870  0.980870  \n",
       "\n",
       "[10 rows x 200 columns]"
      ]
     },
     "execution_count": 355,
     "metadata": {},
     "output_type": "execute_result"
    }
   ],
   "source": [
    "cv_errors_train"
   ]
  },
  {
   "cell_type": "code",
   "execution_count": 331,
   "metadata": {},
   "outputs": [],
   "source": [
    "avg_errors_train = cv_errors_train.mean()\n",
    "avg_errors_test = cv_errors_test.mean()"
   ]
  },
  {
   "cell_type": "code",
   "execution_count": 337,
   "metadata": {},
   "outputs": [],
   "source": [
    "max_acc=avg_errors_test.max()\n",
    "strength=1/C_val"
   ]
  },
  {
   "cell_type": "code",
   "execution_count": 349,
   "metadata": {},
   "outputs": [
    {
     "data": {
      "text/plain": [
       "array([1.00000000e+03, 3.82839554e+01, 1.95155438e+01, 1.30955515e+01,\n",
       "       9.85392424e+00, 7.89870604e+00, 6.59093167e+00, 5.65469425e+00,\n",
       "       4.95135727e+00, 4.40362912e+00, 3.96501225e+00, 3.60585635e+00,\n",
       "       3.30636184e+00, 3.05280275e+00, 2.83536368e+00, 2.64683975e+00,\n",
       "       2.48182283e+00, 2.33617431e+00, 2.20667325e+00, 2.09077537e+00,\n",
       "       1.98644426e+00, 1.89203065e+00, 1.80618459e+00, 1.72779051e+00,\n",
       "       1.65591845e+00, 1.58978702e+00, 1.52873484e+00, 1.47219838e+00,\n",
       "       1.41969452e+00, 1.37080664e+00, 1.32517364e+00, 1.28248092e+00,\n",
       "       1.24245319e+00, 1.20484846e+00, 1.16945318e+00, 1.13607819e+00,\n",
       "       1.10455532e+00, 1.07473456e+00, 1.04648167e+00, 1.01967616e+00,\n",
       "       9.94209603e-01, 9.69984110e-01, 9.46911119e-01, 9.24910298e-01,\n",
       "       9.03908610e-01, 8.83839505e-01, 8.64642216e-01, 8.46261142e-01,\n",
       "       8.28645311e-01, 8.11747909e-01, 7.95525867e-01, 7.79939486e-01,\n",
       "       7.64952123e-01, 7.50529897e-01, 7.36641433e-01, 7.23257640e-01,\n",
       "       7.10351499e-01, 6.97897889e-01, 6.85873420e-01, 6.74256285e-01,\n",
       "       6.63026131e-01, 6.52163939e-01, 6.41651915e-01, 6.31473396e-01,\n",
       "       6.21612757e-01, 6.12055337e-01, 6.02787361e-01, 5.93795877e-01,\n",
       "       5.85068694e-01, 5.76594327e-01, 5.68361947e-01, 5.60361335e-01,\n",
       "       5.52582839e-01, 5.45017336e-01, 5.37656197e-01, 5.30491251e-01,\n",
       "       5.23514757e-01, 5.16719377e-01, 5.10098149e-01, 5.03644462e-01,\n",
       "       4.97352038e-01, 4.91214905e-01, 4.85227386e-01, 4.79384076e-01,\n",
       "       4.73679826e-01, 4.68109731e-01, 4.62669113e-01, 4.57353509e-01,\n",
       "       4.52158660e-01, 4.47080497e-01, 4.42115132e-01, 4.37258848e-01,\n",
       "       4.32508091e-01, 4.27859456e-01, 4.23309686e-01, 4.18855661e-01,\n",
       "       4.14494390e-01, 4.10223005e-01, 4.06038755e-01, 4.01939002e-01,\n",
       "       3.97921212e-01, 3.93982950e-01, 3.90121879e-01, 3.86335751e-01,\n",
       "       3.82622406e-01, 3.78979764e-01, 3.75405825e-01, 3.71898664e-01,\n",
       "       3.68456427e-01, 3.65077327e-01, 3.61759643e-01, 3.58501715e-01,\n",
       "       3.55301944e-01, 3.52158786e-01, 3.49070753e-01, 3.46036405e-01,\n",
       "       3.43054356e-01, 3.40123265e-01, 3.37241836e-01, 3.34408819e-01,\n",
       "       3.31623003e-01, 3.28883218e-01, 3.26188334e-01, 3.23537254e-01,\n",
       "       3.20928920e-01, 3.18362306e-01, 3.15836419e-01, 3.13350297e-01,\n",
       "       3.10903009e-01, 3.08493652e-01, 3.06121350e-01, 3.03785256e-01,\n",
       "       3.01484546e-01, 2.99218423e-01, 2.96986113e-01, 2.94786865e-01,\n",
       "       2.92619948e-01, 2.90484657e-01, 2.88380303e-01, 2.86306218e-01,\n",
       "       2.84261755e-01, 2.82246283e-01, 2.80259190e-01, 2.78299881e-01,\n",
       "       2.76367777e-01, 2.74462316e-01, 2.72582949e-01, 2.70729146e-01,\n",
       "       2.68900387e-01, 2.67096168e-01, 2.65315999e-01, 2.63559403e-01,\n",
       "       2.61825913e-01, 2.60115078e-01, 2.58426456e-01, 2.56759616e-01,\n",
       "       2.55114141e-01, 2.53489622e-01, 2.51885662e-01, 2.50301872e-01,\n",
       "       2.48737874e-01, 2.47193300e-01, 2.45667790e-01, 2.44160994e-01,\n",
       "       2.42672569e-01, 2.41202181e-01, 2.39749504e-01, 2.38314220e-01,\n",
       "       2.36896019e-01, 2.35494598e-01, 2.34109660e-01, 2.32740916e-01,\n",
       "       2.31388084e-01, 2.30050889e-01, 2.28729060e-01, 2.27422334e-01,\n",
       "       2.26130453e-01, 2.24853167e-01, 2.23590230e-01, 2.22341400e-01,\n",
       "       2.21106443e-01, 2.19885129e-01, 2.18677234e-01, 2.17482536e-01,\n",
       "       2.16300821e-01, 2.15131879e-01, 2.13975504e-01, 2.12831493e-01,\n",
       "       2.11699650e-01, 2.10579782e-01, 2.09471700e-01, 2.08375218e-01,\n",
       "       2.07290155e-01, 2.06216334e-01, 2.05153582e-01, 2.04101727e-01,\n",
       "       2.03060603e-01, 2.02030047e-01, 2.01009898e-01, 2.00000000e-01])"
      ]
     },
     "execution_count": 349,
     "metadata": {},
     "output_type": "execute_result"
    }
   ],
   "source": [
    "strength"
   ]
  },
  {
   "cell_type": "code",
   "execution_count": 342,
   "metadata": {},
   "outputs": [],
   "source": [
    "def get_optimal_alpha(avg_errors_test):\n",
    "    alphas = avg_errors_test.index\n",
    "    optimal_idx = np.argmax(avg_errors_test.values)\n",
    "    optimal_alpha = alphas[optimal_idx]\n",
    "    return optimal_alpha, optimal_idx\n",
    "optimal_alpha, optimal_idx = get_optimal_alpha(avg_errors_test)"
   ]
  },
  {
   "cell_type": "code",
   "execution_count": 352,
   "metadata": {},
   "outputs": [
    {
     "data": {
      "text/plain": [
       "38.28395536744902"
      ]
     },
     "execution_count": 352,
     "metadata": {},
     "output_type": "execute_result"
    }
   ],
   "source": [
    "1/optimal_alpha"
   ]
  },
  {
   "cell_type": "code",
   "execution_count": 354,
   "metadata": {},
   "outputs": [
    {
     "data": {
      "image/png": "[encoded data removed]",
      "text/plain": [
       "<Figure size 648x648 with 1 Axes>"
      ]
     },
     "metadata": {},
     "output_type": "display_data"
    }
   ],
   "source": [
    "fig, ax=plt.subplots(figsize=(9,9))\n",
    "plt.style.use('bmh')\n",
    "ax.plot(strength, avg_errors_test, label = 'test errors')\n",
    "ax.plot(strength, avg_errors_train, label = 'train errors')\n",
    "ax.set_xlabel('Log(Reg_strength)', fontsize=14)\n",
    "ax.set_ylabel('accuracy score', fontsize=14)\n",
    "ax.set_title('Accuracy of Title Label as a Function of Regularization Strength-Logistic Regression', fontsize=14)\n",
    "ax.set_xlim(0.1, 50)\n",
    "ax.set_ylim(0.5, 1)\n",
    "ax.scatter(1/optimal_alpha, max_acc, label = f'max accuracy = {max_acc:.2f}', s= 500, color = 'y', marker = '*', zorder=4)\n",
    "plt.axvline(1/optimal_alpha, label = f'best reglarization strength = {(1/optimal_alpha).round(1)}', color = 'k', linestyle = 'dashed', alpha=0.3)\n",
    "\n",
    "plt.legend(loc = 4, fontsize=14);\n",
    "plt.savefig('log_regres/Title_rec_reg', bbox_inches='tight')"
   ]
  },
  {
   "cell_type": "code",
   "execution_count": null,
   "metadata": {},
   "outputs": [],
   "source": []
  },
  {
   "cell_type": "code",
   "execution_count": null,
   "metadata": {},
   "outputs": [],
   "source": []
  },
  {
   "cell_type": "code",
   "execution_count": null,
   "metadata": {},
   "outputs": [],
   "source": []
  },
  {
   "cell_type": "code",
   "execution_count": null,
   "metadata": {},
   "outputs": [],
   "source": []
  },
  {
   "cell_type": "code",
   "execution_count": null,
   "metadata": {},
   "outputs": [],
   "source": []
  },
  {
   "cell_type": "code",
   "execution_count": null,
   "metadata": {},
   "outputs": [],
   "source": []
  },
  {
   "cell_type": "code",
   "execution_count": null,
   "metadata": {},
   "outputs": [],
   "source": []
  },
  {
   "cell_type": "code",
   "execution_count": null,
   "metadata": {},
   "outputs": [],
   "source": []
  },
  {
   "cell_type": "code",
   "execution_count": null,
   "metadata": {},
   "outputs": [],
   "source": []
  }
 ],
 "metadata": {
  "kernelspec": {
   "display_name": "Python 3",
   "language": "python",
   "name": "python3"
  },
  "language_info": {
   "codemirror_mode": {
    "name": "ipython",
    "version": 3
   },
   "file_extension": ".py",
   "mimetype": "text/x-python",
   "name": "python",
   "nbconvert_exporter": "python",
   "pygments_lexer": "ipython3",
   "version": "3.8.3"
  }
 },
 "nbformat": 4,
 "nbformat_minor": 4
}
