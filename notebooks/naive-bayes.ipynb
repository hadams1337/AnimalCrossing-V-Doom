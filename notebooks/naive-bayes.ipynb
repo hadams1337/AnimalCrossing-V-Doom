{
 "cells": [
  {
   "cell_type": "code",
   "execution_count": 100,
   "metadata": {},
   "outputs": [],
   "source": [
    "import pandas as pd\n",
    "import numpy as np\n",
    "import unicodedata\n",
    "from nltk.tokenize import sent_tokenize #tokenizes sentences\n",
    "from nltk.tokenize import word_tokenize #tokenizes words\n",
    "from nltk.corpus import stopwords\n",
    "import string\n",
    "from nltk.util import ngrams\n",
    "from nltk.stem.porter import PorterStemmer\n",
    "from nltk.stem.snowball import SnowballStemmer\n",
    "from nltk import pos_tag #tags the parts of speech.  VB=Verbs\n",
    "from nltk import RegexpParser\n",
    "from collections import Counter\n",
    "from sklearn.feature_extraction.text import CountVectorizer\n",
    "from sklearn.feature_extraction.text import TfidfTransformer\n",
    "from sklearn.naive_bayes import MultinomialNB\n",
    "from sklearn.model_selection import train_test_split\n",
    "punctuation_ = set(string.punctuation)\n",
    "stopwords_ = set(stopwords.words('english'))\n",
    "import matplotlib.pyplot as plt"
   ]
  },
  {
   "cell_type": "code",
   "execution_count": 2,
   "metadata": {},
   "outputs": [
    {
     "name": "stdout",
     "output_type": "stream",
     "text": [
      "mkdir: ../graphs: File exists\r\n"
     ]
    }
   ],
   "source": [
    "mkdir ../graphs"
   ]
  },
  {
   "cell_type": "code",
   "execution_count": 3,
   "metadata": {},
   "outputs": [
    {
     "name": "stdout",
     "output_type": "stream",
     "text": [
      "Is it Doom_  Or Animal Crossing.pdf  \u001b[1m\u001b[36mcute\u001b[m\u001b[m/\r\n",
      "\u001b[1m\u001b[36mNLP\u001b[m\u001b[m/                                 \u001b[1m\u001b[36mdoom_color\u001b[m\u001b[m/\r\n",
      "README.md                            \u001b[1m\u001b[36mdoom_small\u001b[m\u001b[m/\r\n",
      "\u001b[1m\u001b[36macnh_color\u001b[m\u001b[m/                          \u001b[1m\u001b[36mgraphs\u001b[m\u001b[m/\r\n",
      "\u001b[1m\u001b[36macnh_small\u001b[m\u001b[m/                          \u001b[1m\u001b[36mnotebooks\u001b[m\u001b[m/\r\n",
      "\u001b[1m\u001b[36marchive\u001b[m\u001b[m/\r\n"
     ]
    }
   ],
   "source": [
    "ls .."
   ]
  },
  {
   "cell_type": "code",
   "execution_count": 101,
   "metadata": {},
   "outputs": [
    {
     "data": {
      "text/plain": [
       "Index(['subreddit', 'id', 'title', 'ups', 'downs', 'upvote_ratio',\n",
       "       'total_awards_received', 'num_comments', 'created_utc', 'url',\n",
       "       'filename'],\n",
       "      dtype='object')"
      ]
     },
     "execution_count": 101,
     "metadata": {},
     "output_type": "execute_result"
    }
   ],
   "source": [
    "acnh=pd.read_csv('../archive/animal_crossing_dataset.csv')\n",
    "acnh.columns"
   ]
  },
  {
   "cell_type": "code",
   "execution_count": 102,
   "metadata": {},
   "outputs": [
    {
     "data": {
      "text/plain": [
       "Index(['subreddit', 'id', 'title', 'ups', 'downs', 'upvote_ratio',\n",
       "       'total_awards_received', 'num_comments', 'created_utc', 'url',\n",
       "       'filename'],\n",
       "      dtype='object')"
      ]
     },
     "execution_count": 102,
     "metadata": {},
     "output_type": "execute_result"
    }
   ],
   "source": [
    "doom=pd.read_csv('../archive/doom_crossing_dataset.csv')\n",
    "doom.columns"
   ]
  },
  {
   "cell_type": "code",
   "execution_count": 103,
   "metadata": {},
   "outputs": [],
   "source": [
    "index_a=pd.Index(acnh['id'])\n",
    "acnh_sub=pd.DataFrame(acnh['subreddit']).set_index(index_a)\n",
    "index_d=pd.Index(doom['id'])\n",
    "doom_sub=pd.DataFrame(doom['subreddit']).set_index(index_d)"
   ]
  },
  {
   "cell_type": "code",
   "execution_count": 104,
   "metadata": {},
   "outputs": [],
   "source": [
    "Xa=pd.DataFrame(acnh['title']).set_index(index_a)"
   ]
  },
  {
   "cell_type": "code",
   "execution_count": 105,
   "metadata": {},
   "outputs": [],
   "source": [
    "Xd=pd.DataFrame(doom['title']).set_index(index_d)"
   ]
  },
  {
   "cell_type": "code",
   "execution_count": 106,
   "metadata": {},
   "outputs": [],
   "source": [
    "X_titles=pd.concat([Xd, Xa])\n",
    "y=pd.concat([doom_sub ,acnh_sub])"
   ]
  },
  {
   "cell_type": "code",
   "execution_count": 107,
   "metadata": {},
   "outputs": [
    {
     "data": {
      "text/plain": [
       "(1597, 1)"
      ]
     },
     "execution_count": 107,
     "metadata": {},
     "output_type": "execute_result"
    }
   ],
   "source": [
    "y.shape"
   ]
  },
  {
   "cell_type": "code",
   "execution_count": 108,
   "metadata": {},
   "outputs": [],
   "source": [
    "for title in X_titles.iloc[:,0]:\n",
    "    title.replace('villagers', 'villager')\n",
    "    title.replace('oc', \"\")"
   ]
  },
  {
   "cell_type": "code",
   "execution_count": 109,
   "metadata": {},
   "outputs": [],
   "source": [
    "from sklearn.feature_extraction.text import TfidfVectorizer"
   ]
  },
  {
   "cell_type": "code",
   "execution_count": 110,
   "metadata": {},
   "outputs": [
    {
     "data": {
      "text/html": [
       "<div>\n",
       "<style scoped>\n",
       "    .dataframe tbody tr th:only-of-type {\n",
       "        vertical-align: middle;\n",
       "    }\n",
       "\n",
       "    .dataframe tbody tr th {\n",
       "        vertical-align: top;\n",
       "    }\n",
       "\n",
       "    .dataframe thead th {\n",
       "        text-align: right;\n",
       "    }\n",
       "</style>\n",
       "<table border=\"1\" class=\"dataframe\">\n",
       "  <thead>\n",
       "    <tr style=\"text-align: right;\">\n",
       "      <th></th>\n",
       "      <th>remember</th>\n",
       "      <th>fun</th>\n",
       "      <th>send</th>\n",
       "      <th>appreciacion</th>\n",
       "      <th>lead</th>\n",
       "      <th>sound</th>\n",
       "      <th>designer</th>\n",
       "      <th>id</th>\n",
       "      <th>chad</th>\n",
       "      <th>mossholder</th>\n",
       "      <th>...</th>\n",
       "      <th>aware</th>\n",
       "      <th>checked</th>\n",
       "      <th>spa</th>\n",
       "      <th>witchy</th>\n",
       "      <th>sleepy</th>\n",
       "      <th>holding</th>\n",
       "      <th>genuinely</th>\n",
       "      <th>38</th>\n",
       "      <th>friendship</th>\n",
       "      <th>screening</th>\n",
       "    </tr>\n",
       "    <tr>\n",
       "      <th>id</th>\n",
       "      <th></th>\n",
       "      <th></th>\n",
       "      <th></th>\n",
       "      <th></th>\n",
       "      <th></th>\n",
       "      <th></th>\n",
       "      <th></th>\n",
       "      <th></th>\n",
       "      <th></th>\n",
       "      <th></th>\n",
       "      <th></th>\n",
       "      <th></th>\n",
       "      <th></th>\n",
       "      <th></th>\n",
       "      <th></th>\n",
       "      <th></th>\n",
       "      <th></th>\n",
       "      <th></th>\n",
       "      <th></th>\n",
       "      <th></th>\n",
       "      <th></th>\n",
       "    </tr>\n",
       "  </thead>\n",
       "  <tbody>\n",
       "    <tr>\n",
       "      <th>gtli3b</th>\n",
       "      <td>0.00000</td>\n",
       "      <td>0.0</td>\n",
       "      <td>0.0</td>\n",
       "      <td>0.0</td>\n",
       "      <td>0.0</td>\n",
       "      <td>0.0</td>\n",
       "      <td>0.0</td>\n",
       "      <td>0.0</td>\n",
       "      <td>0.0</td>\n",
       "      <td>0.0</td>\n",
       "      <td>...</td>\n",
       "      <td>0.0</td>\n",
       "      <td>0.0</td>\n",
       "      <td>0.0</td>\n",
       "      <td>0.0</td>\n",
       "      <td>0.0</td>\n",
       "      <td>0.0</td>\n",
       "      <td>0.0</td>\n",
       "      <td>0.0</td>\n",
       "      <td>0.0</td>\n",
       "      <td>0.0</td>\n",
       "    </tr>\n",
       "    <tr>\n",
       "      <th>fnj4e5</th>\n",
       "      <td>0.00000</td>\n",
       "      <td>0.0</td>\n",
       "      <td>0.0</td>\n",
       "      <td>0.0</td>\n",
       "      <td>0.0</td>\n",
       "      <td>0.0</td>\n",
       "      <td>0.0</td>\n",
       "      <td>0.0</td>\n",
       "      <td>0.0</td>\n",
       "      <td>0.0</td>\n",
       "      <td>...</td>\n",
       "      <td>0.0</td>\n",
       "      <td>0.0</td>\n",
       "      <td>0.0</td>\n",
       "      <td>0.0</td>\n",
       "      <td>0.0</td>\n",
       "      <td>0.0</td>\n",
       "      <td>0.0</td>\n",
       "      <td>0.0</td>\n",
       "      <td>0.0</td>\n",
       "      <td>0.0</td>\n",
       "    </tr>\n",
       "    <tr>\n",
       "      <th>gemj1h</th>\n",
       "      <td>0.00000</td>\n",
       "      <td>0.0</td>\n",
       "      <td>0.0</td>\n",
       "      <td>0.0</td>\n",
       "      <td>0.0</td>\n",
       "      <td>0.0</td>\n",
       "      <td>0.0</td>\n",
       "      <td>0.0</td>\n",
       "      <td>0.0</td>\n",
       "      <td>0.0</td>\n",
       "      <td>...</td>\n",
       "      <td>0.0</td>\n",
       "      <td>0.0</td>\n",
       "      <td>0.0</td>\n",
       "      <td>0.0</td>\n",
       "      <td>0.0</td>\n",
       "      <td>0.0</td>\n",
       "      <td>0.0</td>\n",
       "      <td>0.0</td>\n",
       "      <td>0.0</td>\n",
       "      <td>0.0</td>\n",
       "    </tr>\n",
       "    <tr>\n",
       "      <th>fzhpqt</th>\n",
       "      <td>0.00000</td>\n",
       "      <td>0.0</td>\n",
       "      <td>0.0</td>\n",
       "      <td>0.0</td>\n",
       "      <td>0.0</td>\n",
       "      <td>0.0</td>\n",
       "      <td>0.0</td>\n",
       "      <td>0.0</td>\n",
       "      <td>0.0</td>\n",
       "      <td>0.0</td>\n",
       "      <td>...</td>\n",
       "      <td>0.0</td>\n",
       "      <td>0.0</td>\n",
       "      <td>0.0</td>\n",
       "      <td>0.0</td>\n",
       "      <td>0.0</td>\n",
       "      <td>0.0</td>\n",
       "      <td>0.0</td>\n",
       "      <td>0.0</td>\n",
       "      <td>0.0</td>\n",
       "      <td>0.0</td>\n",
       "    </tr>\n",
       "    <tr>\n",
       "      <th>g4v23f</th>\n",
       "      <td>0.00000</td>\n",
       "      <td>0.0</td>\n",
       "      <td>0.0</td>\n",
       "      <td>0.0</td>\n",
       "      <td>0.0</td>\n",
       "      <td>0.0</td>\n",
       "      <td>0.0</td>\n",
       "      <td>0.0</td>\n",
       "      <td>0.0</td>\n",
       "      <td>0.0</td>\n",
       "      <td>...</td>\n",
       "      <td>0.0</td>\n",
       "      <td>0.0</td>\n",
       "      <td>0.0</td>\n",
       "      <td>0.0</td>\n",
       "      <td>0.0</td>\n",
       "      <td>0.0</td>\n",
       "      <td>0.0</td>\n",
       "      <td>0.0</td>\n",
       "      <td>0.0</td>\n",
       "      <td>0.0</td>\n",
       "    </tr>\n",
       "    <tr>\n",
       "      <th>...</th>\n",
       "      <td>...</td>\n",
       "      <td>...</td>\n",
       "      <td>...</td>\n",
       "      <td>...</td>\n",
       "      <td>...</td>\n",
       "      <td>...</td>\n",
       "      <td>...</td>\n",
       "      <td>...</td>\n",
       "      <td>...</td>\n",
       "      <td>...</td>\n",
       "      <td>...</td>\n",
       "      <td>...</td>\n",
       "      <td>...</td>\n",
       "      <td>...</td>\n",
       "      <td>...</td>\n",
       "      <td>...</td>\n",
       "      <td>...</td>\n",
       "      <td>...</td>\n",
       "      <td>...</td>\n",
       "      <td>...</td>\n",
       "      <td>...</td>\n",
       "    </tr>\n",
       "    <tr>\n",
       "      <th>g9674v</th>\n",
       "      <td>0.00000</td>\n",
       "      <td>0.0</td>\n",
       "      <td>0.0</td>\n",
       "      <td>0.0</td>\n",
       "      <td>0.0</td>\n",
       "      <td>0.0</td>\n",
       "      <td>0.0</td>\n",
       "      <td>0.0</td>\n",
       "      <td>0.0</td>\n",
       "      <td>0.0</td>\n",
       "      <td>...</td>\n",
       "      <td>0.0</td>\n",
       "      <td>0.0</td>\n",
       "      <td>0.0</td>\n",
       "      <td>0.0</td>\n",
       "      <td>0.0</td>\n",
       "      <td>0.0</td>\n",
       "      <td>0.0</td>\n",
       "      <td>0.0</td>\n",
       "      <td>0.0</td>\n",
       "      <td>0.0</td>\n",
       "    </tr>\n",
       "    <tr>\n",
       "      <th>fnl57y</th>\n",
       "      <td>0.00000</td>\n",
       "      <td>0.0</td>\n",
       "      <td>0.0</td>\n",
       "      <td>0.0</td>\n",
       "      <td>0.0</td>\n",
       "      <td>0.0</td>\n",
       "      <td>0.0</td>\n",
       "      <td>0.0</td>\n",
       "      <td>0.0</td>\n",
       "      <td>0.0</td>\n",
       "      <td>...</td>\n",
       "      <td>0.0</td>\n",
       "      <td>0.0</td>\n",
       "      <td>0.0</td>\n",
       "      <td>0.0</td>\n",
       "      <td>0.0</td>\n",
       "      <td>0.0</td>\n",
       "      <td>0.0</td>\n",
       "      <td>0.0</td>\n",
       "      <td>0.0</td>\n",
       "      <td>0.0</td>\n",
       "    </tr>\n",
       "    <tr>\n",
       "      <th>g7mis1</th>\n",
       "      <td>0.00000</td>\n",
       "      <td>0.0</td>\n",
       "      <td>0.0</td>\n",
       "      <td>0.0</td>\n",
       "      <td>0.0</td>\n",
       "      <td>0.0</td>\n",
       "      <td>0.0</td>\n",
       "      <td>0.0</td>\n",
       "      <td>0.0</td>\n",
       "      <td>0.0</td>\n",
       "      <td>...</td>\n",
       "      <td>0.0</td>\n",
       "      <td>0.0</td>\n",
       "      <td>0.0</td>\n",
       "      <td>0.0</td>\n",
       "      <td>0.0</td>\n",
       "      <td>0.0</td>\n",
       "      <td>0.0</td>\n",
       "      <td>0.0</td>\n",
       "      <td>0.0</td>\n",
       "      <td>0.0</td>\n",
       "    </tr>\n",
       "    <tr>\n",
       "      <th>gtz9fa</th>\n",
       "      <td>0.00000</td>\n",
       "      <td>0.0</td>\n",
       "      <td>0.0</td>\n",
       "      <td>0.0</td>\n",
       "      <td>0.0</td>\n",
       "      <td>0.0</td>\n",
       "      <td>0.0</td>\n",
       "      <td>0.0</td>\n",
       "      <td>0.0</td>\n",
       "      <td>0.0</td>\n",
       "      <td>...</td>\n",
       "      <td>0.0</td>\n",
       "      <td>0.0</td>\n",
       "      <td>0.0</td>\n",
       "      <td>0.0</td>\n",
       "      <td>0.0</td>\n",
       "      <td>0.0</td>\n",
       "      <td>0.0</td>\n",
       "      <td>0.0</td>\n",
       "      <td>0.0</td>\n",
       "      <td>0.0</td>\n",
       "    </tr>\n",
       "    <tr>\n",
       "      <th>fmjv7l</th>\n",
       "      <td>0.57735</td>\n",
       "      <td>0.0</td>\n",
       "      <td>0.0</td>\n",
       "      <td>0.0</td>\n",
       "      <td>0.0</td>\n",
       "      <td>0.0</td>\n",
       "      <td>0.0</td>\n",
       "      <td>0.0</td>\n",
       "      <td>0.0</td>\n",
       "      <td>0.0</td>\n",
       "      <td>...</td>\n",
       "      <td>0.0</td>\n",
       "      <td>0.0</td>\n",
       "      <td>0.0</td>\n",
       "      <td>0.0</td>\n",
       "      <td>0.0</td>\n",
       "      <td>0.0</td>\n",
       "      <td>0.0</td>\n",
       "      <td>0.0</td>\n",
       "      <td>0.0</td>\n",
       "      <td>0.0</td>\n",
       "    </tr>\n",
       "  </tbody>\n",
       "</table>\n",
       "<p>1597 rows × 2875 columns</p>\n",
       "</div>"
      ],
      "text/plain": [
       "        remember  fun  send  appreciacion  lead  sound  designer   id  chad  \\\n",
       "id                                                                            \n",
       "gtli3b   0.00000  0.0   0.0           0.0   0.0    0.0       0.0  0.0   0.0   \n",
       "fnj4e5   0.00000  0.0   0.0           0.0   0.0    0.0       0.0  0.0   0.0   \n",
       "gemj1h   0.00000  0.0   0.0           0.0   0.0    0.0       0.0  0.0   0.0   \n",
       "fzhpqt   0.00000  0.0   0.0           0.0   0.0    0.0       0.0  0.0   0.0   \n",
       "g4v23f   0.00000  0.0   0.0           0.0   0.0    0.0       0.0  0.0   0.0   \n",
       "...          ...  ...   ...           ...   ...    ...       ...  ...   ...   \n",
       "g9674v   0.00000  0.0   0.0           0.0   0.0    0.0       0.0  0.0   0.0   \n",
       "fnl57y   0.00000  0.0   0.0           0.0   0.0    0.0       0.0  0.0   0.0   \n",
       "g7mis1   0.00000  0.0   0.0           0.0   0.0    0.0       0.0  0.0   0.0   \n",
       "gtz9fa   0.00000  0.0   0.0           0.0   0.0    0.0       0.0  0.0   0.0   \n",
       "fmjv7l   0.57735  0.0   0.0           0.0   0.0    0.0       0.0  0.0   0.0   \n",
       "\n",
       "        mossholder  ...  aware  checked  spa  witchy  sleepy  holding  \\\n",
       "id                  ...                                                 \n",
       "gtli3b         0.0  ...    0.0      0.0  0.0     0.0     0.0      0.0   \n",
       "fnj4e5         0.0  ...    0.0      0.0  0.0     0.0     0.0      0.0   \n",
       "gemj1h         0.0  ...    0.0      0.0  0.0     0.0     0.0      0.0   \n",
       "fzhpqt         0.0  ...    0.0      0.0  0.0     0.0     0.0      0.0   \n",
       "g4v23f         0.0  ...    0.0      0.0  0.0     0.0     0.0      0.0   \n",
       "...            ...  ...    ...      ...  ...     ...     ...      ...   \n",
       "g9674v         0.0  ...    0.0      0.0  0.0     0.0     0.0      0.0   \n",
       "fnl57y         0.0  ...    0.0      0.0  0.0     0.0     0.0      0.0   \n",
       "g7mis1         0.0  ...    0.0      0.0  0.0     0.0     0.0      0.0   \n",
       "gtz9fa         0.0  ...    0.0      0.0  0.0     0.0     0.0      0.0   \n",
       "fmjv7l         0.0  ...    0.0      0.0  0.0     0.0     0.0      0.0   \n",
       "\n",
       "        genuinely   38  friendship  screening  \n",
       "id                                             \n",
       "gtli3b        0.0  0.0         0.0        0.0  \n",
       "fnj4e5        0.0  0.0         0.0        0.0  \n",
       "gemj1h        0.0  0.0         0.0        0.0  \n",
       "fzhpqt        0.0  0.0         0.0        0.0  \n",
       "g4v23f        0.0  0.0         0.0        0.0  \n",
       "...           ...  ...         ...        ...  \n",
       "g9674v        0.0  0.0         0.0        0.0  \n",
       "fnl57y        0.0  0.0         0.0        0.0  \n",
       "g7mis1        0.0  0.0         0.0        0.0  \n",
       "gtz9fa        0.0  0.0         0.0        0.0  \n",
       "fmjv7l        0.0  0.0         0.0        0.0  \n",
       "\n",
       "[1597 rows x 2875 columns]"
      ]
     },
     "execution_count": 110,
     "metadata": {},
     "output_type": "execute_result"
    }
   ],
   "source": [
    "tfidf = TfidfVectorizer(stop_words='english', smooth_idf=True)  # Checkout out the options!\n",
    "\n",
    "document_tfidf_matrix = tfidf.fit_transform(X_titles.iloc[:,0])\n",
    "\n",
    "X_tf_idf = pd.DataFrame(document_tfidf_matrix.todense(), columns = tfidf.vocabulary_)\n",
    "X_tf_idf.set_index(X_titles.index)"
   ]
  },
  {
   "cell_type": "code",
   "execution_count": 17,
   "metadata": {},
   "outputs": [],
   "source": [
    "count_vect = CountVectorizer(lowercase=True, tokenizer=None, stop_words='english',\n",
    "                             analyzer='word', max_df=1.0, min_df=1,\n",
    "                             max_features=None)\n",
    "\n",
    "count_vect.fit(X_titles)\n",
    "target_names = ['AnimalCrossing', 'Doom']"
   ]
  },
  {
   "cell_type": "code",
   "execution_count": null,
   "metadata": {},
   "outputs": [],
   "source": []
  },
  {
   "cell_type": "code",
   "execution_count": null,
   "metadata": {},
   "outputs": [],
   "source": []
  },
  {
   "cell_type": "markdown",
   "metadata": {},
   "source": [
    "TF-IDF is a better choice, it lowers the impact of words that are very common throughout."
   ]
  },
  {
   "cell_type": "code",
   "execution_count": 111,
   "metadata": {},
   "outputs": [],
   "source": [
    "X_train, X_test, y_train, y_test = train_test_split(X_tf_idf, y, test_size=0.2)"
   ]
  },
  {
   "cell_type": "code",
   "execution_count": 112,
   "metadata": {},
   "outputs": [],
   "source": [
    "y_nb_train=pd.get_dummies(y_train).iloc[:,0]\n",
    "y_nb_test=np.array(y_test).reshape(-1,)"
   ]
  },
  {
   "cell_type": "code",
   "execution_count": 113,
   "metadata": {},
   "outputs": [
    {
     "data": {
      "text/plain": [
       "id\n",
       "fv3mgx    1\n",
       "g7r3qd    1\n",
       "byfa5l    0\n",
       "fpjzp7    0\n",
       "cwo5mh    0\n",
       "         ..\n",
       "epdful    0\n",
       "g7x3fm    1\n",
       "c1oj3j    0\n",
       "fp7ypg    0\n",
       "ejj6yt    0\n",
       "Name: subreddit_AnimalCrossing, Length: 1277, dtype: uint8"
      ]
     },
     "execution_count": 113,
     "metadata": {},
     "output_type": "execute_result"
    }
   ],
   "source": [
    "y_nb_train"
   ]
  },
  {
   "cell_type": "code",
   "execution_count": 114,
   "metadata": {},
   "outputs": [],
   "source": [
    "y_nb=pd.get_dummies(y).iloc[:,0]"
   ]
  },
  {
   "cell_type": "code",
   "execution_count": 115,
   "metadata": {},
   "outputs": [],
   "source": [
    "y_train=y_train.iloc[:,0]"
   ]
  },
  {
   "cell_type": "code",
   "execution_count": 116,
   "metadata": {},
   "outputs": [],
   "source": [
    "from sklearn.naive_bayes import MultinomialNB"
   ]
  },
  {
   "cell_type": "code",
   "execution_count": 117,
   "metadata": {},
   "outputs": [
    {
     "data": {
      "text/plain": [
       "MultinomialNB()"
      ]
     },
     "execution_count": 117,
     "metadata": {},
     "output_type": "execute_result"
    }
   ],
   "source": [
    "nb_model=MultinomialNB()\n",
    "nb_model.fit(X_tf_idf, y_nb)"
   ]
  },
  {
   "cell_type": "code",
   "execution_count": 118,
   "metadata": {},
   "outputs": [],
   "source": [
    "log_prob = nb_model.feature_log_prob_[0]\n",
    "i_topn = np.argsort(log_prob)[::-1][:15]"
   ]
  },
  {
   "cell_type": "code",
   "execution_count": 119,
   "metadata": {},
   "outputs": [
    {
     "data": {
      "text/plain": [
       "-4.709877709664442"
      ]
     },
     "execution_count": 119,
     "metadata": {},
     "output_type": "execute_result"
    }
   ],
   "source": [
    "log_prob[765]"
   ]
  },
  {
   "cell_type": "code",
   "execution_count": 120,
   "metadata": {},
   "outputs": [
    {
     "data": {
      "text/plain": [
       "array([ 765,  865, 2322, 1491,  771, 2144, 2534, 1391, 2589, 1590, 1792,\n",
       "       1158,  691, 1064,  724])"
      ]
     },
     "execution_count": 120,
     "metadata": {},
     "output_type": "execute_result"
    }
   ],
   "source": [
    "i_topn"
   ]
  },
  {
   "cell_type": "code",
   "execution_count": 121,
   "metadata": {},
   "outputs": [
    {
     "data": {
      "text/plain": [
       "'demon'"
      ]
     },
     "execution_count": 121,
     "metadata": {},
     "output_type": "execute_result"
    }
   ],
   "source": [
    "feature_words = tfidf.get_feature_names()\n",
    "feature_words[691]"
   ]
  },
  {
   "cell_type": "code",
   "execution_count": 122,
   "metadata": {},
   "outputs": [
    {
     "name": "stdout",
     "output_type": "stream",
     "text": [
      "\n",
      "Target: 0, name: Doom\n",
      "Top 15 tokens:  ['doom', 'eternal', 'slayer', 'like', 'doomguy', 'rip', 'tear', 'just', 'time', 'marauder', 'oh', 'guy', 'demon', 'game', 'did']\n"
     ]
    }
   ],
   "source": [
    "feature_words = tfidf.get_feature_names()\n",
    "n = 15 #number of top words associated with the category that we wish to see\n",
    "\n",
    "#for cat in range(len(target_names)):\n",
    "print(f\"\\nTarget: {0}, name: {'Doom'}\")\n",
    "log_prob = nb_model.feature_log_prob_[0]\n",
    "i_topn = np.argsort(log_prob)[::-1][:n]\n",
    "type(feature_words)\n",
    "doom_titles=[np.e**log_prob[i] for i in i_topn]\n",
    "title_words_doom = [feature_words[i] for i in i_topn]\n",
    "print(f\"Top {n} tokens: \", title_words_doom)"
   ]
  },
  {
   "cell_type": "code",
   "execution_count": 123,
   "metadata": {},
   "outputs": [
    {
     "name": "stdout",
     "output_type": "stream",
     "text": [
      "\n",
      "Target: 1, name: AnimalCrossing\n",
      "Top 15 tokens:  ['crossing', 'island', 'animal', 'like', 'just', 'day', 'villagers', 'did', 'finally', 'really', 'time', 'blathers', 'oc', 've', 'today']\n"
     ]
    }
   ],
   "source": [
    "print(f\"\\nTarget: {1}, name: {'AnimalCrossing'}\")\n",
    "log_prob = nb_model.feature_log_prob_[1]\n",
    "i_topn = np.argsort(log_prob)[::-1][:n]\n",
    "type(feature_words)\n",
    "acnh_titles=[np.e**log_prob[i] for i in i_topn]\n",
    "title_words_acnh = [feature_words[i] for i in i_topn]\n",
    "print(f\"Top {n} tokens: \", title_words_acnh)"
   ]
  },
  {
   "cell_type": "code",
   "execution_count": 124,
   "metadata": {},
   "outputs": [
    {
     "data": {
      "text/plain": [
       "remember        0.986554\n",
       "fun             0.766855\n",
       "send            3.292632\n",
       "appreciacion    0.828448\n",
       "lead            1.688697\n",
       "                  ...   \n",
       "holding         1.377251\n",
       "genuinely       0.474943\n",
       "38              1.000000\n",
       "friendship      0.707107\n",
       "screening       0.707107\n",
       "Length: 2875, dtype: float64"
      ]
     },
     "execution_count": 124,
     "metadata": {},
     "output_type": "execute_result"
    }
   ],
   "source": [
    "titles_sum=X_tf_idf.sum(axis=0)\n",
    "titles_sum"
   ]
  },
  {
   "cell_type": "code",
   "execution_count": 125,
   "metadata": {},
   "outputs": [],
   "source": [
    "acnh_titles=np.array(acnh_titles)/sum(acnh_titles)"
   ]
  },
  {
   "cell_type": "markdown",
   "metadata": {},
   "source": [
    "Building a graph of what's most doom, size of feature is the normalized probability of finding the word in a post, given that post is a doom post"
   ]
  },
  {
   "cell_type": "code",
   "execution_count": 126,
   "metadata": {},
   "outputs": [],
   "source": [
    "dtc=['#9c3023',\n",
    " '#FCFF93',\n",
    " '#FCFF67',\n",
    " '#FCE83E',\n",
    " '#FCE816',\n",
    " '#FCD016',\n",
    " '#FCB916',\n",
    " '#FC9516',\n",
    " '#FC8116',\n",
    " '#CB8116',\n",
    " '#BC6E16',\n",
    " '#BC8316',\n",
    " '#BC9416',\n",
    " '#2E3C40',\n",
    " '#8c2013']"
   ]
  },
  {
   "cell_type": "code",
   "execution_count": 127,
   "metadata": {},
   "outputs": [],
   "source": [
    "doom_titles=np.array(doom_titles)/sum(doom_titles)"
   ]
  },
  {
   "cell_type": "code",
   "execution_count": 128,
   "metadata": {},
   "outputs": [
    {
     "name": "stderr",
     "output_type": "stream",
     "text": [
      "findfont: Font family ['Courier'] not found. Falling back to DejaVu Sans.\n"
     ]
    },
    {
     "data": {
      "image/png": "[encoded data removed]",
      "text/plain": [
       "<Figure size 432x288 with 1 Axes>"
      ]
     },
     "metadata": {},
     "output_type": "display_data"
    }
   ],
   "source": [
    "plt.pie(doom_titles, colors=dtc, labels=list(title_words_doom), \n",
    "        labeldistance=0.80 ,radius=2, startangle=76, \n",
    "        counterclock=False, textprops={'fontsize': 14, 'fontname': 'Courier'})\n",
    "centre_circle = plt.Circle((0,0),0.75,color='black', fc='white',linewidth=0)\n",
    "fig = plt.gcf()\n",
    "fig.gca().add_artist(centre_circle)\n",
    "plt.title('Doom Title Words', pad=70);\n",
    "plt.savefig('../graphs/titles_doom_pie.png', bbox_inches='tight')"
   ]
  },
  {
   "cell_type": "code",
   "execution_count": 129,
   "metadata": {},
   "outputs": [],
   "source": [
    "act = ['#93A5A9',\n",
    " '#8ACD92',\n",
    " '#9DCD92',\n",
    " '#69CD92',\n",
    " '#7ACD92',\n",
    " '#7BFC47',\n",
    " '#98FC47',\n",
    " '#C0FC47',\n",
    " '#D3FC25',\n",
    " '#D3EC51',\n",
    " '#3BECA1',\n",
    " '#64C870',\n",
    " '#64B170',\n",
    " '#649270',\n",
    " '#647370']"
   ]
  },
  {
   "cell_type": "code",
   "execution_count": 130,
   "metadata": {},
   "outputs": [
    {
     "data": {
      "image/png": "[encoded data removed]",
      "text/plain": [
       "<Figure size 432x288 with 1 Axes>"
      ]
     },
     "metadata": {},
     "output_type": "display_data"
    }
   ],
   "source": [
    "plt.pie(acnh_titles, colors=act, labels=list(title_words_acnh), \n",
    "        labeldistance=0.80 ,radius=2, startangle=76, \n",
    "        counterclock=False, textprops={'fontsize': 14, 'family': 'fantasy'})\n",
    "centre_circle = plt.Circle((0,0),0.75,color='black', fc='white',linewidth=0)\n",
    "fig = plt.gcf()\n",
    "fig.gca().add_artist(centre_circle)\n",
    "plt.title('Animal Crossing Title Words', pad=70)\n",
    "plt.savefig('../graphs/acnh_titles_pie.png', bbox_inches='tight')"
   ]
  },
  {
   "cell_type": "code",
   "execution_count": null,
   "metadata": {},
   "outputs": [],
   "source": []
  },
  {
   "cell_type": "code",
   "execution_count": 131,
   "metadata": {},
   "outputs": [],
   "source": [
    "acnh1=pd.read_csv('../NLP/acnh_txt.csv')\n",
    "doom1=pd.read_csv('../NLP/doom_txt.csv')"
   ]
  },
  {
   "cell_type": "code",
   "execution_count": 132,
   "metadata": {},
   "outputs": [],
   "source": [
    "acnh1 = acnh1[~acnh1['body'].isnull()]\n",
    "doom1 = doom1[~doom1['body'].isnull()]"
   ]
  },
  {
   "cell_type": "code",
   "execution_count": 133,
   "metadata": {},
   "outputs": [],
   "source": [
    "import pandas as pd\n",
    "import numpy as np\n",
    "import unicodedata\n",
    "from nltk.tokenize import sent_tokenize #tokenizes sentences\n",
    "from nltk.tokenize import word_tokenize #tokenizes words\n",
    "from nltk.corpus import stopwords\n",
    "import string\n",
    "from nltk.util import ngrams\n",
    "from nltk.stem.porter import PorterStemmer\n",
    "from nltk.stem.snowball import SnowballStemmer\n",
    "from nltk import pos_tag #tags the parts of speech.  VB=Verbs\n",
    "from nltk import RegexpParser\n",
    "from collections import Counter\n",
    "from sklearn.feature_extraction.text import CountVectorizer\n",
    "from sklearn.feature_extraction.text import TfidfVectorizer\n",
    "from sklearn.naive_bayes import MultinomialNB\n",
    "from sklearn.model_selection import train_test_split, KFold\n",
    "import scipy.stats as scs\n",
    "from sklearn.linear_model import LogisticRegression\n",
    "from sklearn.metrics import log_loss\n",
    "from sklearn.metrics import recall_score\n",
    "from sklearn.metrics import accuracy_score\n",
    "punctuation_ = set(string.punctuation)\n",
    "stopwords_ = set(stopwords.words('english'))\n",
    "import matplotlib.pyplot as plt\n",
    "import re"
   ]
  },
  {
   "cell_type": "code",
   "execution_count": 134,
   "metadata": {},
   "outputs": [],
   "source": [
    "index_a=pd.Index(acnh1['id'])\n",
    "acnh_sub=pd.DataFrame(acnh1['subreddit']).set_index(index_a)\n",
    "index_d=pd.Index(doom1['id'])\n",
    "doom_sub=pd.DataFrame(doom1['subreddit']).set_index(index_d)"
   ]
  },
  {
   "cell_type": "code",
   "execution_count": 135,
   "metadata": {},
   "outputs": [],
   "source": [
    "Xa_b=pd.DataFrame(acnh1['body']).set_index(index_a)\n",
    "Xd_b=pd.DataFrame(doom1['body']).set_index(index_d)\n",
    "X_body=pd.concat([Xa_b, Xd_b])\n",
    "X_titles=pd.concat([Xd, Xa])\n",
    "y=pd.concat([doom_sub ,acnh_sub])"
   ]
  },
  {
   "cell_type": "code",
   "execution_count": 136,
   "metadata": {},
   "outputs": [],
   "source": [
    "y=pd.get_dummies(y)\n",
    "y=y.iloc[:,0]"
   ]
  },
  {
   "cell_type": "code",
   "execution_count": 137,
   "metadata": {},
   "outputs": [],
   "source": [
    "punctuation_.remove('!')\n",
    "punctuation_.remove('?')"
   ]
  },
  {
   "cell_type": "code",
   "execution_count": 138,
   "metadata": {},
   "outputs": [
    {
     "data": {
      "text/plain": [
       "<bound method PorterStemmer.stem of <PorterStemmer>>"
      ]
     },
     "execution_count": 138,
     "metadata": {},
     "output_type": "execute_result"
    }
   ],
   "source": [
    "stemmer_porter=PorterStemmer()\n",
    "stemmer_porter.stem"
   ]
  },
  {
   "cell_type": "code",
   "execution_count": 139,
   "metadata": {},
   "outputs": [],
   "source": [
    "tokens=[]\n",
    "for i in range(len(X_body)):\n",
    "    url_rem=re.sub(r'http\\S+', '', X_body['body'][i])\n",
    "    nl_rem=url_rem.replace('\\n', '')\n",
    "    words=word_tokenize(nl_rem)\n",
    "    lower_words=[w.lower() for w in words]\n",
    "    filtered_words=[w for w in lower_words if w not in stopwords_ and w not in punctuation_]\n",
    "    token=[stemmer_porter.stem(words) for words in filtered_words]\n",
    "    s=' '\n",
    "    s=s.join(token)\n",
    "    tokens.append(s)"
   ]
  },
  {
   "cell_type": "code",
   "execution_count": 140,
   "metadata": {},
   "outputs": [
    {
     "data": {
      "text/html": [
       "<div>\n",
       "<style scoped>\n",
       "    .dataframe tbody tr th:only-of-type {\n",
       "        vertical-align: middle;\n",
       "    }\n",
       "\n",
       "    .dataframe tbody tr th {\n",
       "        vertical-align: top;\n",
       "    }\n",
       "\n",
       "    .dataframe thead th {\n",
       "        text-align: right;\n",
       "    }\n",
       "</style>\n",
       "<table border=\"1\" class=\"dataframe\">\n",
       "  <thead>\n",
       "    <tr style=\"text-align: right;\">\n",
       "      <th></th>\n",
       "      <th>want</th>\n",
       "      <th>draw</th>\n",
       "      <th>fanart</th>\n",
       "      <th>view</th>\n",
       "      <th>poll</th>\n",
       "      <th>could</th>\n",
       "      <th>turkey</th>\n",
       "      <th>day</th>\n",
       "      <th>26th</th>\n",
       "      <th>time</th>\n",
       "      <th>...</th>\n",
       "      <th>friendly3</th>\n",
       "      <th>toaster</th>\n",
       "      <th>friendlyi</th>\n",
       "      <th>zandronum</th>\n",
       "      <th>particularli</th>\n",
       "      <th>superman</th>\n",
       "      <th>deadpool</th>\n",
       "      <th>toxin</th>\n",
       "      <th>symbiot</th>\n",
       "      <th>thrash</th>\n",
       "    </tr>\n",
       "    <tr>\n",
       "      <th>id</th>\n",
       "      <th></th>\n",
       "      <th></th>\n",
       "      <th></th>\n",
       "      <th></th>\n",
       "      <th></th>\n",
       "      <th></th>\n",
       "      <th></th>\n",
       "      <th></th>\n",
       "      <th></th>\n",
       "      <th></th>\n",
       "      <th></th>\n",
       "      <th></th>\n",
       "      <th></th>\n",
       "      <th></th>\n",
       "      <th></th>\n",
       "      <th></th>\n",
       "      <th></th>\n",
       "      <th></th>\n",
       "      <th></th>\n",
       "      <th></th>\n",
       "      <th></th>\n",
       "    </tr>\n",
       "  </thead>\n",
       "  <tbody>\n",
       "    <tr>\n",
       "      <th>k2xjwx</th>\n",
       "      <td>0.0</td>\n",
       "      <td>0.0</td>\n",
       "      <td>0.0</td>\n",
       "      <td>0.0</td>\n",
       "      <td>0.0</td>\n",
       "      <td>0.0</td>\n",
       "      <td>0.0</td>\n",
       "      <td>0.000000</td>\n",
       "      <td>0.0</td>\n",
       "      <td>0.0</td>\n",
       "      <td>...</td>\n",
       "      <td>0.00000</td>\n",
       "      <td>0.0</td>\n",
       "      <td>0.0</td>\n",
       "      <td>0.0</td>\n",
       "      <td>0.0</td>\n",
       "      <td>0.0</td>\n",
       "      <td>0.0</td>\n",
       "      <td>0.0</td>\n",
       "      <td>0.0</td>\n",
       "      <td>0.0</td>\n",
       "    </tr>\n",
       "    <tr>\n",
       "      <th>k2xjwx</th>\n",
       "      <td>0.0</td>\n",
       "      <td>0.0</td>\n",
       "      <td>0.0</td>\n",
       "      <td>0.0</td>\n",
       "      <td>0.0</td>\n",
       "      <td>0.0</td>\n",
       "      <td>0.0</td>\n",
       "      <td>0.000000</td>\n",
       "      <td>0.0</td>\n",
       "      <td>0.0</td>\n",
       "      <td>...</td>\n",
       "      <td>0.00000</td>\n",
       "      <td>0.0</td>\n",
       "      <td>0.0</td>\n",
       "      <td>0.0</td>\n",
       "      <td>0.0</td>\n",
       "      <td>0.0</td>\n",
       "      <td>0.0</td>\n",
       "      <td>0.0</td>\n",
       "      <td>0.0</td>\n",
       "      <td>0.0</td>\n",
       "    </tr>\n",
       "    <tr>\n",
       "      <th>k2xja1</th>\n",
       "      <td>0.0</td>\n",
       "      <td>0.0</td>\n",
       "      <td>0.0</td>\n",
       "      <td>0.0</td>\n",
       "      <td>0.0</td>\n",
       "      <td>0.0</td>\n",
       "      <td>0.0</td>\n",
       "      <td>0.000000</td>\n",
       "      <td>0.0</td>\n",
       "      <td>0.0</td>\n",
       "      <td>...</td>\n",
       "      <td>0.00000</td>\n",
       "      <td>0.0</td>\n",
       "      <td>0.0</td>\n",
       "      <td>0.0</td>\n",
       "      <td>0.0</td>\n",
       "      <td>0.0</td>\n",
       "      <td>0.0</td>\n",
       "      <td>0.0</td>\n",
       "      <td>0.0</td>\n",
       "      <td>0.0</td>\n",
       "    </tr>\n",
       "    <tr>\n",
       "      <th>k2x9wb</th>\n",
       "      <td>0.0</td>\n",
       "      <td>0.0</td>\n",
       "      <td>0.0</td>\n",
       "      <td>0.0</td>\n",
       "      <td>0.0</td>\n",
       "      <td>0.0</td>\n",
       "      <td>0.0</td>\n",
       "      <td>0.000000</td>\n",
       "      <td>0.0</td>\n",
       "      <td>0.0</td>\n",
       "      <td>...</td>\n",
       "      <td>0.00000</td>\n",
       "      <td>0.0</td>\n",
       "      <td>0.0</td>\n",
       "      <td>0.0</td>\n",
       "      <td>0.0</td>\n",
       "      <td>0.0</td>\n",
       "      <td>0.0</td>\n",
       "      <td>0.0</td>\n",
       "      <td>0.0</td>\n",
       "      <td>0.0</td>\n",
       "    </tr>\n",
       "    <tr>\n",
       "      <th>k2x987</th>\n",
       "      <td>0.0</td>\n",
       "      <td>0.0</td>\n",
       "      <td>0.0</td>\n",
       "      <td>0.0</td>\n",
       "      <td>0.0</td>\n",
       "      <td>0.0</td>\n",
       "      <td>0.0</td>\n",
       "      <td>0.000000</td>\n",
       "      <td>0.0</td>\n",
       "      <td>0.0</td>\n",
       "      <td>...</td>\n",
       "      <td>0.00000</td>\n",
       "      <td>0.0</td>\n",
       "      <td>0.0</td>\n",
       "      <td>0.0</td>\n",
       "      <td>0.0</td>\n",
       "      <td>0.0</td>\n",
       "      <td>0.0</td>\n",
       "      <td>0.0</td>\n",
       "      <td>0.0</td>\n",
       "      <td>0.0</td>\n",
       "    </tr>\n",
       "    <tr>\n",
       "      <th>...</th>\n",
       "      <td>...</td>\n",
       "      <td>...</td>\n",
       "      <td>...</td>\n",
       "      <td>...</td>\n",
       "      <td>...</td>\n",
       "      <td>...</td>\n",
       "      <td>...</td>\n",
       "      <td>...</td>\n",
       "      <td>...</td>\n",
       "      <td>...</td>\n",
       "      <td>...</td>\n",
       "      <td>...</td>\n",
       "      <td>...</td>\n",
       "      <td>...</td>\n",
       "      <td>...</td>\n",
       "      <td>...</td>\n",
       "      <td>...</td>\n",
       "      <td>...</td>\n",
       "      <td>...</td>\n",
       "      <td>...</td>\n",
       "      <td>...</td>\n",
       "    </tr>\n",
       "    <tr>\n",
       "      <th>jyn1lj</th>\n",
       "      <td>0.0</td>\n",
       "      <td>0.0</td>\n",
       "      <td>0.0</td>\n",
       "      <td>0.0</td>\n",
       "      <td>0.0</td>\n",
       "      <td>0.0</td>\n",
       "      <td>0.0</td>\n",
       "      <td>0.000000</td>\n",
       "      <td>0.0</td>\n",
       "      <td>0.0</td>\n",
       "      <td>...</td>\n",
       "      <td>0.00000</td>\n",
       "      <td>0.0</td>\n",
       "      <td>0.0</td>\n",
       "      <td>0.0</td>\n",
       "      <td>0.0</td>\n",
       "      <td>0.0</td>\n",
       "      <td>0.0</td>\n",
       "      <td>0.0</td>\n",
       "      <td>0.0</td>\n",
       "      <td>0.0</td>\n",
       "    </tr>\n",
       "    <tr>\n",
       "      <th>jymyk5</th>\n",
       "      <td>0.0</td>\n",
       "      <td>0.0</td>\n",
       "      <td>0.0</td>\n",
       "      <td>0.0</td>\n",
       "      <td>0.0</td>\n",
       "      <td>0.0</td>\n",
       "      <td>0.0</td>\n",
       "      <td>0.204218</td>\n",
       "      <td>0.0</td>\n",
       "      <td>0.0</td>\n",
       "      <td>...</td>\n",
       "      <td>0.00000</td>\n",
       "      <td>0.0</td>\n",
       "      <td>0.0</td>\n",
       "      <td>0.0</td>\n",
       "      <td>0.0</td>\n",
       "      <td>0.0</td>\n",
       "      <td>0.0</td>\n",
       "      <td>0.0</td>\n",
       "      <td>0.0</td>\n",
       "      <td>0.0</td>\n",
       "    </tr>\n",
       "    <tr>\n",
       "      <th>jylthc</th>\n",
       "      <td>0.0</td>\n",
       "      <td>0.0</td>\n",
       "      <td>0.0</td>\n",
       "      <td>0.0</td>\n",
       "      <td>0.0</td>\n",
       "      <td>0.0</td>\n",
       "      <td>0.0</td>\n",
       "      <td>0.000000</td>\n",
       "      <td>0.0</td>\n",
       "      <td>0.0</td>\n",
       "      <td>...</td>\n",
       "      <td>0.00000</td>\n",
       "      <td>0.0</td>\n",
       "      <td>0.0</td>\n",
       "      <td>0.0</td>\n",
       "      <td>0.0</td>\n",
       "      <td>0.0</td>\n",
       "      <td>0.0</td>\n",
       "      <td>0.0</td>\n",
       "      <td>0.0</td>\n",
       "      <td>0.0</td>\n",
       "    </tr>\n",
       "    <tr>\n",
       "      <th>jyl78q</th>\n",
       "      <td>0.0</td>\n",
       "      <td>0.0</td>\n",
       "      <td>0.0</td>\n",
       "      <td>0.0</td>\n",
       "      <td>0.0</td>\n",
       "      <td>0.0</td>\n",
       "      <td>0.0</td>\n",
       "      <td>0.000000</td>\n",
       "      <td>0.0</td>\n",
       "      <td>0.0</td>\n",
       "      <td>...</td>\n",
       "      <td>0.23378</td>\n",
       "      <td>0.0</td>\n",
       "      <td>0.0</td>\n",
       "      <td>0.0</td>\n",
       "      <td>0.0</td>\n",
       "      <td>0.0</td>\n",
       "      <td>0.0</td>\n",
       "      <td>0.0</td>\n",
       "      <td>0.0</td>\n",
       "      <td>0.0</td>\n",
       "    </tr>\n",
       "    <tr>\n",
       "      <th>jyknhk</th>\n",
       "      <td>0.0</td>\n",
       "      <td>0.0</td>\n",
       "      <td>0.0</td>\n",
       "      <td>0.0</td>\n",
       "      <td>0.0</td>\n",
       "      <td>0.0</td>\n",
       "      <td>0.0</td>\n",
       "      <td>0.000000</td>\n",
       "      <td>0.0</td>\n",
       "      <td>0.0</td>\n",
       "      <td>...</td>\n",
       "      <td>0.00000</td>\n",
       "      <td>0.0</td>\n",
       "      <td>0.0</td>\n",
       "      <td>0.0</td>\n",
       "      <td>0.0</td>\n",
       "      <td>0.0</td>\n",
       "      <td>0.0</td>\n",
       "      <td>0.0</td>\n",
       "      <td>0.0</td>\n",
       "      <td>0.0</td>\n",
       "    </tr>\n",
       "  </tbody>\n",
       "</table>\n",
       "<p>583 rows × 3722 columns</p>\n",
       "</div>"
      ],
      "text/plain": [
       "        want  draw  fanart  view  poll  could  turkey       day  26th  time  \\\n",
       "id                                                                            \n",
       "k2xjwx   0.0   0.0     0.0   0.0   0.0    0.0     0.0  0.000000   0.0   0.0   \n",
       "k2xjwx   0.0   0.0     0.0   0.0   0.0    0.0     0.0  0.000000   0.0   0.0   \n",
       "k2xja1   0.0   0.0     0.0   0.0   0.0    0.0     0.0  0.000000   0.0   0.0   \n",
       "k2x9wb   0.0   0.0     0.0   0.0   0.0    0.0     0.0  0.000000   0.0   0.0   \n",
       "k2x987   0.0   0.0     0.0   0.0   0.0    0.0     0.0  0.000000   0.0   0.0   \n",
       "...      ...   ...     ...   ...   ...    ...     ...       ...   ...   ...   \n",
       "jyn1lj   0.0   0.0     0.0   0.0   0.0    0.0     0.0  0.000000   0.0   0.0   \n",
       "jymyk5   0.0   0.0     0.0   0.0   0.0    0.0     0.0  0.204218   0.0   0.0   \n",
       "jylthc   0.0   0.0     0.0   0.0   0.0    0.0     0.0  0.000000   0.0   0.0   \n",
       "jyl78q   0.0   0.0     0.0   0.0   0.0    0.0     0.0  0.000000   0.0   0.0   \n",
       "jyknhk   0.0   0.0     0.0   0.0   0.0    0.0     0.0  0.000000   0.0   0.0   \n",
       "\n",
       "        ...  friendly3  toaster  friendlyi  zandronum  particularli  superman  \\\n",
       "id      ...                                                                     \n",
       "k2xjwx  ...    0.00000      0.0        0.0        0.0           0.0       0.0   \n",
       "k2xjwx  ...    0.00000      0.0        0.0        0.0           0.0       0.0   \n",
       "k2xja1  ...    0.00000      0.0        0.0        0.0           0.0       0.0   \n",
       "k2x9wb  ...    0.00000      0.0        0.0        0.0           0.0       0.0   \n",
       "k2x987  ...    0.00000      0.0        0.0        0.0           0.0       0.0   \n",
       "...     ...        ...      ...        ...        ...           ...       ...   \n",
       "jyn1lj  ...    0.00000      0.0        0.0        0.0           0.0       0.0   \n",
       "jymyk5  ...    0.00000      0.0        0.0        0.0           0.0       0.0   \n",
       "jylthc  ...    0.00000      0.0        0.0        0.0           0.0       0.0   \n",
       "jyl78q  ...    0.23378      0.0        0.0        0.0           0.0       0.0   \n",
       "jyknhk  ...    0.00000      0.0        0.0        0.0           0.0       0.0   \n",
       "\n",
       "        deadpool  toxin  symbiot  thrash  \n",
       "id                                        \n",
       "k2xjwx       0.0    0.0      0.0     0.0  \n",
       "k2xjwx       0.0    0.0      0.0     0.0  \n",
       "k2xja1       0.0    0.0      0.0     0.0  \n",
       "k2x9wb       0.0    0.0      0.0     0.0  \n",
       "k2x987       0.0    0.0      0.0     0.0  \n",
       "...          ...    ...      ...     ...  \n",
       "jyn1lj       0.0    0.0      0.0     0.0  \n",
       "jymyk5       0.0    0.0      0.0     0.0  \n",
       "jylthc       0.0    0.0      0.0     0.0  \n",
       "jyl78q       0.0    0.0      0.0     0.0  \n",
       "jyknhk       0.0    0.0      0.0     0.0  \n",
       "\n",
       "[583 rows x 3722 columns]"
      ]
     },
     "execution_count": 140,
     "metadata": {},
     "output_type": "execute_result"
    }
   ],
   "source": [
    "arr=np.array(tokens)\n",
    "X=pd.DataFrame(arr, index=X_body.index)\n",
    "tfidf = TfidfVectorizer(smooth_idf=True)  # Checkout out the options!\n",
    "document_tfidf_matrix = tfidf.fit_transform(X.iloc[:,0])\n",
    "X_tf_idf = pd.DataFrame(document_tfidf_matrix.todense(), columns = tfidf.vocabulary_)\n",
    "X_tf_idf.set_index(X.index)"
   ]
  },
  {
   "cell_type": "code",
   "execution_count": 141,
   "metadata": {},
   "outputs": [
    {
     "data": {
      "text/plain": [
       "MultinomialNB()"
      ]
     },
     "execution_count": 141,
     "metadata": {},
     "output_type": "execute_result"
    }
   ],
   "source": [
    "y=pd.get_dummies(y)\n",
    "y_nb=y.iloc[:,0]\n",
    "nb_model=MultinomialNB()\n",
    "nb_model.fit(X_tf_idf, y_nb)"
   ]
  },
  {
   "cell_type": "code",
   "execution_count": 142,
   "metadata": {},
   "outputs": [
    {
     "name": "stdout",
     "output_type": "stream",
     "text": [
      "\n",
      "Target: 0, name: Doom\n",
      "Top 15 tokens:  ['doom', 'eternal', 'slayer', 'like', 'doomguy', 'rip', 'tear', 'just', 'time', 'marauder', 'oh', 'guy', 'demon', 'game', 'did']\n"
     ]
    }
   ],
   "source": [
    "feature_words = tfidf.get_feature_names()\n",
    "n = 15 #number of top words associated with the category that we wish to see\n",
    "\n",
    "#for cat in range(len(target_names)):\n",
    "print(f\"\\nTarget: {0}, name: {'Doom'}\")\n",
    "log_prob = nb_model.feature_log_prob_[0]\n",
    "i_topn = np.argsort(log_prob)[::-1][:n]\n",
    "type(feature_words)\n",
    "acnh_body=[np.e**log_prob[i] for i in i_topn]\n",
    "body_words_doom = [feature_words[i] for i in i_topn]\n",
    "print(f\"Top {n} tokens: \", title_words_doom)"
   ]
  },
  {
   "cell_type": "code",
   "execution_count": 143,
   "metadata": {},
   "outputs": [
    {
     "name": "stdout",
     "output_type": "stream",
     "text": [
      "\n",
      "Target: 1, name: AnimalCrossing\n",
      "Top 15 tokens:  ['crossing', 'island', 'animal', 'like', 'just', 'day', 'villagers', 'did', 'finally', 'really', 'time', 'blathers', 'oc', 've', 'today']\n"
     ]
    }
   ],
   "source": [
    "print(f\"\\nTarget: {1}, name: {'AnimalCrossing'}\")\n",
    "log_prob = nb_model.feature_log_prob_[1]\n",
    "i_topn = np.argsort(log_prob)[::-1][:n]\n",
    "type(feature_words)\n",
    "doom_body=[np.e**log_prob[i] for i in i_topn]\n",
    "body_words_acnh = [feature_words[i] for i in i_topn]\n",
    "print(f\"Top {n} tokens: \", title_words_acnh)"
   ]
  },
  {
   "cell_type": "code",
   "execution_count": 144,
   "metadata": {},
   "outputs": [
    {
     "data": {
      "text/plain": [
       "want        0.340261\n",
       "draw        0.204968\n",
       "fanart      0.211436\n",
       "view        0.235713\n",
       "poll        0.211436\n",
       "              ...   \n",
       "superman    0.291139\n",
       "deadpool    1.101654\n",
       "toxin       0.165232\n",
       "symbiot     0.363924\n",
       "thrash      0.474390\n",
       "Length: 3722, dtype: float64"
      ]
     },
     "execution_count": 144,
     "metadata": {},
     "output_type": "execute_result"
    }
   ],
   "source": [
    "titles_sum=X_tf_idf.sum(axis=0)\n",
    "titles_sum"
   ]
  },
  {
   "cell_type": "code",
   "execution_count": 148,
   "metadata": {},
   "outputs": [],
   "source": [
    "acw = ['#BEFF8C',\n",
    " '#DDFF8C',\n",
    " '#D08D90',\n",
    " '#D0DC90',\n",
    " '#D0DCAD',\n",
    " '#D0BEAD',\n",
    " '#F38FAD',\n",
    " '#F3ACC3',\n",
    " '#F3EAC3',\n",
    " '#C9EAC3',\n",
    " '#C0EAA1',\n",
    " '#A7FF6A',\n",
    " '#F9E0E5',\n",
    " '#ECECEB',\n",
    " '#6B6E75']"
   ]
  },
  {
   "cell_type": "code",
   "execution_count": 149,
   "metadata": {},
   "outputs": [],
   "source": [
    "acnh_body_norm=acnh_body/np.sum(acnh_body)\n",
    "doom_body_norm=doom_body/np.sum(doom_body)"
   ]
  },
  {
   "cell_type": "code",
   "execution_count": 156,
   "metadata": {},
   "outputs": [
    {
     "data": {
      "image/png": "[encoded data removed]",
      "text/plain": [
       "<Figure size 432x288 with 1 Axes>"
      ]
     },
     "metadata": {},
     "output_type": "display_data"
    }
   ],
   "source": [
    "plt.pie(acnh_body_norm, colors=acw, labels=list(body_words_acnh), \n",
    "        labeldistance=0.85, radius=2.5, startangle=50, \n",
    "        counterclock=False, textprops={'fontsize': 14, 'family': 'fantasy'})\n",
    "plt.pie(acnh_titles, colors=act, labels=list(title_words_acnh), \n",
    "        labeldistance=0.80 ,radius=2, startangle=76, \n",
    "        counterclock=False, textprops={'fontsize': 14, 'family': 'fantasy'})\n",
    "centre_circle = plt.Circle((0,0),0.75,color='black', fc='white',linewidth=0)\n",
    "fig = plt.gcf()\n",
    "fig.gca().add_artist(centre_circle)\n",
    "plt.title('Animal Crossing Title and Body Words', pad=120)\n",
    "plt.savefig('../graphs/a_t_b.png', bbox_inches='tight')"
   ]
  },
  {
   "cell_type": "code",
   "execution_count": 151,
   "metadata": {},
   "outputs": [],
   "source": [
    "dcw=['#C34130',\n",
    " '#A14130',\n",
    " '#A11D30',\n",
    " '#A18530',\n",
    " '#D28530',\n",
    " '#DF8530',\n",
    " '#DF7130',\n",
    " '#F06727',\n",
    " '#FF9301',\n",
    " '#EBAF16',\n",
    " '#EB9316',\n",
    " '#EB9330',\n",
    " '#EB0230',\n",
    " '#EB4C36',\n",
    " '#FCFFFF']"
   ]
  },
  {
   "cell_type": "code",
   "execution_count": 157,
   "metadata": {},
   "outputs": [
    {
     "data": {
      "image/png": "[encoded data removed]",
      "text/plain": [
       "<Figure size 432x288 with 1 Axes>"
      ]
     },
     "metadata": {},
     "output_type": "display_data"
    }
   ],
   "source": [
    "plt.pie(doom_body_norm, colors=dcw, labels=body_words_doom, \n",
    "        labeldistance=0.85, radius=2.5, startangle=0, \n",
    "        counterclock=False, textprops={'fontsize': 14, 'fontname': 'Courier New'})\n",
    "plt.pie(doom_titles, colors=dtc, labels=list(title_words_doom), \n",
    "        labeldistance=0.80 ,radius=2, startangle=76, \n",
    "        counterclock=False, textprops={'fontsize': 12, 'fontname': 'Courier New'})\n",
    "centre_circle = plt.Circle((0,0),0.75,color='black', fc='white',linewidth=0)\n",
    "fig = plt.gcf()\n",
    "fig.gca().add_artist(centre_circle)\n",
    "plt.title('Doom Title Words', pad=120);\n",
    "plt.savefig('../graphs/d_t_b_.png', bbox_inches='tight')"
   ]
  },
  {
   "cell_type": "code",
   "execution_count": 159,
   "metadata": {},
   "outputs": [],
   "source": [
    "acnh_colors=pd.read_csv('../acnh_color/acnh_colors.csv')\n",
    "doom_colors=pd.read_csv('../doom_color/doom_colors.csv')"
   ]
  },
  {
   "cell_type": "code",
   "execution_count": 160,
   "metadata": {},
   "outputs": [],
   "source": [
    "index_a=pd.Index(acnh['id'])\n",
    "acnh_sub=pd.DataFrame(acnh['subreddit']).set_index(index_a)\n",
    "index_d=pd.Index(doom['id'])\n",
    "doom_sub=pd.DataFrame(doom['subreddit']).set_index(index_d)"
   ]
  },
  {
   "cell_type": "code",
   "execution_count": 161,
   "metadata": {},
   "outputs": [],
   "source": [
    "X_color=doom_colors.append(acnh_colors).set_index(keys='filename')"
   ]
  },
  {
   "cell_type": "code",
   "execution_count": 162,
   "metadata": {},
   "outputs": [
    {
     "data": {
      "text/html": [
       "<div>\n",
       "<style scoped>\n",
       "    .dataframe tbody tr th:only-of-type {\n",
       "        vertical-align: middle;\n",
       "    }\n",
       "\n",
       "    .dataframe tbody tr th {\n",
       "        vertical-align: top;\n",
       "    }\n",
       "\n",
       "    .dataframe thead th {\n",
       "        text-align: right;\n",
       "    }\n",
       "</style>\n",
       "<table border=\"1\" class=\"dataframe\">\n",
       "  <thead>\n",
       "    <tr style=\"text-align: right;\">\n",
       "      <th></th>\n",
       "      <th>0b</th>\n",
       "      <th>0count</th>\n",
       "      <th>0g</th>\n",
       "      <th>0r</th>\n",
       "      <th>10b</th>\n",
       "      <th>10count</th>\n",
       "      <th>10g</th>\n",
       "      <th>10r</th>\n",
       "      <th>11b</th>\n",
       "      <th>11count</th>\n",
       "      <th>...</th>\n",
       "      <th>7g</th>\n",
       "      <th>7r</th>\n",
       "      <th>8b</th>\n",
       "      <th>8count</th>\n",
       "      <th>8g</th>\n",
       "      <th>8r</th>\n",
       "      <th>9b</th>\n",
       "      <th>9count</th>\n",
       "      <th>9g</th>\n",
       "      <th>9r</th>\n",
       "    </tr>\n",
       "    <tr>\n",
       "      <th>filename</th>\n",
       "      <th></th>\n",
       "      <th></th>\n",
       "      <th></th>\n",
       "      <th></th>\n",
       "      <th></th>\n",
       "      <th></th>\n",
       "      <th></th>\n",
       "      <th></th>\n",
       "      <th></th>\n",
       "      <th></th>\n",
       "      <th></th>\n",
       "      <th></th>\n",
       "      <th></th>\n",
       "      <th></th>\n",
       "      <th></th>\n",
       "      <th></th>\n",
       "      <th></th>\n",
       "      <th></th>\n",
       "      <th></th>\n",
       "      <th></th>\n",
       "      <th></th>\n",
       "    </tr>\n",
       "  </thead>\n",
       "  <tbody>\n",
       "    <tr>\n",
       "      <th>ksn72cinsy151.png</th>\n",
       "      <td>40.0</td>\n",
       "      <td>461.0</td>\n",
       "      <td>45.0</td>\n",
       "      <td>165.0</td>\n",
       "      <td>80.0</td>\n",
       "      <td>2409.0</td>\n",
       "      <td>75.0</td>\n",
       "      <td>80.0</td>\n",
       "      <td>150.0</td>\n",
       "      <td>3143.0</td>\n",
       "      <td>...</td>\n",
       "      <td>70.0</td>\n",
       "      <td>80.0</td>\n",
       "      <td>205.0</td>\n",
       "      <td>1983.0</td>\n",
       "      <td>200.0</td>\n",
       "      <td>210.0</td>\n",
       "      <td>90.0</td>\n",
       "      <td>2091.0</td>\n",
       "      <td>45.0</td>\n",
       "      <td>55.0</td>\n",
       "    </tr>\n",
       "    <tr>\n",
       "      <th>ik4d2mpi1fo41.png</th>\n",
       "      <td>60.0</td>\n",
       "      <td>264.0</td>\n",
       "      <td>85.0</td>\n",
       "      <td>30.0</td>\n",
       "      <td>55.0</td>\n",
       "      <td>4404.0</td>\n",
       "      <td>40.0</td>\n",
       "      <td>80.0</td>\n",
       "      <td>80.0</td>\n",
       "      <td>4678.0</td>\n",
       "      <td>...</td>\n",
       "      <td>65.0</td>\n",
       "      <td>110.0</td>\n",
       "      <td>110.0</td>\n",
       "      <td>2963.0</td>\n",
       "      <td>100.0</td>\n",
       "      <td>120.0</td>\n",
       "      <td>95.0</td>\n",
       "      <td>3504.0</td>\n",
       "      <td>85.0</td>\n",
       "      <td>105.0</td>\n",
       "    </tr>\n",
       "    <tr>\n",
       "      <th>y5pddy7h16x41.png</th>\n",
       "      <td>80.0</td>\n",
       "      <td>793.0</td>\n",
       "      <td>225.0</td>\n",
       "      <td>225.0</td>\n",
       "      <td>150.0</td>\n",
       "      <td>3905.0</td>\n",
       "      <td>240.0</td>\n",
       "      <td>190.0</td>\n",
       "      <td>145.0</td>\n",
       "      <td>4567.0</td>\n",
       "      <td>...</td>\n",
       "      <td>250.0</td>\n",
       "      <td>155.0</td>\n",
       "      <td>220.0</td>\n",
       "      <td>3253.0</td>\n",
       "      <td>255.0</td>\n",
       "      <td>195.0</td>\n",
       "      <td>170.0</td>\n",
       "      <td>3657.0</td>\n",
       "      <td>245.0</td>\n",
       "      <td>125.0</td>\n",
       "    </tr>\n",
       "    <tr>\n",
       "      <th>jrk0eogay8s41.png</th>\n",
       "      <td>70.0</td>\n",
       "      <td>50.0</td>\n",
       "      <td>15.0</td>\n",
       "      <td>250.0</td>\n",
       "      <td>100.0</td>\n",
       "      <td>941.0</td>\n",
       "      <td>100.0</td>\n",
       "      <td>100.0</td>\n",
       "      <td>60.0</td>\n",
       "      <td>1036.0</td>\n",
       "      <td>...</td>\n",
       "      <td>175.0</td>\n",
       "      <td>175.0</td>\n",
       "      <td>200.0</td>\n",
       "      <td>839.0</td>\n",
       "      <td>200.0</td>\n",
       "      <td>200.0</td>\n",
       "      <td>120.0</td>\n",
       "      <td>913.0</td>\n",
       "      <td>125.0</td>\n",
       "      <td>120.0</td>\n",
       "    </tr>\n",
       "    <tr>\n",
       "      <th>7c3lyx28tzt41.png</th>\n",
       "      <td>235.0</td>\n",
       "      <td>315.0</td>\n",
       "      <td>45.0</td>\n",
       "      <td>205.0</td>\n",
       "      <td>55.0</td>\n",
       "      <td>2934.0</td>\n",
       "      <td>50.0</td>\n",
       "      <td>65.0</td>\n",
       "      <td>80.0</td>\n",
       "      <td>4306.0</td>\n",
       "      <td>...</td>\n",
       "      <td>100.0</td>\n",
       "      <td>120.0</td>\n",
       "      <td>20.0</td>\n",
       "      <td>1436.0</td>\n",
       "      <td>30.0</td>\n",
       "      <td>185.0</td>\n",
       "      <td>95.0</td>\n",
       "      <td>2929.0</td>\n",
       "      <td>120.0</td>\n",
       "      <td>80.0</td>\n",
       "    </tr>\n",
       "    <tr>\n",
       "      <th>...</th>\n",
       "      <td>...</td>\n",
       "      <td>...</td>\n",
       "      <td>...</td>\n",
       "      <td>...</td>\n",
       "      <td>...</td>\n",
       "      <td>...</td>\n",
       "      <td>...</td>\n",
       "      <td>...</td>\n",
       "      <td>...</td>\n",
       "      <td>...</td>\n",
       "      <td>...</td>\n",
       "      <td>...</td>\n",
       "      <td>...</td>\n",
       "      <td>...</td>\n",
       "      <td>...</td>\n",
       "      <td>...</td>\n",
       "      <td>...</td>\n",
       "      <td>...</td>\n",
       "      <td>...</td>\n",
       "      <td>...</td>\n",
       "      <td>...</td>\n",
       "    </tr>\n",
       "    <tr>\n",
       "      <th>23tuxt9bkev41.png</th>\n",
       "      <td>115.0</td>\n",
       "      <td>1099.0</td>\n",
       "      <td>135.0</td>\n",
       "      <td>90.0</td>\n",
       "      <td>125.0</td>\n",
       "      <td>4320.0</td>\n",
       "      <td>110.0</td>\n",
       "      <td>140.0</td>\n",
       "      <td>40.0</td>\n",
       "      <td>4753.0</td>\n",
       "      <td>...</td>\n",
       "      <td>85.0</td>\n",
       "      <td>120.0</td>\n",
       "      <td>135.0</td>\n",
       "      <td>3736.0</td>\n",
       "      <td>175.0</td>\n",
       "      <td>10.0</td>\n",
       "      <td>80.0</td>\n",
       "      <td>4229.0</td>\n",
       "      <td>70.0</td>\n",
       "      <td>90.0</td>\n",
       "    </tr>\n",
       "    <tr>\n",
       "      <th>7o0coqjaqfo41.png</th>\n",
       "      <td>180.0</td>\n",
       "      <td>472.0</td>\n",
       "      <td>75.0</td>\n",
       "      <td>215.0</td>\n",
       "      <td>95.0</td>\n",
       "      <td>2675.0</td>\n",
       "      <td>70.0</td>\n",
       "      <td>205.0</td>\n",
       "      <td>0.0</td>\n",
       "      <td>2991.0</td>\n",
       "      <td>...</td>\n",
       "      <td>215.0</td>\n",
       "      <td>240.0</td>\n",
       "      <td>90.0</td>\n",
       "      <td>2511.0</td>\n",
       "      <td>65.0</td>\n",
       "      <td>100.0</td>\n",
       "      <td>195.0</td>\n",
       "      <td>2519.0</td>\n",
       "      <td>120.0</td>\n",
       "      <td>125.0</td>\n",
       "    </tr>\n",
       "    <tr>\n",
       "      <th>w0ddyr9atvu41.png</th>\n",
       "      <td>185.0</td>\n",
       "      <td>2013.0</td>\n",
       "      <td>180.0</td>\n",
       "      <td>190.0</td>\n",
       "      <td>150.0</td>\n",
       "      <td>4349.0</td>\n",
       "      <td>60.0</td>\n",
       "      <td>120.0</td>\n",
       "      <td>125.0</td>\n",
       "      <td>5282.0</td>\n",
       "      <td>...</td>\n",
       "      <td>15.0</td>\n",
       "      <td>45.0</td>\n",
       "      <td>90.0</td>\n",
       "      <td>3823.0</td>\n",
       "      <td>50.0</td>\n",
       "      <td>130.0</td>\n",
       "      <td>175.0</td>\n",
       "      <td>4087.0</td>\n",
       "      <td>95.0</td>\n",
       "      <td>255.0</td>\n",
       "    </tr>\n",
       "    <tr>\n",
       "      <th>2v9ke0u7u3251.png</th>\n",
       "      <td>45.0</td>\n",
       "      <td>450.0</td>\n",
       "      <td>5.0</td>\n",
       "      <td>145.0</td>\n",
       "      <td>170.0</td>\n",
       "      <td>2188.0</td>\n",
       "      <td>130.0</td>\n",
       "      <td>205.0</td>\n",
       "      <td>190.0</td>\n",
       "      <td>2200.0</td>\n",
       "      <td>...</td>\n",
       "      <td>0.0</td>\n",
       "      <td>50.0</td>\n",
       "      <td>145.0</td>\n",
       "      <td>1951.0</td>\n",
       "      <td>90.0</td>\n",
       "      <td>195.0</td>\n",
       "      <td>105.0</td>\n",
       "      <td>2132.0</td>\n",
       "      <td>75.0</td>\n",
       "      <td>155.0</td>\n",
       "    </tr>\n",
       "    <tr>\n",
       "      <th>stvociaym2o41.png</th>\n",
       "      <td>5.0</td>\n",
       "      <td>159.0</td>\n",
       "      <td>0.0</td>\n",
       "      <td>10.0</td>\n",
       "      <td>165.0</td>\n",
       "      <td>862.0</td>\n",
       "      <td>165.0</td>\n",
       "      <td>165.0</td>\n",
       "      <td>185.0</td>\n",
       "      <td>869.0</td>\n",
       "      <td>...</td>\n",
       "      <td>95.0</td>\n",
       "      <td>95.0</td>\n",
       "      <td>135.0</td>\n",
       "      <td>723.0</td>\n",
       "      <td>135.0</td>\n",
       "      <td>135.0</td>\n",
       "      <td>150.0</td>\n",
       "      <td>766.0</td>\n",
       "      <td>150.0</td>\n",
       "      <td>150.0</td>\n",
       "    </tr>\n",
       "  </tbody>\n",
       "</table>\n",
       "<p>1597 rows × 80 columns</p>\n",
       "</div>"
      ],
      "text/plain": [
       "                      0b  0count     0g     0r    10b  10count    10g    10r  \\\n",
       "filename                                                                       \n",
       "ksn72cinsy151.png   40.0   461.0   45.0  165.0   80.0   2409.0   75.0   80.0   \n",
       "ik4d2mpi1fo41.png   60.0   264.0   85.0   30.0   55.0   4404.0   40.0   80.0   \n",
       "y5pddy7h16x41.png   80.0   793.0  225.0  225.0  150.0   3905.0  240.0  190.0   \n",
       "jrk0eogay8s41.png   70.0    50.0   15.0  250.0  100.0    941.0  100.0  100.0   \n",
       "7c3lyx28tzt41.png  235.0   315.0   45.0  205.0   55.0   2934.0   50.0   65.0   \n",
       "...                  ...     ...    ...    ...    ...      ...    ...    ...   \n",
       "23tuxt9bkev41.png  115.0  1099.0  135.0   90.0  125.0   4320.0  110.0  140.0   \n",
       "7o0coqjaqfo41.png  180.0   472.0   75.0  215.0   95.0   2675.0   70.0  205.0   \n",
       "w0ddyr9atvu41.png  185.0  2013.0  180.0  190.0  150.0   4349.0   60.0  120.0   \n",
       "2v9ke0u7u3251.png   45.0   450.0    5.0  145.0  170.0   2188.0  130.0  205.0   \n",
       "stvociaym2o41.png    5.0   159.0    0.0   10.0  165.0    862.0  165.0  165.0   \n",
       "\n",
       "                     11b  11count  ...     7g     7r     8b  8count     8g  \\\n",
       "filename                           ...                                       \n",
       "ksn72cinsy151.png  150.0   3143.0  ...   70.0   80.0  205.0  1983.0  200.0   \n",
       "ik4d2mpi1fo41.png   80.0   4678.0  ...   65.0  110.0  110.0  2963.0  100.0   \n",
       "y5pddy7h16x41.png  145.0   4567.0  ...  250.0  155.0  220.0  3253.0  255.0   \n",
       "jrk0eogay8s41.png   60.0   1036.0  ...  175.0  175.0  200.0   839.0  200.0   \n",
       "7c3lyx28tzt41.png   80.0   4306.0  ...  100.0  120.0   20.0  1436.0   30.0   \n",
       "...                  ...      ...  ...    ...    ...    ...     ...    ...   \n",
       "23tuxt9bkev41.png   40.0   4753.0  ...   85.0  120.0  135.0  3736.0  175.0   \n",
       "7o0coqjaqfo41.png    0.0   2991.0  ...  215.0  240.0   90.0  2511.0   65.0   \n",
       "w0ddyr9atvu41.png  125.0   5282.0  ...   15.0   45.0   90.0  3823.0   50.0   \n",
       "2v9ke0u7u3251.png  190.0   2200.0  ...    0.0   50.0  145.0  1951.0   90.0   \n",
       "stvociaym2o41.png  185.0    869.0  ...   95.0   95.0  135.0   723.0  135.0   \n",
       "\n",
       "                      8r     9b  9count     9g     9r  \n",
       "filename                                               \n",
       "ksn72cinsy151.png  210.0   90.0  2091.0   45.0   55.0  \n",
       "ik4d2mpi1fo41.png  120.0   95.0  3504.0   85.0  105.0  \n",
       "y5pddy7h16x41.png  195.0  170.0  3657.0  245.0  125.0  \n",
       "jrk0eogay8s41.png  200.0  120.0   913.0  125.0  120.0  \n",
       "7c3lyx28tzt41.png  185.0   95.0  2929.0  120.0   80.0  \n",
       "...                  ...    ...     ...    ...    ...  \n",
       "23tuxt9bkev41.png   10.0   80.0  4229.0   70.0   90.0  \n",
       "7o0coqjaqfo41.png  100.0  195.0  2519.0  120.0  125.0  \n",
       "w0ddyr9atvu41.png  130.0  175.0  4087.0   95.0  255.0  \n",
       "2v9ke0u7u3251.png  195.0  105.0  2132.0   75.0  155.0  \n",
       "stvociaym2o41.png  135.0  150.0   766.0  150.0  150.0  \n",
       "\n",
       "[1597 rows x 80 columns]"
      ]
     },
     "execution_count": 162,
     "metadata": {},
     "output_type": "execute_result"
    }
   ],
   "source": [
    "X_color"
   ]
  },
  {
   "cell_type": "code",
   "execution_count": 165,
   "metadata": {},
   "outputs": [
    {
     "data": {
      "text/html": [
       "<div>\n",
       "<style scoped>\n",
       "    .dataframe tbody tr th:only-of-type {\n",
       "        vertical-align: middle;\n",
       "    }\n",
       "\n",
       "    .dataframe tbody tr th {\n",
       "        vertical-align: top;\n",
       "    }\n",
       "\n",
       "    .dataframe thead th {\n",
       "        text-align: right;\n",
       "    }\n",
       "</style>\n",
       "<table border=\"1\" class=\"dataframe\">\n",
       "  <thead>\n",
       "    <tr style=\"text-align: right;\">\n",
       "      <th></th>\n",
       "      <th>subreddit</th>\n",
       "    </tr>\n",
       "    <tr>\n",
       "      <th>id</th>\n",
       "      <th></th>\n",
       "    </tr>\n",
       "  </thead>\n",
       "  <tbody>\n",
       "    <tr>\n",
       "      <th>gtli3b</th>\n",
       "      <td>Doom</td>\n",
       "    </tr>\n",
       "    <tr>\n",
       "      <th>fnj4e5</th>\n",
       "      <td>Doom</td>\n",
       "    </tr>\n",
       "    <tr>\n",
       "      <th>gemj1h</th>\n",
       "      <td>Doom</td>\n",
       "    </tr>\n",
       "    <tr>\n",
       "      <th>fzhpqt</th>\n",
       "      <td>Doom</td>\n",
       "    </tr>\n",
       "    <tr>\n",
       "      <th>g4v23f</th>\n",
       "      <td>Doom</td>\n",
       "    </tr>\n",
       "    <tr>\n",
       "      <th>...</th>\n",
       "      <td>...</td>\n",
       "    </tr>\n",
       "    <tr>\n",
       "      <th>g9674v</th>\n",
       "      <td>AnimalCrossing</td>\n",
       "    </tr>\n",
       "    <tr>\n",
       "      <th>fnl57y</th>\n",
       "      <td>AnimalCrossing</td>\n",
       "    </tr>\n",
       "    <tr>\n",
       "      <th>g7mis1</th>\n",
       "      <td>AnimalCrossing</td>\n",
       "    </tr>\n",
       "    <tr>\n",
       "      <th>gtz9fa</th>\n",
       "      <td>AnimalCrossing</td>\n",
       "    </tr>\n",
       "    <tr>\n",
       "      <th>fmjv7l</th>\n",
       "      <td>AnimalCrossing</td>\n",
       "    </tr>\n",
       "  </tbody>\n",
       "</table>\n",
       "<p>1597 rows × 1 columns</p>\n",
       "</div>"
      ],
      "text/plain": [
       "             subreddit\n",
       "id                    \n",
       "gtli3b            Doom\n",
       "fnj4e5            Doom\n",
       "gemj1h            Doom\n",
       "fzhpqt            Doom\n",
       "g4v23f            Doom\n",
       "...                ...\n",
       "g9674v  AnimalCrossing\n",
       "fnl57y  AnimalCrossing\n",
       "g7mis1  AnimalCrossing\n",
       "gtz9fa  AnimalCrossing\n",
       "fmjv7l  AnimalCrossing\n",
       "\n",
       "[1597 rows x 1 columns]"
      ]
     },
     "execution_count": 165,
     "metadata": {},
     "output_type": "execute_result"
    }
   ],
   "source": [
    "y=pd.concat([doom_sub ,acnh_sub])\n",
    "y"
   ]
  },
  {
   "cell_type": "code",
   "execution_count": 166,
   "metadata": {},
   "outputs": [
    {
     "data": {
      "text/plain": [
       "MultinomialNB()"
      ]
     },
     "execution_count": 166,
     "metadata": {},
     "output_type": "execute_result"
    }
   ],
   "source": [
    "y=pd.get_dummies(y)\n",
    "y_nb=y.iloc[:,0]\n",
    "standardizer = StandardScaler()\n",
    "standardizer.fit(X_color)\n",
    "X_colors=standardizer.transform(X_color)\n",
    "X_colors=X_colors+10\n",
    "nb_model=MultinomialNB()\n",
    "nb_model.fit(X_colors, y_nb)"
   ]
  },
  {
   "cell_type": "code",
   "execution_count": 167,
   "metadata": {},
   "outputs": [
    {
     "data": {
      "text/plain": [
       "array([[ 8.6522934 ,  9.37631561,  8.86075932, ...,  9.14779021,\n",
       "         9.09791394,  8.91562108],\n",
       "       [ 8.93512627,  8.98150224,  9.3654032 , ..., 10.50538247,\n",
       "         9.62273414,  9.64141871],\n",
       "       [ 9.21795914, 10.04168638, 11.1316568 , ..., 10.6523829 ,\n",
       "        11.72201491,  9.93173776],\n",
       "       ...,\n",
       "       [10.70283171, 12.48672354, 10.56393243, ..., 11.06552138,\n",
       "         9.75393919, 11.81881158],\n",
       "       [ 8.72300162,  9.3542702 ,  8.35611543, ...,  9.18718249,\n",
       "         9.49152909, 10.36721633],\n",
       "       [ 8.15733588,  8.77106871,  8.29303495, ...,  7.87474723,\n",
       "        10.47556695, 10.29463657]])"
      ]
     },
     "execution_count": 167,
     "metadata": {},
     "output_type": "execute_result"
    }
   ],
   "source": [
    "X_colors"
   ]
  },
  {
   "cell_type": "code",
   "execution_count": 168,
   "metadata": {},
   "outputs": [
    {
     "name": "stdout",
     "output_type": "stream",
     "text": [
      "\n",
      "Target: 1, name: AnimalCrossing\n",
      "Top 15 tokens:  ['18b', '14b', '15b', '17b', '16b', '18r', '13b', '12b', '17r', '15r', '11b', '14r', '10b', '16r', '3count']\n"
     ]
    }
   ],
   "source": [
    "feature_words = list(X_color.columns)\n",
    "print(f\"\\nTarget: {1}, name: {'AnimalCrossing'}\")\n",
    "log_prob = nb_model.feature_log_prob_[1]\n",
    "i_topn = np.argsort(log_prob)[::-1][:n]\n",
    "color_factors_acnh = [feature_words[i] for i in i_topn]\n",
    "print(f\"Top {n} tokens: \", color_factors_acnh)"
   ]
  },
  {
   "cell_type": "code",
   "execution_count": 169,
   "metadata": {},
   "outputs": [
    {
     "name": "stdout",
     "output_type": "stream",
     "text": [
      "\n",
      "Target: 0, name: Doom\n",
      "Top 15 tokens:  ['0r', '1r', '2r', '19count', '1g', '2g', '4r', '3r', '1b', '0b', '0g', '4g', '6r', '3g', '2b']\n"
     ]
    }
   ],
   "source": [
    "#for cat in range(len(target_names)):\n",
    "print(f\"\\nTarget: {0}, name: {'Doom'}\")\n",
    "log_prob = nb_model.feature_log_prob_[0]\n",
    "i_topn = np.argsort(log_prob)[::-1][:n]\n",
    "type(feature_words)\n",
    "color_factors_doom = [feature_words[i] for i in i_topn]\n",
    "print(f\"Top {n} tokens: \", color_factors_doom)"
   ]
  },
  {
   "cell_type": "code",
   "execution_count": null,
   "metadata": {},
   "outputs": [],
   "source": []
  },
  {
   "cell_type": "code",
   "execution_count": 185,
   "metadata": {},
   "outputs": [
    {
     "name": "stdout",
     "output_type": "stream",
     "text": [
      "Color-processing.ipynb  acnh_colors_words.csv   doom_colors_words.csv\r\n",
      "Color_ROC_reg.png       \u001b[1m\u001b[36macnh_small\u001b[m\u001b[m/             \u001b[1m\u001b[36mdoom_small\u001b[m\u001b[m/\r\n",
      "Color_rec_reg.png       acnh_txt.csv            doom_txt.csv\r\n",
      "EDA-IM-DF.ipynb         \u001b[1m\u001b[36marchive\u001b[m\u001b[m/                ex.md\r\n",
      "\u001b[1m\u001b[36mNLP\u001b[m\u001b[m/                    color-logistic.ipynb    naive-bayes.ipynb\r\n",
      "README.md               \u001b[1m\u001b[36mcute\u001b[m\u001b[m/                   webscraping.ipynb\r\n",
      "\u001b[1m\u001b[36macnh_color\u001b[m\u001b[m/             \u001b[1m\u001b[36mdoom_color\u001b[m\u001b[m/\r\n",
      "acnh_colors.csv         doom_colors.csv\r\n"
     ]
    }
   ],
   "source": [
    "ls"
   ]
  },
  {
   "cell_type": "code",
   "execution_count": 172,
   "metadata": {},
   "outputs": [],
   "source": [
    "doom_col_words=pd.read_csv('../doom_color/doom_colors_words.csv')\n",
    "acnh_col_words=pd.read_csv('../acnh_color/acnh_colors_words.csv')"
   ]
  },
  {
   "cell_type": "code",
   "execution_count": 173,
   "metadata": {},
   "outputs": [
    {
     "data": {
      "text/html": [
       "<div>\n",
       "<style scoped>\n",
       "    .dataframe tbody tr th:only-of-type {\n",
       "        vertical-align: middle;\n",
       "    }\n",
       "\n",
       "    .dataframe tbody tr th {\n",
       "        vertical-align: top;\n",
       "    }\n",
       "\n",
       "    .dataframe thead th {\n",
       "        text-align: right;\n",
       "    }\n",
       "</style>\n",
       "<table border=\"1\" class=\"dataframe\">\n",
       "  <thead>\n",
       "    <tr style=\"text-align: right;\">\n",
       "      <th></th>\n",
       "      <th>filename</th>\n",
       "      <th>100.0, 125.0, 30.0</th>\n",
       "      <th>100.0, 175.0, 105.0</th>\n",
       "      <th>115.0, 145.0, 45.0</th>\n",
       "      <th>125.0, 115.0, 85.0</th>\n",
       "      <th>140.0, 165.0, 75.0</th>\n",
       "      <th>140.0, 215.0, 240.0</th>\n",
       "      <th>15.0, 15.0, 0.0</th>\n",
       "      <th>160.0, 185.0, 90.0</th>\n",
       "      <th>165.0, 170.0, 140.0</th>\n",
       "      <th>...</th>\n",
       "      <th>180.0, 190.0, 135.0</th>\n",
       "      <th>195.0, 145.0, 90.0</th>\n",
       "      <th>210.0, 225.0, 170.0</th>\n",
       "      <th>220.0, 195.0, 150.0</th>\n",
       "      <th>220.0, 235.0, 185.0</th>\n",
       "      <th>235.0, 245.0, 200.0</th>\n",
       "      <th>245.0, 250.0, 240.0</th>\n",
       "      <th>50.0, 5.0, 0.0</th>\n",
       "      <th>90.0, 40.0, 30.0</th>\n",
       "      <th>35.0, 35.0, 30.0</th>\n",
       "    </tr>\n",
       "  </thead>\n",
       "  <tbody>\n",
       "    <tr>\n",
       "      <th>0</th>\n",
       "      <td>yjrafuspulu41.png</td>\n",
       "      <td>7526.0</td>\n",
       "      <td>2186.0</td>\n",
       "      <td>9001.0</td>\n",
       "      <td>2743.0</td>\n",
       "      <td>8390.0</td>\n",
       "      <td>2098.0</td>\n",
       "      <td>1055.0</td>\n",
       "      <td>8108.0</td>\n",
       "      <td>1830.0</td>\n",
       "      <td>...</td>\n",
       "      <td>0.0</td>\n",
       "      <td>0.0</td>\n",
       "      <td>0.0</td>\n",
       "      <td>0.0</td>\n",
       "      <td>0.0</td>\n",
       "      <td>0.0</td>\n",
       "      <td>0.0</td>\n",
       "      <td>0.0</td>\n",
       "      <td>0.0</td>\n",
       "      <td>0.0</td>\n",
       "    </tr>\n",
       "    <tr>\n",
       "      <th>1</th>\n",
       "      <td>2ehmq0fjpj051.png</td>\n",
       "      <td>0.0</td>\n",
       "      <td>0.0</td>\n",
       "      <td>0.0</td>\n",
       "      <td>0.0</td>\n",
       "      <td>0.0</td>\n",
       "      <td>0.0</td>\n",
       "      <td>0.0</td>\n",
       "      <td>0.0</td>\n",
       "      <td>0.0</td>\n",
       "      <td>...</td>\n",
       "      <td>0.0</td>\n",
       "      <td>0.0</td>\n",
       "      <td>0.0</td>\n",
       "      <td>0.0</td>\n",
       "      <td>0.0</td>\n",
       "      <td>0.0</td>\n",
       "      <td>0.0</td>\n",
       "      <td>0.0</td>\n",
       "      <td>0.0</td>\n",
       "      <td>0.0</td>\n",
       "    </tr>\n",
       "    <tr>\n",
       "      <th>2</th>\n",
       "      <td>a2vvzng7g7v41.png</td>\n",
       "      <td>0.0</td>\n",
       "      <td>0.0</td>\n",
       "      <td>0.0</td>\n",
       "      <td>0.0</td>\n",
       "      <td>0.0</td>\n",
       "      <td>0.0</td>\n",
       "      <td>0.0</td>\n",
       "      <td>0.0</td>\n",
       "      <td>0.0</td>\n",
       "      <td>...</td>\n",
       "      <td>0.0</td>\n",
       "      <td>0.0</td>\n",
       "      <td>0.0</td>\n",
       "      <td>0.0</td>\n",
       "      <td>0.0</td>\n",
       "      <td>0.0</td>\n",
       "      <td>0.0</td>\n",
       "      <td>0.0</td>\n",
       "      <td>0.0</td>\n",
       "      <td>0.0</td>\n",
       "    </tr>\n",
       "    <tr>\n",
       "      <th>3</th>\n",
       "      <td>t88z1sn736x41.png</td>\n",
       "      <td>0.0</td>\n",
       "      <td>0.0</td>\n",
       "      <td>0.0</td>\n",
       "      <td>0.0</td>\n",
       "      <td>0.0</td>\n",
       "      <td>0.0</td>\n",
       "      <td>0.0</td>\n",
       "      <td>0.0</td>\n",
       "      <td>0.0</td>\n",
       "      <td>...</td>\n",
       "      <td>0.0</td>\n",
       "      <td>0.0</td>\n",
       "      <td>0.0</td>\n",
       "      <td>0.0</td>\n",
       "      <td>0.0</td>\n",
       "      <td>0.0</td>\n",
       "      <td>0.0</td>\n",
       "      <td>0.0</td>\n",
       "      <td>0.0</td>\n",
       "      <td>0.0</td>\n",
       "    </tr>\n",
       "    <tr>\n",
       "      <th>4</th>\n",
       "      <td>176wf6duetq41.png</td>\n",
       "      <td>0.0</td>\n",
       "      <td>0.0</td>\n",
       "      <td>0.0</td>\n",
       "      <td>0.0</td>\n",
       "      <td>0.0</td>\n",
       "      <td>0.0</td>\n",
       "      <td>0.0</td>\n",
       "      <td>0.0</td>\n",
       "      <td>0.0</td>\n",
       "      <td>...</td>\n",
       "      <td>0.0</td>\n",
       "      <td>0.0</td>\n",
       "      <td>0.0</td>\n",
       "      <td>0.0</td>\n",
       "      <td>0.0</td>\n",
       "      <td>0.0</td>\n",
       "      <td>0.0</td>\n",
       "      <td>0.0</td>\n",
       "      <td>0.0</td>\n",
       "      <td>0.0</td>\n",
       "    </tr>\n",
       "    <tr>\n",
       "      <th>...</th>\n",
       "      <td>...</td>\n",
       "      <td>...</td>\n",
       "      <td>...</td>\n",
       "      <td>...</td>\n",
       "      <td>...</td>\n",
       "      <td>...</td>\n",
       "      <td>...</td>\n",
       "      <td>...</td>\n",
       "      <td>...</td>\n",
       "      <td>...</td>\n",
       "      <td>...</td>\n",
       "      <td>...</td>\n",
       "      <td>...</td>\n",
       "      <td>...</td>\n",
       "      <td>...</td>\n",
       "      <td>...</td>\n",
       "      <td>...</td>\n",
       "      <td>...</td>\n",
       "      <td>...</td>\n",
       "      <td>...</td>\n",
       "      <td>...</td>\n",
       "    </tr>\n",
       "    <tr>\n",
       "      <th>752</th>\n",
       "      <td>23tuxt9bkev41.png</td>\n",
       "      <td>0.0</td>\n",
       "      <td>0.0</td>\n",
       "      <td>0.0</td>\n",
       "      <td>0.0</td>\n",
       "      <td>0.0</td>\n",
       "      <td>0.0</td>\n",
       "      <td>0.0</td>\n",
       "      <td>0.0</td>\n",
       "      <td>0.0</td>\n",
       "      <td>...</td>\n",
       "      <td>0.0</td>\n",
       "      <td>0.0</td>\n",
       "      <td>0.0</td>\n",
       "      <td>0.0</td>\n",
       "      <td>0.0</td>\n",
       "      <td>0.0</td>\n",
       "      <td>0.0</td>\n",
       "      <td>0.0</td>\n",
       "      <td>0.0</td>\n",
       "      <td>0.0</td>\n",
       "    </tr>\n",
       "    <tr>\n",
       "      <th>753</th>\n",
       "      <td>7o0coqjaqfo41.png</td>\n",
       "      <td>0.0</td>\n",
       "      <td>0.0</td>\n",
       "      <td>0.0</td>\n",
       "      <td>0.0</td>\n",
       "      <td>0.0</td>\n",
       "      <td>0.0</td>\n",
       "      <td>0.0</td>\n",
       "      <td>0.0</td>\n",
       "      <td>0.0</td>\n",
       "      <td>...</td>\n",
       "      <td>0.0</td>\n",
       "      <td>0.0</td>\n",
       "      <td>0.0</td>\n",
       "      <td>0.0</td>\n",
       "      <td>0.0</td>\n",
       "      <td>0.0</td>\n",
       "      <td>0.0</td>\n",
       "      <td>0.0</td>\n",
       "      <td>0.0</td>\n",
       "      <td>0.0</td>\n",
       "    </tr>\n",
       "    <tr>\n",
       "      <th>754</th>\n",
       "      <td>w0ddyr9atvu41.png</td>\n",
       "      <td>0.0</td>\n",
       "      <td>0.0</td>\n",
       "      <td>0.0</td>\n",
       "      <td>0.0</td>\n",
       "      <td>0.0</td>\n",
       "      <td>0.0</td>\n",
       "      <td>0.0</td>\n",
       "      <td>0.0</td>\n",
       "      <td>0.0</td>\n",
       "      <td>...</td>\n",
       "      <td>0.0</td>\n",
       "      <td>0.0</td>\n",
       "      <td>0.0</td>\n",
       "      <td>0.0</td>\n",
       "      <td>0.0</td>\n",
       "      <td>0.0</td>\n",
       "      <td>0.0</td>\n",
       "      <td>0.0</td>\n",
       "      <td>0.0</td>\n",
       "      <td>0.0</td>\n",
       "    </tr>\n",
       "    <tr>\n",
       "      <th>755</th>\n",
       "      <td>2v9ke0u7u3251.png</td>\n",
       "      <td>0.0</td>\n",
       "      <td>0.0</td>\n",
       "      <td>0.0</td>\n",
       "      <td>0.0</td>\n",
       "      <td>0.0</td>\n",
       "      <td>0.0</td>\n",
       "      <td>0.0</td>\n",
       "      <td>0.0</td>\n",
       "      <td>0.0</td>\n",
       "      <td>...</td>\n",
       "      <td>2200.0</td>\n",
       "      <td>1951.0</td>\n",
       "      <td>6111.0</td>\n",
       "      <td>5770.0</td>\n",
       "      <td>6091.0</td>\n",
       "      <td>5120.0</td>\n",
       "      <td>6124.0</td>\n",
       "      <td>1327.0</td>\n",
       "      <td>1242.0</td>\n",
       "      <td>0.0</td>\n",
       "    </tr>\n",
       "    <tr>\n",
       "      <th>756</th>\n",
       "      <td>stvociaym2o41.png</td>\n",
       "      <td>0.0</td>\n",
       "      <td>0.0</td>\n",
       "      <td>0.0</td>\n",
       "      <td>0.0</td>\n",
       "      <td>0.0</td>\n",
       "      <td>0.0</td>\n",
       "      <td>0.0</td>\n",
       "      <td>0.0</td>\n",
       "      <td>0.0</td>\n",
       "      <td>...</td>\n",
       "      <td>0.0</td>\n",
       "      <td>0.0</td>\n",
       "      <td>0.0</td>\n",
       "      <td>0.0</td>\n",
       "      <td>0.0</td>\n",
       "      <td>0.0</td>\n",
       "      <td>0.0</td>\n",
       "      <td>0.0</td>\n",
       "      <td>0.0</td>\n",
       "      <td>355.0</td>\n",
       "    </tr>\n",
       "  </tbody>\n",
       "</table>\n",
       "<p>757 rows × 11245 columns</p>\n",
       "</div>"
      ],
      "text/plain": [
       "              filename  100.0, 125.0, 30.0  100.0, 175.0, 105.0  \\\n",
       "0    yjrafuspulu41.png              7526.0               2186.0   \n",
       "1    2ehmq0fjpj051.png                 0.0                  0.0   \n",
       "2    a2vvzng7g7v41.png                 0.0                  0.0   \n",
       "3    t88z1sn736x41.png                 0.0                  0.0   \n",
       "4    176wf6duetq41.png                 0.0                  0.0   \n",
       "..                 ...                 ...                  ...   \n",
       "752  23tuxt9bkev41.png                 0.0                  0.0   \n",
       "753  7o0coqjaqfo41.png                 0.0                  0.0   \n",
       "754  w0ddyr9atvu41.png                 0.0                  0.0   \n",
       "755  2v9ke0u7u3251.png                 0.0                  0.0   \n",
       "756  stvociaym2o41.png                 0.0                  0.0   \n",
       "\n",
       "     115.0, 145.0, 45.0  125.0, 115.0, 85.0  140.0, 165.0, 75.0  \\\n",
       "0                9001.0              2743.0              8390.0   \n",
       "1                   0.0                 0.0                 0.0   \n",
       "2                   0.0                 0.0                 0.0   \n",
       "3                   0.0                 0.0                 0.0   \n",
       "4                   0.0                 0.0                 0.0   \n",
       "..                  ...                 ...                 ...   \n",
       "752                 0.0                 0.0                 0.0   \n",
       "753                 0.0                 0.0                 0.0   \n",
       "754                 0.0                 0.0                 0.0   \n",
       "755                 0.0                 0.0                 0.0   \n",
       "756                 0.0                 0.0                 0.0   \n",
       "\n",
       "     140.0, 215.0, 240.0  15.0, 15.0, 0.0  160.0, 185.0, 90.0  \\\n",
       "0                 2098.0           1055.0              8108.0   \n",
       "1                    0.0              0.0                 0.0   \n",
       "2                    0.0              0.0                 0.0   \n",
       "3                    0.0              0.0                 0.0   \n",
       "4                    0.0              0.0                 0.0   \n",
       "..                   ...              ...                 ...   \n",
       "752                  0.0              0.0                 0.0   \n",
       "753                  0.0              0.0                 0.0   \n",
       "754                  0.0              0.0                 0.0   \n",
       "755                  0.0              0.0                 0.0   \n",
       "756                  0.0              0.0                 0.0   \n",
       "\n",
       "     165.0, 170.0, 140.0  ...  180.0, 190.0, 135.0  195.0, 145.0, 90.0  \\\n",
       "0                 1830.0  ...                  0.0                 0.0   \n",
       "1                    0.0  ...                  0.0                 0.0   \n",
       "2                    0.0  ...                  0.0                 0.0   \n",
       "3                    0.0  ...                  0.0                 0.0   \n",
       "4                    0.0  ...                  0.0                 0.0   \n",
       "..                   ...  ...                  ...                 ...   \n",
       "752                  0.0  ...                  0.0                 0.0   \n",
       "753                  0.0  ...                  0.0                 0.0   \n",
       "754                  0.0  ...                  0.0                 0.0   \n",
       "755                  0.0  ...               2200.0              1951.0   \n",
       "756                  0.0  ...                  0.0                 0.0   \n",
       "\n",
       "     210.0, 225.0, 170.0  220.0, 195.0, 150.0  220.0, 235.0, 185.0  \\\n",
       "0                    0.0                  0.0                  0.0   \n",
       "1                    0.0                  0.0                  0.0   \n",
       "2                    0.0                  0.0                  0.0   \n",
       "3                    0.0                  0.0                  0.0   \n",
       "4                    0.0                  0.0                  0.0   \n",
       "..                   ...                  ...                  ...   \n",
       "752                  0.0                  0.0                  0.0   \n",
       "753                  0.0                  0.0                  0.0   \n",
       "754                  0.0                  0.0                  0.0   \n",
       "755               6111.0               5770.0               6091.0   \n",
       "756                  0.0                  0.0                  0.0   \n",
       "\n",
       "     235.0, 245.0, 200.0  245.0, 250.0, 240.0  50.0, 5.0, 0.0  \\\n",
       "0                    0.0                  0.0             0.0   \n",
       "1                    0.0                  0.0             0.0   \n",
       "2                    0.0                  0.0             0.0   \n",
       "3                    0.0                  0.0             0.0   \n",
       "4                    0.0                  0.0             0.0   \n",
       "..                   ...                  ...             ...   \n",
       "752                  0.0                  0.0             0.0   \n",
       "753                  0.0                  0.0             0.0   \n",
       "754                  0.0                  0.0             0.0   \n",
       "755               5120.0               6124.0          1327.0   \n",
       "756                  0.0                  0.0             0.0   \n",
       "\n",
       "     90.0, 40.0, 30.0  35.0, 35.0, 30.0  \n",
       "0                 0.0               0.0  \n",
       "1                 0.0               0.0  \n",
       "2                 0.0               0.0  \n",
       "3                 0.0               0.0  \n",
       "4                 0.0               0.0  \n",
       "..                ...               ...  \n",
       "752               0.0               0.0  \n",
       "753               0.0               0.0  \n",
       "754               0.0               0.0  \n",
       "755            1242.0               0.0  \n",
       "756               0.0             355.0  \n",
       "\n",
       "[757 rows x 11245 columns]"
      ]
     },
     "execution_count": 173,
     "metadata": {},
     "output_type": "execute_result"
    }
   ],
   "source": [
    "acnh_col_words"
   ]
  },
  {
   "cell_type": "code",
   "execution_count": 174,
   "metadata": {},
   "outputs": [],
   "source": [
    "X_color=doom_colors.append(acnh_colors).set_index(keys='filename')"
   ]
  },
  {
   "cell_type": "code",
   "execution_count": 175,
   "metadata": {},
   "outputs": [
    {
     "data": {
      "text/html": [
       "<div>\n",
       "<style scoped>\n",
       "    .dataframe tbody tr th:only-of-type {\n",
       "        vertical-align: middle;\n",
       "    }\n",
       "\n",
       "    .dataframe tbody tr th {\n",
       "        vertical-align: top;\n",
       "    }\n",
       "\n",
       "    .dataframe thead th {\n",
       "        text-align: right;\n",
       "    }\n",
       "</style>\n",
       "<table border=\"1\" class=\"dataframe\">\n",
       "  <thead>\n",
       "    <tr style=\"text-align: right;\">\n",
       "      <th></th>\n",
       "      <th>0.0, 0.0, 0.0</th>\n",
       "      <th>110.0, 80.0, 45.0</th>\n",
       "      <th>115.0, 110.0, 105.0</th>\n",
       "      <th>15.0, 15.0, 10.0</th>\n",
       "      <th>155.0, 115.0, 70.0</th>\n",
       "      <th>165.0, 155.0, 150.0</th>\n",
       "      <th>165.0, 40.0, 45.0</th>\n",
       "      <th>205.0, 150.0, 85.0</th>\n",
       "      <th>205.0, 185.0, 65.0</th>\n",
       "      <th>210.0, 205.0, 200.0</th>\n",
       "      <th>...</th>\n",
       "      <th>75.0, 165.0, 35.0</th>\n",
       "      <th>85.0, 120.0, 35.0</th>\n",
       "      <th>130.0, 100.0, 125.0</th>\n",
       "      <th>145.0, 45.0, 5.0</th>\n",
       "      <th>180.0, 190.0, 135.0</th>\n",
       "      <th>195.0, 145.0, 90.0</th>\n",
       "      <th>210.0, 225.0, 170.0</th>\n",
       "      <th>220.0, 195.0, 150.0</th>\n",
       "      <th>220.0, 235.0, 185.0</th>\n",
       "      <th>245.0, 250.0, 240.0</th>\n",
       "    </tr>\n",
       "    <tr>\n",
       "      <th>filename</th>\n",
       "      <th></th>\n",
       "      <th></th>\n",
       "      <th></th>\n",
       "      <th></th>\n",
       "      <th></th>\n",
       "      <th></th>\n",
       "      <th></th>\n",
       "      <th></th>\n",
       "      <th></th>\n",
       "      <th></th>\n",
       "      <th></th>\n",
       "      <th></th>\n",
       "      <th></th>\n",
       "      <th></th>\n",
       "      <th></th>\n",
       "      <th></th>\n",
       "      <th></th>\n",
       "      <th></th>\n",
       "      <th></th>\n",
       "      <th></th>\n",
       "      <th></th>\n",
       "    </tr>\n",
       "  </thead>\n",
       "  <tbody>\n",
       "    <tr>\n",
       "      <th>ksn72cinsy151.png</th>\n",
       "      <td>0.222822</td>\n",
       "      <td>0.016111</td>\n",
       "      <td>0.038656</td>\n",
       "      <td>0.071644</td>\n",
       "      <td>0.0188</td>\n",
       "      <td>0.019689</td>\n",
       "      <td>0.005122</td>\n",
       "      <td>0.034922</td>\n",
       "      <td>0.013067</td>\n",
       "      <td>0.022033</td>\n",
       "      <td>...</td>\n",
       "      <td>NaN</td>\n",
       "      <td>NaN</td>\n",
       "      <td>NaN</td>\n",
       "      <td>NaN</td>\n",
       "      <td>NaN</td>\n",
       "      <td>NaN</td>\n",
       "      <td>NaN</td>\n",
       "      <td>NaN</td>\n",
       "      <td>NaN</td>\n",
       "      <td>NaN</td>\n",
       "    </tr>\n",
       "    <tr>\n",
       "      <th>ik4d2mpi1fo41.png</th>\n",
       "      <td>0.000000</td>\n",
       "      <td>0.000000</td>\n",
       "      <td>0.000000</td>\n",
       "      <td>0.000000</td>\n",
       "      <td>0.0000</td>\n",
       "      <td>0.000000</td>\n",
       "      <td>0.000000</td>\n",
       "      <td>0.000000</td>\n",
       "      <td>0.000000</td>\n",
       "      <td>0.000000</td>\n",
       "      <td>...</td>\n",
       "      <td>NaN</td>\n",
       "      <td>NaN</td>\n",
       "      <td>NaN</td>\n",
       "      <td>NaN</td>\n",
       "      <td>NaN</td>\n",
       "      <td>NaN</td>\n",
       "      <td>NaN</td>\n",
       "      <td>NaN</td>\n",
       "      <td>NaN</td>\n",
       "      <td>NaN</td>\n",
       "    </tr>\n",
       "    <tr>\n",
       "      <th>y5pddy7h16x41.png</th>\n",
       "      <td>0.000000</td>\n",
       "      <td>0.000000</td>\n",
       "      <td>0.000000</td>\n",
       "      <td>0.000000</td>\n",
       "      <td>0.0000</td>\n",
       "      <td>0.000000</td>\n",
       "      <td>0.000000</td>\n",
       "      <td>0.000000</td>\n",
       "      <td>0.000000</td>\n",
       "      <td>0.000000</td>\n",
       "      <td>...</td>\n",
       "      <td>NaN</td>\n",
       "      <td>NaN</td>\n",
       "      <td>NaN</td>\n",
       "      <td>NaN</td>\n",
       "      <td>NaN</td>\n",
       "      <td>NaN</td>\n",
       "      <td>NaN</td>\n",
       "      <td>NaN</td>\n",
       "      <td>NaN</td>\n",
       "      <td>NaN</td>\n",
       "    </tr>\n",
       "    <tr>\n",
       "      <th>jrk0eogay8s41.png</th>\n",
       "      <td>0.137678</td>\n",
       "      <td>0.000000</td>\n",
       "      <td>0.000000</td>\n",
       "      <td>0.000000</td>\n",
       "      <td>0.0000</td>\n",
       "      <td>0.000000</td>\n",
       "      <td>0.000000</td>\n",
       "      <td>0.000000</td>\n",
       "      <td>0.000000</td>\n",
       "      <td>0.000000</td>\n",
       "      <td>...</td>\n",
       "      <td>NaN</td>\n",
       "      <td>NaN</td>\n",
       "      <td>NaN</td>\n",
       "      <td>NaN</td>\n",
       "      <td>NaN</td>\n",
       "      <td>NaN</td>\n",
       "      <td>NaN</td>\n",
       "      <td>NaN</td>\n",
       "      <td>NaN</td>\n",
       "      <td>NaN</td>\n",
       "    </tr>\n",
       "    <tr>\n",
       "      <th>7c3lyx28tzt41.png</th>\n",
       "      <td>0.000000</td>\n",
       "      <td>0.000000</td>\n",
       "      <td>0.000000</td>\n",
       "      <td>0.000000</td>\n",
       "      <td>0.0000</td>\n",
       "      <td>0.000000</td>\n",
       "      <td>0.000000</td>\n",
       "      <td>0.000000</td>\n",
       "      <td>0.000000</td>\n",
       "      <td>0.000000</td>\n",
       "      <td>...</td>\n",
       "      <td>NaN</td>\n",
       "      <td>NaN</td>\n",
       "      <td>NaN</td>\n",
       "      <td>NaN</td>\n",
       "      <td>NaN</td>\n",
       "      <td>NaN</td>\n",
       "      <td>NaN</td>\n",
       "      <td>NaN</td>\n",
       "      <td>NaN</td>\n",
       "      <td>NaN</td>\n",
       "    </tr>\n",
       "    <tr>\n",
       "      <th>...</th>\n",
       "      <td>...</td>\n",
       "      <td>...</td>\n",
       "      <td>...</td>\n",
       "      <td>...</td>\n",
       "      <td>...</td>\n",
       "      <td>...</td>\n",
       "      <td>...</td>\n",
       "      <td>...</td>\n",
       "      <td>...</td>\n",
       "      <td>...</td>\n",
       "      <td>...</td>\n",
       "      <td>...</td>\n",
       "      <td>...</td>\n",
       "      <td>...</td>\n",
       "      <td>...</td>\n",
       "      <td>...</td>\n",
       "      <td>...</td>\n",
       "      <td>...</td>\n",
       "      <td>...</td>\n",
       "      <td>...</td>\n",
       "      <td>...</td>\n",
       "    </tr>\n",
       "    <tr>\n",
       "      <th>23tuxt9bkev41.png</th>\n",
       "      <td>0.000000</td>\n",
       "      <td>NaN</td>\n",
       "      <td>NaN</td>\n",
       "      <td>0.000000</td>\n",
       "      <td>NaN</td>\n",
       "      <td>0.000000</td>\n",
       "      <td>NaN</td>\n",
       "      <td>NaN</td>\n",
       "      <td>NaN</td>\n",
       "      <td>0.000000</td>\n",
       "      <td>...</td>\n",
       "      <td>0.000000</td>\n",
       "      <td>0.000000</td>\n",
       "      <td>0.000</td>\n",
       "      <td>0.000</td>\n",
       "      <td>0.000000</td>\n",
       "      <td>0.000000</td>\n",
       "      <td>0.0000</td>\n",
       "      <td>0.000000</td>\n",
       "      <td>0.000000</td>\n",
       "      <td>0.000000</td>\n",
       "    </tr>\n",
       "    <tr>\n",
       "      <th>7o0coqjaqfo41.png</th>\n",
       "      <td>0.033233</td>\n",
       "      <td>NaN</td>\n",
       "      <td>NaN</td>\n",
       "      <td>0.000000</td>\n",
       "      <td>NaN</td>\n",
       "      <td>0.000000</td>\n",
       "      <td>NaN</td>\n",
       "      <td>NaN</td>\n",
       "      <td>NaN</td>\n",
       "      <td>0.000000</td>\n",
       "      <td>...</td>\n",
       "      <td>0.000000</td>\n",
       "      <td>0.000000</td>\n",
       "      <td>0.000</td>\n",
       "      <td>0.000</td>\n",
       "      <td>0.000000</td>\n",
       "      <td>0.000000</td>\n",
       "      <td>0.0000</td>\n",
       "      <td>0.000000</td>\n",
       "      <td>0.000000</td>\n",
       "      <td>0.000000</td>\n",
       "    </tr>\n",
       "    <tr>\n",
       "      <th>w0ddyr9atvu41.png</th>\n",
       "      <td>0.000000</td>\n",
       "      <td>NaN</td>\n",
       "      <td>NaN</td>\n",
       "      <td>0.000000</td>\n",
       "      <td>NaN</td>\n",
       "      <td>0.000000</td>\n",
       "      <td>NaN</td>\n",
       "      <td>NaN</td>\n",
       "      <td>NaN</td>\n",
       "      <td>0.000000</td>\n",
       "      <td>...</td>\n",
       "      <td>0.061411</td>\n",
       "      <td>0.060656</td>\n",
       "      <td>0.000</td>\n",
       "      <td>0.000</td>\n",
       "      <td>0.000000</td>\n",
       "      <td>0.000000</td>\n",
       "      <td>0.0000</td>\n",
       "      <td>0.000000</td>\n",
       "      <td>0.000000</td>\n",
       "      <td>0.000000</td>\n",
       "    </tr>\n",
       "    <tr>\n",
       "      <th>2v9ke0u7u3251.png</th>\n",
       "      <td>0.000000</td>\n",
       "      <td>NaN</td>\n",
       "      <td>NaN</td>\n",
       "      <td>0.000000</td>\n",
       "      <td>NaN</td>\n",
       "      <td>0.000000</td>\n",
       "      <td>NaN</td>\n",
       "      <td>NaN</td>\n",
       "      <td>NaN</td>\n",
       "      <td>0.000000</td>\n",
       "      <td>...</td>\n",
       "      <td>0.000000</td>\n",
       "      <td>0.000000</td>\n",
       "      <td>0.009</td>\n",
       "      <td>0.005</td>\n",
       "      <td>0.024444</td>\n",
       "      <td>0.021678</td>\n",
       "      <td>0.0679</td>\n",
       "      <td>0.064111</td>\n",
       "      <td>0.067678</td>\n",
       "      <td>0.068044</td>\n",
       "    </tr>\n",
       "    <tr>\n",
       "      <th>stvociaym2o41.png</th>\n",
       "      <td>0.000000</td>\n",
       "      <td>NaN</td>\n",
       "      <td>NaN</td>\n",
       "      <td>0.000000</td>\n",
       "      <td>NaN</td>\n",
       "      <td>0.000000</td>\n",
       "      <td>NaN</td>\n",
       "      <td>NaN</td>\n",
       "      <td>NaN</td>\n",
       "      <td>0.000000</td>\n",
       "      <td>...</td>\n",
       "      <td>0.000000</td>\n",
       "      <td>0.000000</td>\n",
       "      <td>0.000</td>\n",
       "      <td>0.000</td>\n",
       "      <td>0.000000</td>\n",
       "      <td>0.000000</td>\n",
       "      <td>0.0000</td>\n",
       "      <td>0.000000</td>\n",
       "      <td>0.000000</td>\n",
       "      <td>0.000000</td>\n",
       "    </tr>\n",
       "  </tbody>\n",
       "</table>\n",
       "<p>1597 rows × 17947 columns</p>\n",
       "</div>"
      ],
      "text/plain": [
       "                   0.0, 0.0, 0.0  110.0, 80.0, 45.0  115.0, 110.0, 105.0  \\\n",
       "filename                                                                   \n",
       "ksn72cinsy151.png       0.222822           0.016111             0.038656   \n",
       "ik4d2mpi1fo41.png       0.000000           0.000000             0.000000   \n",
       "y5pddy7h16x41.png       0.000000           0.000000             0.000000   \n",
       "jrk0eogay8s41.png       0.137678           0.000000             0.000000   \n",
       "7c3lyx28tzt41.png       0.000000           0.000000             0.000000   \n",
       "...                          ...                ...                  ...   \n",
       "23tuxt9bkev41.png       0.000000                NaN                  NaN   \n",
       "7o0coqjaqfo41.png       0.033233                NaN                  NaN   \n",
       "w0ddyr9atvu41.png       0.000000                NaN                  NaN   \n",
       "2v9ke0u7u3251.png       0.000000                NaN                  NaN   \n",
       "stvociaym2o41.png       0.000000                NaN                  NaN   \n",
       "\n",
       "                   15.0, 15.0, 10.0  155.0, 115.0, 70.0  165.0, 155.0, 150.0  \\\n",
       "filename                                                                       \n",
       "ksn72cinsy151.png          0.071644              0.0188             0.019689   \n",
       "ik4d2mpi1fo41.png          0.000000              0.0000             0.000000   \n",
       "y5pddy7h16x41.png          0.000000              0.0000             0.000000   \n",
       "jrk0eogay8s41.png          0.000000              0.0000             0.000000   \n",
       "7c3lyx28tzt41.png          0.000000              0.0000             0.000000   \n",
       "...                             ...                 ...                  ...   \n",
       "23tuxt9bkev41.png          0.000000                 NaN             0.000000   \n",
       "7o0coqjaqfo41.png          0.000000                 NaN             0.000000   \n",
       "w0ddyr9atvu41.png          0.000000                 NaN             0.000000   \n",
       "2v9ke0u7u3251.png          0.000000                 NaN             0.000000   \n",
       "stvociaym2o41.png          0.000000                 NaN             0.000000   \n",
       "\n",
       "                   165.0, 40.0, 45.0  205.0, 150.0, 85.0  205.0, 185.0, 65.0  \\\n",
       "filename                                                                       \n",
       "ksn72cinsy151.png           0.005122            0.034922            0.013067   \n",
       "ik4d2mpi1fo41.png           0.000000            0.000000            0.000000   \n",
       "y5pddy7h16x41.png           0.000000            0.000000            0.000000   \n",
       "jrk0eogay8s41.png           0.000000            0.000000            0.000000   \n",
       "7c3lyx28tzt41.png           0.000000            0.000000            0.000000   \n",
       "...                              ...                 ...                 ...   \n",
       "23tuxt9bkev41.png                NaN                 NaN                 NaN   \n",
       "7o0coqjaqfo41.png                NaN                 NaN                 NaN   \n",
       "w0ddyr9atvu41.png                NaN                 NaN                 NaN   \n",
       "2v9ke0u7u3251.png                NaN                 NaN                 NaN   \n",
       "stvociaym2o41.png                NaN                 NaN                 NaN   \n",
       "\n",
       "                   210.0, 205.0, 200.0  ...  75.0, 165.0, 35.0  \\\n",
       "filename                                ...                      \n",
       "ksn72cinsy151.png             0.022033  ...                NaN   \n",
       "ik4d2mpi1fo41.png             0.000000  ...                NaN   \n",
       "y5pddy7h16x41.png             0.000000  ...                NaN   \n",
       "jrk0eogay8s41.png             0.000000  ...                NaN   \n",
       "7c3lyx28tzt41.png             0.000000  ...                NaN   \n",
       "...                                ...  ...                ...   \n",
       "23tuxt9bkev41.png             0.000000  ...           0.000000   \n",
       "7o0coqjaqfo41.png             0.000000  ...           0.000000   \n",
       "w0ddyr9atvu41.png             0.000000  ...           0.061411   \n",
       "2v9ke0u7u3251.png             0.000000  ...           0.000000   \n",
       "stvociaym2o41.png             0.000000  ...           0.000000   \n",
       "\n",
       "                   85.0, 120.0, 35.0  130.0, 100.0, 125.0  145.0, 45.0, 5.0  \\\n",
       "filename                                                                      \n",
       "ksn72cinsy151.png                NaN                  NaN               NaN   \n",
       "ik4d2mpi1fo41.png                NaN                  NaN               NaN   \n",
       "y5pddy7h16x41.png                NaN                  NaN               NaN   \n",
       "jrk0eogay8s41.png                NaN                  NaN               NaN   \n",
       "7c3lyx28tzt41.png                NaN                  NaN               NaN   \n",
       "...                              ...                  ...               ...   \n",
       "23tuxt9bkev41.png           0.000000                0.000             0.000   \n",
       "7o0coqjaqfo41.png           0.000000                0.000             0.000   \n",
       "w0ddyr9atvu41.png           0.060656                0.000             0.000   \n",
       "2v9ke0u7u3251.png           0.000000                0.009             0.005   \n",
       "stvociaym2o41.png           0.000000                0.000             0.000   \n",
       "\n",
       "                   180.0, 190.0, 135.0  195.0, 145.0, 90.0  \\\n",
       "filename                                                     \n",
       "ksn72cinsy151.png                  NaN                 NaN   \n",
       "ik4d2mpi1fo41.png                  NaN                 NaN   \n",
       "y5pddy7h16x41.png                  NaN                 NaN   \n",
       "jrk0eogay8s41.png                  NaN                 NaN   \n",
       "7c3lyx28tzt41.png                  NaN                 NaN   \n",
       "...                                ...                 ...   \n",
       "23tuxt9bkev41.png             0.000000            0.000000   \n",
       "7o0coqjaqfo41.png             0.000000            0.000000   \n",
       "w0ddyr9atvu41.png             0.000000            0.000000   \n",
       "2v9ke0u7u3251.png             0.024444            0.021678   \n",
       "stvociaym2o41.png             0.000000            0.000000   \n",
       "\n",
       "                   210.0, 225.0, 170.0  220.0, 195.0, 150.0  \\\n",
       "filename                                                      \n",
       "ksn72cinsy151.png                  NaN                  NaN   \n",
       "ik4d2mpi1fo41.png                  NaN                  NaN   \n",
       "y5pddy7h16x41.png                  NaN                  NaN   \n",
       "jrk0eogay8s41.png                  NaN                  NaN   \n",
       "7c3lyx28tzt41.png                  NaN                  NaN   \n",
       "...                                ...                  ...   \n",
       "23tuxt9bkev41.png               0.0000             0.000000   \n",
       "7o0coqjaqfo41.png               0.0000             0.000000   \n",
       "w0ddyr9atvu41.png               0.0000             0.000000   \n",
       "2v9ke0u7u3251.png               0.0679             0.064111   \n",
       "stvociaym2o41.png               0.0000             0.000000   \n",
       "\n",
       "                   220.0, 235.0, 185.0  245.0, 250.0, 240.0  \n",
       "filename                                                     \n",
       "ksn72cinsy151.png                  NaN                  NaN  \n",
       "ik4d2mpi1fo41.png                  NaN                  NaN  \n",
       "y5pddy7h16x41.png                  NaN                  NaN  \n",
       "jrk0eogay8s41.png                  NaN                  NaN  \n",
       "7c3lyx28tzt41.png                  NaN                  NaN  \n",
       "...                                ...                  ...  \n",
       "23tuxt9bkev41.png             0.000000             0.000000  \n",
       "7o0coqjaqfo41.png             0.000000             0.000000  \n",
       "w0ddyr9atvu41.png             0.000000             0.000000  \n",
       "2v9ke0u7u3251.png             0.067678             0.068044  \n",
       "stvociaym2o41.png             0.000000             0.000000  \n",
       "\n",
       "[1597 rows x 17947 columns]"
      ]
     },
     "execution_count": 175,
     "metadata": {},
     "output_type": "execute_result"
    }
   ],
   "source": [
    "X_color/(300*300)"
   ]
  },
  {
   "cell_type": "code",
   "execution_count": 178,
   "metadata": {},
   "outputs": [],
   "source": [
    "X_cw_tfidf=X_color/(300*300)"
   ]
  },
  {
   "cell_type": "code",
   "execution_count": 206,
   "metadata": {},
   "outputs": [
    {
     "data": {
      "text/plain": [
       "32000"
      ]
     },
     "execution_count": 206,
     "metadata": {},
     "output_type": "execute_result"
    }
   ],
   "source": [
    "1600*20"
   ]
  },
  {
   "cell_type": "code",
   "execution_count": 185,
   "metadata": {},
   "outputs": [
    {
     "name": "stdout",
     "output_type": "stream",
     "text": [
      "<class 'pandas.core.frame.DataFrame'>\n",
      "Index: 1597 entries, ksn72cinsy151.png to stvociaym2o41.png\n",
      "Columns: 17947 entries, 0.0, 0.0, 0.0 to 245.0, 250.0, 240.0\n",
      "dtypes: float64(17947)\n",
      "memory usage: 218.7+ MB\n"
     ]
    }
   ],
   "source": [
    "X_cw_tfidf.info()"
   ]
  },
  {
   "cell_type": "code",
   "execution_count": null,
   "metadata": {},
   "outputs": [],
   "source": []
  },
  {
   "cell_type": "code",
   "execution_count": 186,
   "metadata": {},
   "outputs": [],
   "source": [
    "X_cw_tfidf=pd.DataFrame(X_cw_tfidf)\n",
    "X_cw_tfidf=X_cw_tfidf.fillna(X_cw_tfidf.mean())"
   ]
  },
  {
   "cell_type": "code",
   "execution_count": 187,
   "metadata": {
    "scrolled": true
   },
   "outputs": [],
   "source": [
    "y=pd.get_dummies(y)\n",
    "y_nb=y.iloc[:,0]"
   ]
  },
  {
   "cell_type": "code",
   "execution_count": 76,
   "metadata": {},
   "outputs": [
    {
     "data": {
      "text/plain": [
       "id\n",
       "gtli3b    1\n",
       "fnj4e5    1\n",
       "gemj1h    1\n",
       "fzhpqt    1\n",
       "g4v23f    1\n",
       "         ..\n",
       "g9674v    0\n",
       "fnl57y    0\n",
       "g7mis1    0\n",
       "gtz9fa    0\n",
       "fmjv7l    0\n",
       "Name: 0, Length: 1597, dtype: uint8"
      ]
     },
     "execution_count": 76,
     "metadata": {},
     "output_type": "execute_result"
    }
   ],
   "source": [
    "y_nb"
   ]
  },
  {
   "cell_type": "code",
   "execution_count": 188,
   "metadata": {},
   "outputs": [
    {
     "data": {
      "text/plain": [
       "MultinomialNB()"
      ]
     },
     "execution_count": 188,
     "metadata": {},
     "output_type": "execute_result"
    }
   ],
   "source": [
    "nb_model=MultinomialNB()\n",
    "nb_model.fit(X_cw_tfidf, y_nb)"
   ]
  },
  {
   "cell_type": "code",
   "execution_count": 190,
   "metadata": {},
   "outputs": [],
   "source": [
    "col_names=X_cw_tfidf.columns"
   ]
  },
  {
   "cell_type": "code",
   "execution_count": 191,
   "metadata": {},
   "outputs": [
    {
     "name": "stdout",
     "output_type": "stream",
     "text": [
      "\n",
      "Target: 1, name: AnimalCrossing\n",
      "Top 15 tokens:  ['255.0, 255.0, 255.0', '0.0, 0.0, 0.0', '255.0, 250.0, 225.0', '255.0, 250.0, 230.0', '5.0, 0.0, 0.0', '0.0, 0.0, 5.0', '255.0, 255.0, 250.0', '10.0, 15.0, 30.0', '15.0, 20.0, 35.0', '245.0, 245.0, 245.0', '250.0, 250.0, 250.0', '10.0, 0.0, 0.0', '250.0, 255.0, 255.0', '255.0, 225.0, 230.0', '0.0, 10.0, 25.0']\n"
     ]
    }
   ],
   "source": [
    "n = 15\n",
    "feature_words = col_names\n",
    "print(f\"\\nTarget: {1}, name: {'AnimalCrossing'}\")\n",
    "log_prob = nb_model.feature_log_prob_[1]\n",
    "i_topn = np.argsort(log_prob)[::-1][:n]\n",
    "acnh_col=[np.e**log_prob[i] for i in i_topn]\n",
    "colors_acnh_words = [feature_words[i] for i in i_topn]\n",
    "print(f\"Top {n} tokens: \", colors_acnh_words)"
   ]
  },
  {
   "cell_type": "code",
   "execution_count": 192,
   "metadata": {},
   "outputs": [
    {
     "name": "stdout",
     "output_type": "stream",
     "text": [
      "\n",
      "Target: 0, name: Doom\n",
      "Top 15 tokens:  ['255.0, 255.0, 255.0', '0.0, 0.0, 0.0', '5.0, 0.0, 0.0', '20.0, 30.0, 40.0', '15.0, 15.0, 15.0', '0.0, 0.0, 215.0', '25.0, 25.0, 25.0', '10.0, 0.0, 0.0', '0.0, 0.0, 220.0', '10.0, 10.0, 10.0', '255.0, 255.0, 250.0', '250.0, 250.0, 250.0', '245.0, 245.0, 245.0', '20.0, 20.0, 20.0', '215.0, 215.0, 215.0']\n"
     ]
    }
   ],
   "source": [
    "print(f\"\\nTarget: {0}, name: {'Doom'}\")\n",
    "log_prob = nb_model.feature_log_prob_[0]\n",
    "i_topn = np.argsort(log_prob)[::-1][:n]\n",
    "doom_col=[np.e**log_prob[i] for i in i_topn]\n",
    "colors_doom_words = [feature_words[i] for i in i_topn]\n",
    "print(f\"Top {n} tokens: \", colors_doom_words)"
   ]
  },
  {
   "cell_type": "code",
   "execution_count": null,
   "metadata": {},
   "outputs": [],
   "source": []
  },
  {
   "cell_type": "code",
   "execution_count": 193,
   "metadata": {},
   "outputs": [],
   "source": [
    "acnh_col_word=acnh_col/np.sum(acnh_col)\n",
    "doom_col_word=doom_col/np.sum(doom_col)"
   ]
  },
  {
   "cell_type": "code",
   "execution_count": 194,
   "metadata": {},
   "outputs": [
    {
     "data": {
      "text/plain": [
       "array([0.51685648, 0.09849809, 0.06370662, 0.0563739 , 0.03219936,\n",
       "       0.02942195, 0.02923882, 0.02706121, 0.02433144, 0.02265209,\n",
       "       0.02133314, 0.02095412, 0.01939813, 0.01906922, 0.01890543])"
      ]
     },
     "execution_count": 194,
     "metadata": {},
     "output_type": "execute_result"
    }
   ],
   "source": [
    "acnh_col_word"
   ]
  },
  {
   "cell_type": "markdown",
   "metadata": {},
   "source": [
    "acnh_body_norm\n",
    "doom_body_norm\n",
    "acnh_col_word\n",
    "doom_col_word\n",
    "acnh_cols\n",
    "doom_cols\n",
    "acnh_titles_norm\n",
    "doom_titles_norm"
   ]
  },
  {
   "cell_type": "code",
   "execution_count": 196,
   "metadata": {},
   "outputs": [],
   "source": [
    "ac_words=['#4B413C',\n",
    " '#69555F',\n",
    " '#A09687',\n",
    " '#281E19',\n",
    " '#E1D2D7',\n",
    " '#5F324B',\n",
    " '#372D5A',\n",
    " '#EBEBEB',\n",
    " '#3C2D37',\n",
    " '#C8BEB9',\n",
    " '#CDB941',\n",
    " '#8C7382',\n",
    " '#FF4673',\n",
    " '#1E553C',\n",
    " '#32DC0A']"
   ]
  },
  {
   "cell_type": "code",
   "execution_count": 200,
   "metadata": {},
   "outputs": [
    {
     "data": {
      "image/png": "[encoded data removed]",
      "text/plain": [
       "<Figure size 432x288 with 1 Axes>"
      ]
     },
     "metadata": {},
     "output_type": "display_data"
    }
   ],
   "source": [
    "plt.pie(acnh_body_norm, colors=acw, labels=list(body_words_acnh), \n",
    "        labeldistance=0.85, radius=2.5, startangle=0, \n",
    "        counterclock=False, textprops={'fontsize': 14, 'family': 'fantasy'})\n",
    "plt.pie(acnh_titles, colors=act, labels=list(title_words_acnh), \n",
    "        labeldistance=0.80 ,radius=2, startangle=0, \n",
    "        counterclock=False, textprops={'fontsize': 14, 'family': 'fantasy'})\n",
    "plt.pie(acnh_col_word, colors=ac_words ,radius=1.5, startangle=0, counterclock=False)\n",
    "centre_circle = plt.Circle((0,0),0.75,color='black', fc='white',linewidth=0)\n",
    "fig = plt.gcf()\n",
    "fig.gca().add_artist(centre_circle)\n",
    "plt.title('Animal Crossing Colors, Title and Body Words', pad=120)\n",
    "plt.savefig('../graphs/a_c_t_b.png', bbox_inches='tight')"
   ]
  },
  {
   "cell_type": "code",
   "execution_count": 201,
   "metadata": {},
   "outputs": [],
   "source": [
    "dcwords=['#0F0A0F',\n",
    " '#BEF096',\n",
    " '#28E128',\n",
    " '#78EB64',\n",
    " '#AADC28',\n",
    " '#190ADC',\n",
    " '#5F41E6',\n",
    " '#411EE1',\n",
    " '#96F082',\n",
    " '#000000',\n",
    " '#736E69',\n",
    " '#5523E1',\n",
    " '#AFAFAF',\n",
    " '#3C41E6',\n",
    " '#C3DCFF']"
   ]
  },
  {
   "cell_type": "code",
   "execution_count": 205,
   "metadata": {},
   "outputs": [
    {
     "data": {
      "image/png": "[encoded data removed]",
      "text/plain": [
       "<Figure size 432x288 with 1 Axes>"
      ]
     },
     "metadata": {},
     "output_type": "display_data"
    }
   ],
   "source": [
    "plt.pie(doom_body_norm, colors=dcw, labels=body_words_doom, \n",
    "        labeldistance=0.85, radius=2.5, startangle=0, \n",
    "        counterclock=False, textprops={'fontsize': 14, 'fontname': 'Courier'})\n",
    "plt.pie(doom_titles, colors=dtc, labels=list(title_words_doom), \n",
    "        labeldistance=0.80 ,radius=2, startangle=0, \n",
    "        counterclock=False, textprops={'fontsize': 12, 'fontname': 'Courier'})\n",
    "plt.pie(doom_col_word, colors=dcwords ,radius=1.5, startangle=0, counterclock=False)\n",
    "centre_circle = plt.Circle((0,0),0.75,color='black', fc='white',linewidth=0)\n",
    "fig = plt.gcf()\n",
    "fig.gca().add_artist(centre_circle)\n",
    "plt.title('Doom Colors, Body and Title Words', pad=120);\n",
    "plt.savefig('../graphs/d_c_t_b_.png', bbox_inches='tight')"
   ]
  },
  {
   "cell_type": "code",
   "execution_count": 232,
   "metadata": {},
   "outputs": [],
   "source": [
    "plot_list=[acnh_body_norm,\n",
    "doom_body_norm,\n",
    "acnh_col_word,\n",
    "doom_col_word,\n",
    "acnh_cols,\n",
    "doom_cols,\n",
    "acnh_titles_norm,\n",
    "doom_titles_norm]"
   ]
  },
  {
   "cell_type": "code",
   "execution_count": 255,
   "metadata": {},
   "outputs": [],
   "source": [
    "d_t_n=doom_titles_norm.append(d)\n",
    "a_b_n=acnh_body_norm.append(d)\n",
    "d_b_n=doom_body_norm.append(d)\n",
    "a_c_w=acnh_col_word.append(d)\n",
    "d_c_w=doom_col_word.append(d)\n",
    "a_c=acnh_cols.append(d)\n",
    "d_c=doom_cols.append(d)\n",
    "a_t_n=acnh_titles_norm.append(d)\n",
    "d_t_n=doom_titles_norm.append(d)"
   ]
  },
  {
   "cell_type": "code",
   "execution_count": 440,
   "metadata": {},
   "outputs": [
    {
     "data": {
      "text/plain": [
       "0r         0.006519\n",
       "1r         0.006479\n",
       "2r         0.006385\n",
       "19count    0.918266\n",
       "1g         0.005584\n",
       "2g         0.005451\n",
       "4r         0.006174\n",
       "3r         0.006291\n",
       "1b         0.005549\n",
       "0b         0.005666\n",
       "0g         0.005666\n",
       "4g         0.005332\n",
       "6r         0.005801\n",
       "3g         0.005405\n",
       "2b         0.005435\n",
       "dtype: float64"
      ]
     },
     "execution_count": 440,
     "metadata": {},
     "output_type": "execute_result"
    }
   ],
   "source": [
    "doom_cols"
   ]
  },
  {
   "cell_type": "code",
   "execution_count": 248,
   "metadata": {},
   "outputs": [],
   "source": [
    "d=pd.Series({' ':1}, index=[' '])\n",
    "for plot in plot_list:\n",
    "    plot=plot.append(d)"
   ]
  },
  {
   "cell_type": "markdown",
   "metadata": {},
   "source": [
    "acnh_body_norm\n",
    "doom_body_norm\n",
    "acnh_col_word\n",
    "doom_col_word\n",
    "acnh_cols\n",
    "doom_cols\n",
    "acnh_titles_norm\n",
    "doom_titles_norm"
   ]
  },
  {
   "cell_type": "code",
   "execution_count": 226,
   "metadata": {},
   "outputs": [],
   "source": [
    "import matplotlib.pyplot as plt"
   ]
  },
  {
   "cell_type": "code",
   "execution_count": 320,
   "metadata": {},
   "outputs": [
    {
     "data": {
      "text/plain": [
       "15.0, 15.0, 10.0       0.034109\n",
       "190.0, 150.0, 240.0    0.001523\n",
       "40.0, 40.0, 225.0      0.004873\n",
       "120.0, 100.0, 235.0    0.001121\n",
       "170.0, 40.0, 220.0     0.000690\n",
       "25.0, 10.0, 220.0      0.002560\n",
       "95.0, 65.0, 230.0      0.002040\n",
       "65.0, 30.0, 225.0      0.001809\n",
       "150.0, 130.0, 240.0    0.003637\n",
       "0.0, 0.0, 0.0          0.924756\n",
       "115.0, 110.0, 105.0    0.005521\n",
       "85.0, 35.0, 225.0      0.002646\n",
       "175.0, 175.0, 175.0    0.011376\n",
       "60.0, 65.0, 230.0      0.002379\n",
       "195.0, 220.0, 255.0    0.000962\n",
       "dtype: float64"
      ]
     },
     "execution_count": 320,
     "metadata": {},
     "output_type": "execute_result"
    }
   ],
   "source": [
    "doom_col_word"
   ]
  },
  {
   "cell_type": "code",
   "execution_count": 325,
   "metadata": {},
   "outputs": [],
   "source": [
    "dc_=list(doom_col_word.index)"
   ]
  },
  {
   "cell_type": "code",
   "execution_count": 357,
   "metadata": {},
   "outputs": [
    {
     "data": {
      "text/plain": [
       "0.9411764705882353"
      ]
     },
     "execution_count": 357,
     "metadata": {},
     "output_type": "execute_result"
    }
   ],
   "source": [
    "240/255"
   ]
  },
  {
   "cell_type": "code",
   "execution_count": 362,
   "metadata": {},
   "outputs": [],
   "source": []
  },
  {
   "cell_type": "code",
   "execution_count": 57,
   "metadata": {},
   "outputs": [],
   "source": [
    "dcc_=['#C34130',\n",
    " '#A14130',\n",
    " '#A11D30',\n",
    " '#A18530',\n",
    " '#D28530',\n",
    " '#DF8530',\n",
    " '#DF7130',\n",
    " '#F06727',\n",
    " '#FF9301',\n",
    " '#EBAF16',\n",
    " '#EB9316',\n",
    " '#EB9330',\n",
    " '#EB0230',\n",
    " '#EB4C36',\n",
    " '#FCFFFF']"
   ]
  },
  {
   "cell_type": "code",
   "execution_count": 58,
   "metadata": {},
   "outputs": [],
   "source": [
    "dcc2_=['#51A1FC',\n",
    " '#518CFC',\n",
    " '#516EFC',\n",
    " '#000000',\n",
    " '#3B2BFC',\n",
    " '#4E515F',\n",
    " '#48635F',\n",
    " '#756D5F',\n",
    " '#8B898A',\n",
    " '#2F3002',\n",
    " '#2F413C',\n",
    " '#3B4168',\n",
    " '#484C68',\n",
    " '#2A4F77',\n",
    " '#2A2C77']"
   ]
  },
  {
   "cell_type": "code",
   "execution_count": 59,
   "metadata": {},
   "outputs": [],
   "source": [
    "dcc3_=['#FCFFC0',\n",
    " '#FCFF93',\n",
    " '#FCFF67',\n",
    " '#FCE83E',\n",
    " '#FCE816',\n",
    " '#FCD016',\n",
    " '#FCB916',\n",
    " '#FC9516',\n",
    " '#FC8116',\n",
    " '#CB8116',\n",
    " '#BC6E16',\n",
    " '#BC8316',\n",
    " '#BC9416',\n",
    " '#2E3C40',\n",
    " '#BEA92D']"
   ]
  },
  {
   "cell_type": "code",
   "execution_count": 426,
   "metadata": {},
   "outputs": [],
   "source": [
    "doom_labels=list(doom_cols.index)"
   ]
  },
  {
   "cell_type": "code",
   "execution_count": 428,
   "metadata": {},
   "outputs": [],
   "source": [
    "doom_labels= ['20th red',\n",
    " '19th red',\n",
    " '18th red',\n",
    " 'most common color',\n",
    " '20th green',\n",
    " '18th green',\n",
    " '16th red',\n",
    " '17th red',\n",
    " '19th blue',\n",
    " '20th blue',\n",
    " '20th green',\n",
    " '16th green',\n",
    " '14th red',\n",
    " '17th green',\n",
    " '18th blue']"
   ]
  },
  {
   "cell_type": "code",
   "execution_count": 431,
   "metadata": {},
   "outputs": [
    {
     "data": {
      "text/plain": [
       "doom        0.030761\n",
       "eternal     0.058716\n",
       "slayer      0.037699\n",
       "like        0.019544\n",
       "doomguy     0.038513\n",
       "rip         0.028418\n",
       "tear        0.028336\n",
       "just        0.050907\n",
       "time        0.090161\n",
       "marauder    0.047661\n",
       "oh          0.040248\n",
       "guy         0.038538\n",
       "demon       0.058277\n",
       "game        0.327709\n",
       "did         0.104510\n",
       "dtype: float64"
      ]
     },
     "execution_count": 431,
     "metadata": {},
     "output_type": "execute_result"
    }
   ],
   "source": [
    "doom_titles_norm"
   ]
  },
  {
   "cell_type": "code",
   "execution_count": 435,
   "metadata": {},
   "outputs": [
    {
     "data": {
      "image/png": "[encoded data removed]",
      "text/plain": [
       "<Figure size 432x288 with 1 Axes>"
      ]
     },
     "metadata": {},
     "output_type": "display_data"
    }
   ],
   "source": [
    "plt.pie(doom_body_norm, colors=dcc_, labels=list(doom_body_norm.index), labeldistance=0.85, radius=2.5, startangle=210, counterclock=False)\n",
    "plt.pie(doom_titles_norm, colors=dcc3_, labels=list(doom_titles_norm.index), labeldistance=0.80 ,radius=2, startangle=-45, counterclock=False)\n",
    "plt.pie(doom_col_word, colors=dc_ ,radius=1.5, startangle=12, counterclock=False)\n",
    "plt.pie(doom_cols, colors= dcc2_, radius=1.2, startangle=0, counterclock=False)\n",
    "centre_circle = plt.Circle((0,0),0.75,color='black', fc='white',linewidth=0)\n",
    "fig = plt.gcf()\n",
    "fig.gca().add_artist(centre_circle);"
   ]
  },
  {
   "cell_type": "code",
   "execution_count": 417,
   "metadata": {},
   "outputs": [],
   "source": [
    "import matplotlib as mpl\n",
    "mpl.rcParams['font.size'] = 12\n",
    "mpl.rcParams['font.sans-serif'] = ['DejaVu Sans']"
   ]
  },
  {
   "cell_type": "code",
   "execution_count": 377,
   "metadata": {},
   "outputs": [
    {
     "data": {
      "text/plain": [
       "['75.0, 65.0, 60.0',\n",
       " '105.0, 95.0, 85.0',\n",
       " '160.0, 150.0, 135.0',\n",
       " '40.0, 30.0, 25.0',\n",
       " '225.0, 215.0, 210.0',\n",
       " '95.0, 70.0, 50.0',\n",
       " '55.0, 90.0, 45.0',\n",
       " '235.0, 235.0, 235.0',\n",
       " '60.0, 55.0, 45.0',\n",
       " '200.0, 190.0, 185.0',\n",
       " '205.0, 185.0, 65.0',\n",
       " '140.0, 130.0, 115.0',\n",
       " '155.0, 115.0, 70.0',\n",
       " '30.0, 60.0, 85.0',\n",
       " '50.0, 10.0, 220.0']"
      ]
     },
     "execution_count": 377,
     "metadata": {},
     "output_type": "execute_result"
    }
   ],
   "source": [
    "ac_colors"
   ]
  },
  {
   "cell_type": "code",
   "execution_count": 60,
   "metadata": {},
   "outputs": [],
   "source": []
  },
  {
   "cell_type": "code",
   "execution_count": 61,
   "metadata": {},
   "outputs": [],
   "source": [
    "acc = ['#32DC0A',\n",
    " '#F5ECED',\n",
    " '#F5ECD6',\n",
    " '#F5E1C7',\n",
    " '#DACFAF',\n",
    " '#CDBCAF',\n",
    " '#C3ABA8',\n",
    " '#B2ABA8',\n",
    " '#9C9E9E',\n",
    " '#8C847E',\n",
    " '#8C8496',\n",
    " '#8C84A2',\n",
    " '#8C8FA2',\n",
    " '#8C9BA2',\n",
    " '#F0F3F5']"
   ]
  },
  {
   "cell_type": "code",
   "execution_count": 62,
   "metadata": {},
   "outputs": [],
   "source": [
    "act = ['#93A5A9',\n",
    " '#8ACD92',\n",
    " '#9DCD92',\n",
    " '#69CD92',\n",
    " '#7ACD92',\n",
    " '#7BFC47',\n",
    " '#98FC47',\n",
    " '#C0FC47',\n",
    " '#D3FC25',\n",
    " '#D3EC51',\n",
    " '#3BECA1',\n",
    " '#64C870',\n",
    " '#64B170',\n",
    " '#649270',\n",
    " '#647370']"
   ]
  },
  {
   "cell_type": "code",
   "execution_count": 63,
   "metadata": {},
   "outputs": [],
   "source": [
    "acw = ['#BEFF8C',\n",
    " '#DDFF8C',\n",
    " '#D08D90',\n",
    " '#D0DC90',\n",
    " '#D0DCAD',\n",
    " '#D0BEAD',\n",
    " '#F38FAD',\n",
    " '#F3ACC3',\n",
    " '#F3EAC3',\n",
    " '#C9EAC3',\n",
    " '#C0EAA1',\n",
    " '#A7FF6A',\n",
    " '#F9E0E5',\n",
    " '#ECECEB',\n",
    " '#6B6E75']"
   ]
  },
  {
   "cell_type": "code",
   "execution_count": 402,
   "metadata": {},
   "outputs": [
    {
     "data": {
      "text/plain": [
       "18b       0.034117\n",
       "14b       0.033284\n",
       "15b       0.033244\n",
       "17b       0.033268\n",
       "16b       0.033036\n",
       "18r       0.037113\n",
       "13b       0.033718\n",
       "12b       0.034426\n",
       "17r       0.037036\n",
       "15r       0.036994\n",
       "11b       0.034454\n",
       "14r       0.037689\n",
       "10b       0.035914\n",
       "16r       0.036812\n",
       "3count    0.508895\n",
       "dtype: float64"
      ]
     },
     "execution_count": 402,
     "metadata": {},
     "output_type": "execute_result"
    }
   ],
   "source": [
    "acnh_cols"
   ]
  },
  {
   "cell_type": "code",
   "execution_count": 439,
   "metadata": {},
   "outputs": [
    {
     "data": {
      "image/png": "[encoded data removed]",
      "text/plain": [
       "<Figure size 432x288 with 1 Axes>"
      ]
     },
     "metadata": {},
     "output_type": "display_data"
    }
   ],
   "source": [
    "explode=(0,0,0,0,0,0,0,0,0,0,0,0,0,0,0.1)\n",
    "plt.pie(acnh_body_norm, explode=explode, colors=acw, labels=list(acnh_body_norm.index), labeldistance=0.85, radius=2.5, startangle=0, counterclock=False)\n",
    "plt.pie(acnh_titles_norm, explode=explode, colors=act, labels=list(acnh_titles_norm.index), labeldistance=0.80 ,radius=2, startangle=0, counterclock=False)\n",
    "plt.pie(acnh_col_word, colors=ac_words ,radius=1.5, startangle=-55, counterclock=False)\n",
    "plt.pie(acnh_cols, colors= acc, radius=1.2, startangle=0, counterclock=False)\n",
    "centre_circle = plt.Circle((0,0),0.75,color='black', fc='white',linewidth=0)\n",
    "fig = plt.gcf()\n",
    "fig.gca().add_artist(centre_circle);"
   ]
  },
  {
   "cell_type": "code",
   "execution_count": null,
   "metadata": {},
   "outputs": [],
   "source": []
  }
 ],
 "metadata": {
  "kernelspec": {
   "display_name": "Python 3",
   "language": "python",
   "name": "python3"
  },
  "language_info": {
   "codemirror_mode": {
    "name": "ipython",
    "version": 3
   },
   "file_extension": ".py",
   "mimetype": "text/x-python",
   "name": "python",
   "nbconvert_exporter": "python",
   "pygments_lexer": "ipython3",
   "version": "3.8.3"
  }
 },
 "nbformat": 4,
 "nbformat_minor": 4
}
